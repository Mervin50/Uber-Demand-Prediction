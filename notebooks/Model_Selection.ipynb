{
  "cells": [
    {
      "cell_type": "code",
      "source": [
        "pip install mlflow"
      ],
      "metadata": {
        "colab": {
          "base_uri": "https://localhost:8080/"
        },
        "id": "OO8CTi0dlIMt",
        "outputId": "e7e0a11e-b7c2-44e2-f3ff-7ec98849a29c"
      },
      "id": "OO8CTi0dlIMt",
      "execution_count": 43,
      "outputs": [
        {
          "output_type": "stream",
          "name": "stdout",
          "text": [
            "Requirement already satisfied: mlflow in /usr/local/lib/python3.11/dist-packages (2.22.0)\n",
            "Requirement already satisfied: mlflow-skinny==2.22.0 in /usr/local/lib/python3.11/dist-packages (from mlflow) (2.22.0)\n",
            "Requirement already satisfied: Flask<4 in /usr/local/lib/python3.11/dist-packages (from mlflow) (3.1.0)\n",
            "Requirement already satisfied: Jinja2<4,>=2.11 in /usr/local/lib/python3.11/dist-packages (from mlflow) (3.1.6)\n",
            "Requirement already satisfied: alembic!=1.10.0,<2 in /usr/local/lib/python3.11/dist-packages (from mlflow) (1.15.2)\n",
            "Requirement already satisfied: docker<8,>=4.0.0 in /usr/local/lib/python3.11/dist-packages (from mlflow) (7.1.0)\n",
            "Requirement already satisfied: graphene<4 in /usr/local/lib/python3.11/dist-packages (from mlflow) (3.4.3)\n",
            "Requirement already satisfied: gunicorn<24 in /usr/local/lib/python3.11/dist-packages (from mlflow) (23.0.0)\n",
            "Requirement already satisfied: markdown<4,>=3.3 in /usr/local/lib/python3.11/dist-packages (from mlflow) (3.8)\n",
            "Requirement already satisfied: matplotlib<4 in /usr/local/lib/python3.11/dist-packages (from mlflow) (3.10.0)\n",
            "Requirement already satisfied: numpy<3 in /usr/local/lib/python3.11/dist-packages (from mlflow) (2.0.2)\n",
            "Requirement already satisfied: pandas<3 in /usr/local/lib/python3.11/dist-packages (from mlflow) (2.2.2)\n",
            "Requirement already satisfied: pyarrow<20,>=4.0.0 in /usr/local/lib/python3.11/dist-packages (from mlflow) (18.1.0)\n",
            "Requirement already satisfied: scikit-learn<2 in /usr/local/lib/python3.11/dist-packages (from mlflow) (1.6.1)\n",
            "Requirement already satisfied: scipy<2 in /usr/local/lib/python3.11/dist-packages (from mlflow) (1.15.2)\n",
            "Requirement already satisfied: sqlalchemy<3,>=1.4.0 in /usr/local/lib/python3.11/dist-packages (from mlflow) (2.0.40)\n",
            "Requirement already satisfied: cachetools<6,>=5.0.0 in /usr/local/lib/python3.11/dist-packages (from mlflow-skinny==2.22.0->mlflow) (5.5.2)\n",
            "Requirement already satisfied: click<9,>=7.0 in /usr/local/lib/python3.11/dist-packages (from mlflow-skinny==2.22.0->mlflow) (8.1.8)\n",
            "Requirement already satisfied: cloudpickle<4 in /usr/local/lib/python3.11/dist-packages (from mlflow-skinny==2.22.0->mlflow) (3.1.1)\n",
            "Requirement already satisfied: databricks-sdk<1,>=0.20.0 in /usr/local/lib/python3.11/dist-packages (from mlflow-skinny==2.22.0->mlflow) (0.52.0)\n",
            "Requirement already satisfied: fastapi<1 in /usr/local/lib/python3.11/dist-packages (from mlflow-skinny==2.22.0->mlflow) (0.115.12)\n",
            "Requirement already satisfied: gitpython<4,>=3.1.9 in /usr/local/lib/python3.11/dist-packages (from mlflow-skinny==2.22.0->mlflow) (3.1.44)\n",
            "Requirement already satisfied: importlib_metadata!=4.7.0,<9,>=3.7.0 in /usr/local/lib/python3.11/dist-packages (from mlflow-skinny==2.22.0->mlflow) (8.7.0)\n",
            "Requirement already satisfied: opentelemetry-api<3,>=1.9.0 in /usr/local/lib/python3.11/dist-packages (from mlflow-skinny==2.22.0->mlflow) (1.16.0)\n",
            "Requirement already satisfied: opentelemetry-sdk<3,>=1.9.0 in /usr/local/lib/python3.11/dist-packages (from mlflow-skinny==2.22.0->mlflow) (1.16.0)\n",
            "Requirement already satisfied: packaging<25 in /usr/local/lib/python3.11/dist-packages (from mlflow-skinny==2.22.0->mlflow) (24.2)\n",
            "Requirement already satisfied: protobuf<7,>=3.12.0 in /usr/local/lib/python3.11/dist-packages (from mlflow-skinny==2.22.0->mlflow) (5.29.4)\n",
            "Requirement already satisfied: pydantic<3,>=1.10.8 in /usr/local/lib/python3.11/dist-packages (from mlflow-skinny==2.22.0->mlflow) (2.11.3)\n",
            "Requirement already satisfied: pyyaml<7,>=5.1 in /usr/local/lib/python3.11/dist-packages (from mlflow-skinny==2.22.0->mlflow) (6.0.2)\n",
            "Requirement already satisfied: requests<3,>=2.17.3 in /usr/local/lib/python3.11/dist-packages (from mlflow-skinny==2.22.0->mlflow) (2.32.3)\n",
            "Requirement already satisfied: sqlparse<1,>=0.4.0 in /usr/local/lib/python3.11/dist-packages (from mlflow-skinny==2.22.0->mlflow) (0.5.3)\n",
            "Requirement already satisfied: typing-extensions<5,>=4.0.0 in /usr/local/lib/python3.11/dist-packages (from mlflow-skinny==2.22.0->mlflow) (4.13.2)\n",
            "Requirement already satisfied: uvicorn<1 in /usr/local/lib/python3.11/dist-packages (from mlflow-skinny==2.22.0->mlflow) (0.34.2)\n",
            "Requirement already satisfied: Mako in /usr/lib/python3/dist-packages (from alembic!=1.10.0,<2->mlflow) (1.1.3)\n",
            "Requirement already satisfied: urllib3>=1.26.0 in /usr/local/lib/python3.11/dist-packages (from docker<8,>=4.0.0->mlflow) (2.4.0)\n",
            "Requirement already satisfied: Werkzeug>=3.1 in /usr/local/lib/python3.11/dist-packages (from Flask<4->mlflow) (3.1.3)\n",
            "Requirement already satisfied: itsdangerous>=2.2 in /usr/local/lib/python3.11/dist-packages (from Flask<4->mlflow) (2.2.0)\n",
            "Requirement already satisfied: blinker>=1.9 in /usr/local/lib/python3.11/dist-packages (from Flask<4->mlflow) (1.9.0)\n",
            "Requirement already satisfied: graphql-core<3.3,>=3.1 in /usr/local/lib/python3.11/dist-packages (from graphene<4->mlflow) (3.2.4)\n",
            "Requirement already satisfied: graphql-relay<3.3,>=3.1 in /usr/local/lib/python3.11/dist-packages (from graphene<4->mlflow) (3.2.0)\n",
            "Requirement already satisfied: python-dateutil<3,>=2.7.0 in /usr/local/lib/python3.11/dist-packages (from graphene<4->mlflow) (2.9.0.post0)\n",
            "Requirement already satisfied: MarkupSafe>=2.0 in /usr/local/lib/python3.11/dist-packages (from Jinja2<4,>=2.11->mlflow) (3.0.2)\n",
            "Requirement already satisfied: contourpy>=1.0.1 in /usr/local/lib/python3.11/dist-packages (from matplotlib<4->mlflow) (1.3.2)\n",
            "Requirement already satisfied: cycler>=0.10 in /usr/local/lib/python3.11/dist-packages (from matplotlib<4->mlflow) (0.12.1)\n",
            "Requirement already satisfied: fonttools>=4.22.0 in /usr/local/lib/python3.11/dist-packages (from matplotlib<4->mlflow) (4.57.0)\n",
            "Requirement already satisfied: kiwisolver>=1.3.1 in /usr/local/lib/python3.11/dist-packages (from matplotlib<4->mlflow) (1.4.8)\n",
            "Requirement already satisfied: pillow>=8 in /usr/local/lib/python3.11/dist-packages (from matplotlib<4->mlflow) (11.2.1)\n",
            "Requirement already satisfied: pyparsing>=2.3.1 in /usr/local/lib/python3.11/dist-packages (from matplotlib<4->mlflow) (3.2.3)\n",
            "Requirement already satisfied: pytz>=2020.1 in /usr/local/lib/python3.11/dist-packages (from pandas<3->mlflow) (2025.2)\n",
            "Requirement already satisfied: tzdata>=2022.7 in /usr/local/lib/python3.11/dist-packages (from pandas<3->mlflow) (2025.2)\n",
            "Requirement already satisfied: joblib>=1.2.0 in /usr/local/lib/python3.11/dist-packages (from scikit-learn<2->mlflow) (1.4.2)\n",
            "Requirement already satisfied: threadpoolctl>=3.1.0 in /usr/local/lib/python3.11/dist-packages (from scikit-learn<2->mlflow) (3.6.0)\n",
            "Requirement already satisfied: greenlet>=1 in /usr/local/lib/python3.11/dist-packages (from sqlalchemy<3,>=1.4.0->mlflow) (3.2.1)\n",
            "Requirement already satisfied: google-auth~=2.0 in /usr/local/lib/python3.11/dist-packages (from databricks-sdk<1,>=0.20.0->mlflow-skinny==2.22.0->mlflow) (2.38.0)\n",
            "Requirement already satisfied: starlette<0.47.0,>=0.40.0 in /usr/local/lib/python3.11/dist-packages (from fastapi<1->mlflow-skinny==2.22.0->mlflow) (0.46.2)\n",
            "Requirement already satisfied: gitdb<5,>=4.0.1 in /usr/local/lib/python3.11/dist-packages (from gitpython<4,>=3.1.9->mlflow-skinny==2.22.0->mlflow) (4.0.12)\n",
            "Requirement already satisfied: zipp>=3.20 in /usr/local/lib/python3.11/dist-packages (from importlib_metadata!=4.7.0,<9,>=3.7.0->mlflow-skinny==2.22.0->mlflow) (3.21.0)\n",
            "Requirement already satisfied: deprecated>=1.2.6 in /usr/local/lib/python3.11/dist-packages (from opentelemetry-api<3,>=1.9.0->mlflow-skinny==2.22.0->mlflow) (1.2.18)\n",
            "Requirement already satisfied: setuptools>=16.0 in /usr/local/lib/python3.11/dist-packages (from opentelemetry-api<3,>=1.9.0->mlflow-skinny==2.22.0->mlflow) (75.2.0)\n",
            "Requirement already satisfied: opentelemetry-semantic-conventions==0.37b0 in /usr/local/lib/python3.11/dist-packages (from opentelemetry-sdk<3,>=1.9.0->mlflow-skinny==2.22.0->mlflow) (0.37b0)\n",
            "Requirement already satisfied: annotated-types>=0.6.0 in /usr/local/lib/python3.11/dist-packages (from pydantic<3,>=1.10.8->mlflow-skinny==2.22.0->mlflow) (0.7.0)\n",
            "Requirement already satisfied: pydantic-core==2.33.1 in /usr/local/lib/python3.11/dist-packages (from pydantic<3,>=1.10.8->mlflow-skinny==2.22.0->mlflow) (2.33.1)\n",
            "Requirement already satisfied: typing-inspection>=0.4.0 in /usr/local/lib/python3.11/dist-packages (from pydantic<3,>=1.10.8->mlflow-skinny==2.22.0->mlflow) (0.4.0)\n",
            "Requirement already satisfied: six>=1.5 in /usr/local/lib/python3.11/dist-packages (from python-dateutil<3,>=2.7.0->graphene<4->mlflow) (1.17.0)\n",
            "Requirement already satisfied: charset-normalizer<4,>=2 in /usr/local/lib/python3.11/dist-packages (from requests<3,>=2.17.3->mlflow-skinny==2.22.0->mlflow) (3.4.1)\n",
            "Requirement already satisfied: idna<4,>=2.5 in /usr/local/lib/python3.11/dist-packages (from requests<3,>=2.17.3->mlflow-skinny==2.22.0->mlflow) (3.10)\n",
            "Requirement already satisfied: certifi>=2017.4.17 in /usr/local/lib/python3.11/dist-packages (from requests<3,>=2.17.3->mlflow-skinny==2.22.0->mlflow) (2025.4.26)\n",
            "Requirement already satisfied: h11>=0.8 in /usr/local/lib/python3.11/dist-packages (from uvicorn<1->mlflow-skinny==2.22.0->mlflow) (0.16.0)\n",
            "Requirement already satisfied: wrapt<2,>=1.10 in /usr/local/lib/python3.11/dist-packages (from deprecated>=1.2.6->opentelemetry-api<3,>=1.9.0->mlflow-skinny==2.22.0->mlflow) (1.17.2)\n",
            "Requirement already satisfied: smmap<6,>=3.0.1 in /usr/local/lib/python3.11/dist-packages (from gitdb<5,>=4.0.1->gitpython<4,>=3.1.9->mlflow-skinny==2.22.0->mlflow) (5.0.2)\n",
            "Requirement already satisfied: pyasn1-modules>=0.2.1 in /usr/local/lib/python3.11/dist-packages (from google-auth~=2.0->databricks-sdk<1,>=0.20.0->mlflow-skinny==2.22.0->mlflow) (0.4.2)\n",
            "Requirement already satisfied: rsa<5,>=3.1.4 in /usr/local/lib/python3.11/dist-packages (from google-auth~=2.0->databricks-sdk<1,>=0.20.0->mlflow-skinny==2.22.0->mlflow) (4.9.1)\n",
            "Requirement already satisfied: anyio<5,>=3.6.2 in /usr/local/lib/python3.11/dist-packages (from starlette<0.47.0,>=0.40.0->fastapi<1->mlflow-skinny==2.22.0->mlflow) (4.9.0)\n",
            "Requirement already satisfied: sniffio>=1.1 in /usr/local/lib/python3.11/dist-packages (from anyio<5,>=3.6.2->starlette<0.47.0,>=0.40.0->fastapi<1->mlflow-skinny==2.22.0->mlflow) (1.3.1)\n",
            "Requirement already satisfied: pyasn1<0.7.0,>=0.6.1 in /usr/local/lib/python3.11/dist-packages (from pyasn1-modules>=0.2.1->google-auth~=2.0->databricks-sdk<1,>=0.20.0->mlflow-skinny==2.22.0->mlflow) (0.6.1)\n"
          ]
        }
      ]
    },
    {
      "cell_type": "code",
      "source": [
        "pip install optuna\n"
      ],
      "metadata": {
        "colab": {
          "base_uri": "https://localhost:8080/"
        },
        "id": "PsVUmGcCpi6s",
        "outputId": "6b28e83d-d566-4082-ec41-06c39ae6e4cd"
      },
      "id": "PsVUmGcCpi6s",
      "execution_count": 45,
      "outputs": [
        {
          "output_type": "stream",
          "name": "stdout",
          "text": [
            "Requirement already satisfied: optuna in /usr/local/lib/python3.11/dist-packages (4.3.0)\n",
            "Requirement already satisfied: alembic>=1.5.0 in /usr/local/lib/python3.11/dist-packages (from optuna) (1.15.2)\n",
            "Requirement already satisfied: colorlog in /usr/local/lib/python3.11/dist-packages (from optuna) (6.9.0)\n",
            "Requirement already satisfied: numpy in /usr/local/lib/python3.11/dist-packages (from optuna) (2.0.2)\n",
            "Requirement already satisfied: packaging>=20.0 in /usr/local/lib/python3.11/dist-packages (from optuna) (24.2)\n",
            "Requirement already satisfied: sqlalchemy>=1.4.2 in /usr/local/lib/python3.11/dist-packages (from optuna) (2.0.40)\n",
            "Requirement already satisfied: tqdm in /usr/local/lib/python3.11/dist-packages (from optuna) (4.67.1)\n",
            "Requirement already satisfied: PyYAML in /usr/local/lib/python3.11/dist-packages (from optuna) (6.0.2)\n",
            "Requirement already satisfied: Mako in /usr/lib/python3/dist-packages (from alembic>=1.5.0->optuna) (1.1.3)\n",
            "Requirement already satisfied: typing-extensions>=4.12 in /usr/local/lib/python3.11/dist-packages (from alembic>=1.5.0->optuna) (4.13.2)\n",
            "Requirement already satisfied: greenlet>=1 in /usr/local/lib/python3.11/dist-packages (from sqlalchemy>=1.4.2->optuna) (3.2.1)\n"
          ]
        }
      ]
    },
    {
      "cell_type": "code",
      "source": [
        "pip install dagshub"
      ],
      "metadata": {
        "colab": {
          "base_uri": "https://localhost:8080/"
        },
        "id": "K8cpIxwPmYah",
        "outputId": "6eb14c0b-1cfb-48f6-f956-9b0c9586ee3e"
      },
      "id": "K8cpIxwPmYah",
      "execution_count": 46,
      "outputs": [
        {
          "output_type": "stream",
          "name": "stdout",
          "text": [
            "Requirement already satisfied: dagshub in /usr/local/lib/python3.11/dist-packages (0.5.9)\n",
            "Requirement already satisfied: PyYAML>=5 in /usr/local/lib/python3.11/dist-packages (from dagshub) (6.0.2)\n",
            "Requirement already satisfied: appdirs>=1.4.4 in /usr/local/lib/python3.11/dist-packages (from dagshub) (1.4.4)\n",
            "Requirement already satisfied: click>=8.0.4 in /usr/local/lib/python3.11/dist-packages (from dagshub) (8.1.8)\n",
            "Requirement already satisfied: httpx>=0.23.0 in /usr/local/lib/python3.11/dist-packages (from dagshub) (0.28.1)\n",
            "Requirement already satisfied: GitPython>=3.1.29 in /usr/local/lib/python3.11/dist-packages (from dagshub) (3.1.44)\n",
            "Requirement already satisfied: rich>=13.1.0 in /usr/local/lib/python3.11/dist-packages (from dagshub) (13.9.4)\n",
            "Requirement already satisfied: dacite~=1.6.0 in /usr/local/lib/python3.11/dist-packages (from dagshub) (1.6.0)\n",
            "Requirement already satisfied: tenacity>=8.2.2 in /usr/local/lib/python3.11/dist-packages (from dagshub) (9.1.2)\n",
            "Requirement already satisfied: gql[requests] in /usr/local/lib/python3.11/dist-packages (from dagshub) (3.5.2)\n",
            "Requirement already satisfied: dataclasses-json in /usr/local/lib/python3.11/dist-packages (from dagshub) (0.6.7)\n",
            "Requirement already satisfied: pandas in /usr/local/lib/python3.11/dist-packages (from dagshub) (2.2.2)\n",
            "Requirement already satisfied: treelib>=1.6.4 in /usr/local/lib/python3.11/dist-packages (from dagshub) (1.7.1)\n",
            "Requirement already satisfied: pathvalidate>=3.0.0 in /usr/local/lib/python3.11/dist-packages (from dagshub) (3.2.3)\n",
            "Requirement already satisfied: python-dateutil in /usr/local/lib/python3.11/dist-packages (from dagshub) (2.9.0.post0)\n",
            "Requirement already satisfied: boto3 in /usr/local/lib/python3.11/dist-packages (from dagshub) (1.38.8)\n",
            "Requirement already satisfied: semver in /usr/local/lib/python3.11/dist-packages (from dagshub) (3.0.4)\n",
            "Requirement already satisfied: dagshub-annotation-converter>=0.1.5 in /usr/local/lib/python3.11/dist-packages (from dagshub) (0.1.9)\n",
            "Requirement already satisfied: lxml in /usr/local/lib/python3.11/dist-packages (from dagshub-annotation-converter>=0.1.5->dagshub) (5.4.0)\n",
            "Requirement already satisfied: pillow in /usr/local/lib/python3.11/dist-packages (from dagshub-annotation-converter>=0.1.5->dagshub) (11.2.1)\n",
            "Requirement already satisfied: pydantic>=2.0.0 in /usr/local/lib/python3.11/dist-packages (from dagshub-annotation-converter>=0.1.5->dagshub) (2.11.3)\n",
            "Requirement already satisfied: typing-extensions in /usr/local/lib/python3.11/dist-packages (from dagshub-annotation-converter>=0.1.5->dagshub) (4.13.2)\n",
            "Requirement already satisfied: gitdb<5,>=4.0.1 in /usr/local/lib/python3.11/dist-packages (from GitPython>=3.1.29->dagshub) (4.0.12)\n",
            "Requirement already satisfied: anyio in /usr/local/lib/python3.11/dist-packages (from httpx>=0.23.0->dagshub) (4.9.0)\n",
            "Requirement already satisfied: certifi in /usr/local/lib/python3.11/dist-packages (from httpx>=0.23.0->dagshub) (2025.4.26)\n",
            "Requirement already satisfied: httpcore==1.* in /usr/local/lib/python3.11/dist-packages (from httpx>=0.23.0->dagshub) (1.0.9)\n",
            "Requirement already satisfied: idna in /usr/local/lib/python3.11/dist-packages (from httpx>=0.23.0->dagshub) (3.10)\n",
            "Requirement already satisfied: h11>=0.16 in /usr/local/lib/python3.11/dist-packages (from httpcore==1.*->httpx>=0.23.0->dagshub) (0.16.0)\n",
            "Requirement already satisfied: markdown-it-py>=2.2.0 in /usr/local/lib/python3.11/dist-packages (from rich>=13.1.0->dagshub) (3.0.0)\n",
            "Requirement already satisfied: pygments<3.0.0,>=2.13.0 in /usr/local/lib/python3.11/dist-packages (from rich>=13.1.0->dagshub) (2.19.1)\n",
            "Requirement already satisfied: six in /usr/local/lib/python3.11/dist-packages (from treelib>=1.6.4->dagshub) (1.17.0)\n",
            "Requirement already satisfied: botocore<1.39.0,>=1.38.8 in /usr/local/lib/python3.11/dist-packages (from boto3->dagshub) (1.38.8)\n",
            "Requirement already satisfied: jmespath<2.0.0,>=0.7.1 in /usr/local/lib/python3.11/dist-packages (from boto3->dagshub) (1.0.1)\n",
            "Requirement already satisfied: s3transfer<0.13.0,>=0.12.0 in /usr/local/lib/python3.11/dist-packages (from boto3->dagshub) (0.12.0)\n",
            "Requirement already satisfied: marshmallow<4.0.0,>=3.18.0 in /usr/local/lib/python3.11/dist-packages (from dataclasses-json->dagshub) (3.26.1)\n",
            "Requirement already satisfied: typing-inspect<1,>=0.4.0 in /usr/local/lib/python3.11/dist-packages (from dataclasses-json->dagshub) (0.9.0)\n",
            "Requirement already satisfied: graphql-core<3.2.5,>=3.2 in /usr/local/lib/python3.11/dist-packages (from gql[requests]->dagshub) (3.2.4)\n",
            "Requirement already satisfied: yarl<2.0,>=1.6 in /usr/local/lib/python3.11/dist-packages (from gql[requests]->dagshub) (1.20.0)\n",
            "Requirement already satisfied: backoff<3.0,>=1.11.1 in /usr/local/lib/python3.11/dist-packages (from gql[requests]->dagshub) (2.2.1)\n",
            "Requirement already satisfied: requests<3,>=2.26 in /usr/local/lib/python3.11/dist-packages (from gql[requests]->dagshub) (2.32.3)\n",
            "Requirement already satisfied: requests-toolbelt<2,>=1.0.0 in /usr/local/lib/python3.11/dist-packages (from gql[requests]->dagshub) (1.0.0)\n",
            "Requirement already satisfied: numpy>=1.23.2 in /usr/local/lib/python3.11/dist-packages (from pandas->dagshub) (2.0.2)\n",
            "Requirement already satisfied: pytz>=2020.1 in /usr/local/lib/python3.11/dist-packages (from pandas->dagshub) (2025.2)\n",
            "Requirement already satisfied: tzdata>=2022.7 in /usr/local/lib/python3.11/dist-packages (from pandas->dagshub) (2025.2)\n",
            "Requirement already satisfied: sniffio>=1.1 in /usr/local/lib/python3.11/dist-packages (from anyio->httpx>=0.23.0->dagshub) (1.3.1)\n",
            "Requirement already satisfied: urllib3!=2.2.0,<3,>=1.25.4 in /usr/local/lib/python3.11/dist-packages (from botocore<1.39.0,>=1.38.8->boto3->dagshub) (2.4.0)\n",
            "Requirement already satisfied: smmap<6,>=3.0.1 in /usr/local/lib/python3.11/dist-packages (from gitdb<5,>=4.0.1->GitPython>=3.1.29->dagshub) (5.0.2)\n",
            "Requirement already satisfied: mdurl~=0.1 in /usr/local/lib/python3.11/dist-packages (from markdown-it-py>=2.2.0->rich>=13.1.0->dagshub) (0.1.2)\n",
            "Requirement already satisfied: packaging>=17.0 in /usr/local/lib/python3.11/dist-packages (from marshmallow<4.0.0,>=3.18.0->dataclasses-json->dagshub) (24.2)\n",
            "Requirement already satisfied: annotated-types>=0.6.0 in /usr/local/lib/python3.11/dist-packages (from pydantic>=2.0.0->dagshub-annotation-converter>=0.1.5->dagshub) (0.7.0)\n",
            "Requirement already satisfied: pydantic-core==2.33.1 in /usr/local/lib/python3.11/dist-packages (from pydantic>=2.0.0->dagshub-annotation-converter>=0.1.5->dagshub) (2.33.1)\n",
            "Requirement already satisfied: typing-inspection>=0.4.0 in /usr/local/lib/python3.11/dist-packages (from pydantic>=2.0.0->dagshub-annotation-converter>=0.1.5->dagshub) (0.4.0)\n",
            "Requirement already satisfied: charset-normalizer<4,>=2 in /usr/local/lib/python3.11/dist-packages (from requests<3,>=2.26->gql[requests]->dagshub) (3.4.1)\n",
            "Requirement already satisfied: mypy-extensions>=0.3.0 in /usr/local/lib/python3.11/dist-packages (from typing-inspect<1,>=0.4.0->dataclasses-json->dagshub) (1.1.0)\n",
            "Requirement already satisfied: multidict>=4.0 in /usr/local/lib/python3.11/dist-packages (from yarl<2.0,>=1.6->gql[requests]->dagshub) (6.4.3)\n",
            "Requirement already satisfied: propcache>=0.2.1 in /usr/local/lib/python3.11/dist-packages (from yarl<2.0,>=1.6->gql[requests]->dagshub) (0.3.1)\n"
          ]
        }
      ]
    },
    {
      "cell_type": "code",
      "execution_count": 85,
      "id": "8687b061-828a-4bce-9037-5af24dae03f6",
      "metadata": {
        "id": "8687b061-828a-4bce-9037-5af24dae03f6"
      },
      "outputs": [],
      "source": [
        "import pandas as pd\n",
        "import numpy as np\n",
        "\n",
        "from sklearn.preprocessing import OneHotEncoder\n",
        "from sklearn.compose import ColumnTransformer\n",
        "from sklearn.linear_model import LinearRegression, Ridge\n",
        "from sklearn.pipeline import Pipeline\n",
        "from sklearn.metrics import mean_absolute_percentage_error\n",
        "from sklearn.svm import SVR\n",
        "\n",
        "from sklearn.ensemble import RandomForestRegressor, GradientBoostingRegressor\n",
        "from xgboost import XGBRegressor\n",
        "\n",
        "import mlflow\n",
        "import dagshub\n",
        "import os\n",
        "import optuna\n",
        "import tqdm"
      ]
    },
    {
      "cell_type": "code",
      "execution_count": 86,
      "id": "199ade0f-b048-4ae9-825e-cebc585dc557",
      "metadata": {
        "id": "199ade0f-b048-4ae9-825e-cebc585dc557"
      },
      "outputs": [],
      "source": [
        "# ✅ Set the correct Dagshub tracking URI (not GitHub!)\n",
        "mlflow.set_tracking_uri(\"https://dagshub.com/Mervin50/Uber-Demand-Prediction.mlflow\")\n",
        "\n",
        "\n",
        "# ✅ Set your Dagshub username and token (ensure token is kept secret)\n",
        "os.environ[\"MLFLOW_TRACKING_USERNAME\"] = \"Mervin50\"\n",
        "os.environ[\"MLFLOW_TRACKING_PASSWORD\"] = \"4f0ea46f344db4274bbaa99ff0d92ba94fcdc08b\"\n",
        "\n"
      ]
    },
    {
      "cell_type": "code",
      "source": [
        "# Correct Dagshub MLflow URI\n",
        "mlflow.set_tracking_uri(\"https://dagshub.com/Mervin50/Uber-Demand-Prediction.mlflow\")\n",
        "\n",
        "# Set credentials\n",
        "os.environ[\"MLFLOW_TRACKING_USERNAME\"] = \"Mervin50\"\n",
        "os.environ[\"MLFLOW_TRACKING_PASSWORD\"] = \"4f0ea46f344db4274bbaa99ff0d92ba94fcdc08b\"\n",
        "\n",
        "# Initialize DagsHub MLflow integration\n",
        "dagshub.init(repo_owner='Mervin50', repo_name='Uber-Demand-Prediction', mlflow=True)\n",
        "\n",
        "# Set or create experiment\n",
        "mlflow.set_experiment(\"model-selection\")\n"
      ],
      "metadata": {
        "colab": {
          "base_uri": "https://localhost:8080/",
          "height": 68
        },
        "id": "qdw9ylYmrqaX",
        "outputId": "d8ddd635-9a6c-41b1-8be0-21529a8f5cf3"
      },
      "id": "qdw9ylYmrqaX",
      "execution_count": 87,
      "outputs": [
        {
          "output_type": "display_data",
          "data": {
            "text/plain": [
              "Initialized MLflow to track repo \u001b[32m\"Mervin50/Uber-Demand-Prediction\"\u001b[0m\n"
            ],
            "text/html": [
              "<pre style=\"white-space:pre;overflow-x:auto;line-height:normal;font-family:Menlo,'DejaVu Sans Mono',consolas,'Courier New',monospace\">Initialized MLflow to track repo <span style=\"color: #008000; text-decoration-color: #008000\">\"Mervin50/Uber-Demand-Prediction\"</span>\n",
              "</pre>\n"
            ]
          },
          "metadata": {}
        },
        {
          "output_type": "display_data",
          "data": {
            "text/plain": [
              "Repository Mervin50/Uber-Demand-Prediction initialized!\n"
            ],
            "text/html": [
              "<pre style=\"white-space:pre;overflow-x:auto;line-height:normal;font-family:Menlo,'DejaVu Sans Mono',consolas,'Courier New',monospace\">Repository Mervin50/Uber-Demand-Prediction initialized!\n",
              "</pre>\n"
            ]
          },
          "metadata": {}
        },
        {
          "output_type": "execute_result",
          "data": {
            "text/plain": [
              "<Experiment: artifact_location='mlflow-artifacts:/b83d4cad915b4c1daf9d3a642caa1e17', creation_time=1746318342413, experiment_id='0', last_update_time=1746318342413, lifecycle_stage='active', name='model-selection', tags={}>"
            ]
          },
          "metadata": {},
          "execution_count": 87
        }
      ]
    },
    {
      "cell_type": "code",
      "execution_count": 88,
      "id": "23d5d0dd-534f-4610-a0b8-d3dad4320f50",
      "metadata": {
        "colab": {
          "base_uri": "https://localhost:8080/",
          "height": 455
        },
        "id": "23d5d0dd-534f-4610-a0b8-d3dad4320f50",
        "outputId": "7fc4a62e-855a-4462-9c1b-3a50c55a194d"
      },
      "outputs": [
        {
          "output_type": "execute_result",
          "data": {
            "text/plain": [
              "                      lag_1  lag_2  lag_3  lag_4  region  total_pickups  \\\n",
              "tpep_pickup_datetime                                                      \n",
              "2016-01-01 01:00:00    10.0   10.0   10.0   13.0       0             10   \n",
              "2016-01-01 01:15:00    10.0   10.0   10.0   10.0       0             10   \n",
              "2016-01-01 01:30:00    10.0   10.0   10.0   10.0       0             10   \n",
              "2016-01-01 01:45:00    10.0   10.0   10.0   10.0       0             10   \n",
              "2016-01-01 02:00:00    10.0   10.0   10.0   10.0       0             10   \n",
              "...                     ...    ...    ...    ...     ...            ...   \n",
              "2016-02-29 22:45:00    10.0   10.0   10.0   10.0      29             10   \n",
              "2016-02-29 23:00:00    10.0   10.0   10.0   10.0      29             10   \n",
              "2016-02-29 23:15:00    10.0   10.0   10.0   10.0      29             10   \n",
              "2016-02-29 23:30:00    10.0   10.0   10.0   10.0      29             10   \n",
              "2016-02-29 23:45:00    10.0   10.0   10.0   10.0      29             10   \n",
              "\n",
              "                      avg_pickups  day_of_week  \n",
              "tpep_pickup_datetime                            \n",
              "2016-01-01 01:00:00          10.0            4  \n",
              "2016-01-01 01:15:00          10.0            4  \n",
              "2016-01-01 01:30:00          10.0            4  \n",
              "2016-01-01 01:45:00          10.0            4  \n",
              "2016-01-01 02:00:00          10.0            4  \n",
              "...                           ...          ...  \n",
              "2016-02-29 22:45:00          10.0            0  \n",
              "2016-02-29 23:00:00          10.0            0  \n",
              "2016-02-29 23:15:00          10.0            0  \n",
              "2016-02-29 23:30:00          10.0            0  \n",
              "2016-02-29 23:45:00          10.0            0  \n",
              "\n",
              "[172581 rows x 8 columns]"
            ],
            "text/html": [
              "\n",
              "  <div id=\"df-69045d80-f039-4e7e-b26e-41762528583d\" class=\"colab-df-container\">\n",
              "    <div>\n",
              "<style scoped>\n",
              "    .dataframe tbody tr th:only-of-type {\n",
              "        vertical-align: middle;\n",
              "    }\n",
              "\n",
              "    .dataframe tbody tr th {\n",
              "        vertical-align: top;\n",
              "    }\n",
              "\n",
              "    .dataframe thead th {\n",
              "        text-align: right;\n",
              "    }\n",
              "</style>\n",
              "<table border=\"1\" class=\"dataframe\">\n",
              "  <thead>\n",
              "    <tr style=\"text-align: right;\">\n",
              "      <th></th>\n",
              "      <th>lag_1</th>\n",
              "      <th>lag_2</th>\n",
              "      <th>lag_3</th>\n",
              "      <th>lag_4</th>\n",
              "      <th>region</th>\n",
              "      <th>total_pickups</th>\n",
              "      <th>avg_pickups</th>\n",
              "      <th>day_of_week</th>\n",
              "    </tr>\n",
              "    <tr>\n",
              "      <th>tpep_pickup_datetime</th>\n",
              "      <th></th>\n",
              "      <th></th>\n",
              "      <th></th>\n",
              "      <th></th>\n",
              "      <th></th>\n",
              "      <th></th>\n",
              "      <th></th>\n",
              "      <th></th>\n",
              "    </tr>\n",
              "  </thead>\n",
              "  <tbody>\n",
              "    <tr>\n",
              "      <th>2016-01-01 01:00:00</th>\n",
              "      <td>10.0</td>\n",
              "      <td>10.0</td>\n",
              "      <td>10.0</td>\n",
              "      <td>13.0</td>\n",
              "      <td>0</td>\n",
              "      <td>10</td>\n",
              "      <td>10.0</td>\n",
              "      <td>4</td>\n",
              "    </tr>\n",
              "    <tr>\n",
              "      <th>2016-01-01 01:15:00</th>\n",
              "      <td>10.0</td>\n",
              "      <td>10.0</td>\n",
              "      <td>10.0</td>\n",
              "      <td>10.0</td>\n",
              "      <td>0</td>\n",
              "      <td>10</td>\n",
              "      <td>10.0</td>\n",
              "      <td>4</td>\n",
              "    </tr>\n",
              "    <tr>\n",
              "      <th>2016-01-01 01:30:00</th>\n",
              "      <td>10.0</td>\n",
              "      <td>10.0</td>\n",
              "      <td>10.0</td>\n",
              "      <td>10.0</td>\n",
              "      <td>0</td>\n",
              "      <td>10</td>\n",
              "      <td>10.0</td>\n",
              "      <td>4</td>\n",
              "    </tr>\n",
              "    <tr>\n",
              "      <th>2016-01-01 01:45:00</th>\n",
              "      <td>10.0</td>\n",
              "      <td>10.0</td>\n",
              "      <td>10.0</td>\n",
              "      <td>10.0</td>\n",
              "      <td>0</td>\n",
              "      <td>10</td>\n",
              "      <td>10.0</td>\n",
              "      <td>4</td>\n",
              "    </tr>\n",
              "    <tr>\n",
              "      <th>2016-01-01 02:00:00</th>\n",
              "      <td>10.0</td>\n",
              "      <td>10.0</td>\n",
              "      <td>10.0</td>\n",
              "      <td>10.0</td>\n",
              "      <td>0</td>\n",
              "      <td>10</td>\n",
              "      <td>10.0</td>\n",
              "      <td>4</td>\n",
              "    </tr>\n",
              "    <tr>\n",
              "      <th>...</th>\n",
              "      <td>...</td>\n",
              "      <td>...</td>\n",
              "      <td>...</td>\n",
              "      <td>...</td>\n",
              "      <td>...</td>\n",
              "      <td>...</td>\n",
              "      <td>...</td>\n",
              "      <td>...</td>\n",
              "    </tr>\n",
              "    <tr>\n",
              "      <th>2016-02-29 22:45:00</th>\n",
              "      <td>10.0</td>\n",
              "      <td>10.0</td>\n",
              "      <td>10.0</td>\n",
              "      <td>10.0</td>\n",
              "      <td>29</td>\n",
              "      <td>10</td>\n",
              "      <td>10.0</td>\n",
              "      <td>0</td>\n",
              "    </tr>\n",
              "    <tr>\n",
              "      <th>2016-02-29 23:00:00</th>\n",
              "      <td>10.0</td>\n",
              "      <td>10.0</td>\n",
              "      <td>10.0</td>\n",
              "      <td>10.0</td>\n",
              "      <td>29</td>\n",
              "      <td>10</td>\n",
              "      <td>10.0</td>\n",
              "      <td>0</td>\n",
              "    </tr>\n",
              "    <tr>\n",
              "      <th>2016-02-29 23:15:00</th>\n",
              "      <td>10.0</td>\n",
              "      <td>10.0</td>\n",
              "      <td>10.0</td>\n",
              "      <td>10.0</td>\n",
              "      <td>29</td>\n",
              "      <td>10</td>\n",
              "      <td>10.0</td>\n",
              "      <td>0</td>\n",
              "    </tr>\n",
              "    <tr>\n",
              "      <th>2016-02-29 23:30:00</th>\n",
              "      <td>10.0</td>\n",
              "      <td>10.0</td>\n",
              "      <td>10.0</td>\n",
              "      <td>10.0</td>\n",
              "      <td>29</td>\n",
              "      <td>10</td>\n",
              "      <td>10.0</td>\n",
              "      <td>0</td>\n",
              "    </tr>\n",
              "    <tr>\n",
              "      <th>2016-02-29 23:45:00</th>\n",
              "      <td>10.0</td>\n",
              "      <td>10.0</td>\n",
              "      <td>10.0</td>\n",
              "      <td>10.0</td>\n",
              "      <td>29</td>\n",
              "      <td>10</td>\n",
              "      <td>10.0</td>\n",
              "      <td>0</td>\n",
              "    </tr>\n",
              "  </tbody>\n",
              "</table>\n",
              "<p>172581 rows × 8 columns</p>\n",
              "</div>\n",
              "    <div class=\"colab-df-buttons\">\n",
              "\n",
              "  <div class=\"colab-df-container\">\n",
              "    <button class=\"colab-df-convert\" onclick=\"convertToInteractive('df-69045d80-f039-4e7e-b26e-41762528583d')\"\n",
              "            title=\"Convert this dataframe to an interactive table.\"\n",
              "            style=\"display:none;\">\n",
              "\n",
              "  <svg xmlns=\"http://www.w3.org/2000/svg\" height=\"24px\" viewBox=\"0 -960 960 960\">\n",
              "    <path d=\"M120-120v-720h720v720H120Zm60-500h600v-160H180v160Zm220 220h160v-160H400v160Zm0 220h160v-160H400v160ZM180-400h160v-160H180v160Zm440 0h160v-160H620v160ZM180-180h160v-160H180v160Zm440 0h160v-160H620v160Z\"/>\n",
              "  </svg>\n",
              "    </button>\n",
              "\n",
              "  <style>\n",
              "    .colab-df-container {\n",
              "      display:flex;\n",
              "      gap: 12px;\n",
              "    }\n",
              "\n",
              "    .colab-df-convert {\n",
              "      background-color: #E8F0FE;\n",
              "      border: none;\n",
              "      border-radius: 50%;\n",
              "      cursor: pointer;\n",
              "      display: none;\n",
              "      fill: #1967D2;\n",
              "      height: 32px;\n",
              "      padding: 0 0 0 0;\n",
              "      width: 32px;\n",
              "    }\n",
              "\n",
              "    .colab-df-convert:hover {\n",
              "      background-color: #E2EBFA;\n",
              "      box-shadow: 0px 1px 2px rgba(60, 64, 67, 0.3), 0px 1px 3px 1px rgba(60, 64, 67, 0.15);\n",
              "      fill: #174EA6;\n",
              "    }\n",
              "\n",
              "    .colab-df-buttons div {\n",
              "      margin-bottom: 4px;\n",
              "    }\n",
              "\n",
              "    [theme=dark] .colab-df-convert {\n",
              "      background-color: #3B4455;\n",
              "      fill: #D2E3FC;\n",
              "    }\n",
              "\n",
              "    [theme=dark] .colab-df-convert:hover {\n",
              "      background-color: #434B5C;\n",
              "      box-shadow: 0px 1px 3px 1px rgba(0, 0, 0, 0.15);\n",
              "      filter: drop-shadow(0px 1px 2px rgba(0, 0, 0, 0.3));\n",
              "      fill: #FFFFFF;\n",
              "    }\n",
              "  </style>\n",
              "\n",
              "    <script>\n",
              "      const buttonEl =\n",
              "        document.querySelector('#df-69045d80-f039-4e7e-b26e-41762528583d button.colab-df-convert');\n",
              "      buttonEl.style.display =\n",
              "        google.colab.kernel.accessAllowed ? 'block' : 'none';\n",
              "\n",
              "      async function convertToInteractive(key) {\n",
              "        const element = document.querySelector('#df-69045d80-f039-4e7e-b26e-41762528583d');\n",
              "        const dataTable =\n",
              "          await google.colab.kernel.invokeFunction('convertToInteractive',\n",
              "                                                    [key], {});\n",
              "        if (!dataTable) return;\n",
              "\n",
              "        const docLinkHtml = 'Like what you see? Visit the ' +\n",
              "          '<a target=\"_blank\" href=https://colab.research.google.com/notebooks/data_table.ipynb>data table notebook</a>'\n",
              "          + ' to learn more about interactive tables.';\n",
              "        element.innerHTML = '';\n",
              "        dataTable['output_type'] = 'display_data';\n",
              "        await google.colab.output.renderOutput(dataTable, element);\n",
              "        const docLink = document.createElement('div');\n",
              "        docLink.innerHTML = docLinkHtml;\n",
              "        element.appendChild(docLink);\n",
              "      }\n",
              "    </script>\n",
              "  </div>\n",
              "\n",
              "\n",
              "    <div id=\"df-97008094-1174-4eb2-9b04-6b927e4aa624\">\n",
              "      <button class=\"colab-df-quickchart\" onclick=\"quickchart('df-97008094-1174-4eb2-9b04-6b927e4aa624')\"\n",
              "                title=\"Suggest charts\"\n",
              "                style=\"display:none;\">\n",
              "\n",
              "<svg xmlns=\"http://www.w3.org/2000/svg\" height=\"24px\"viewBox=\"0 0 24 24\"\n",
              "     width=\"24px\">\n",
              "    <g>\n",
              "        <path d=\"M19 3H5c-1.1 0-2 .9-2 2v14c0 1.1.9 2 2 2h14c1.1 0 2-.9 2-2V5c0-1.1-.9-2-2-2zM9 17H7v-7h2v7zm4 0h-2V7h2v10zm4 0h-2v-4h2v4z\"/>\n",
              "    </g>\n",
              "</svg>\n",
              "      </button>\n",
              "\n",
              "<style>\n",
              "  .colab-df-quickchart {\n",
              "      --bg-color: #E8F0FE;\n",
              "      --fill-color: #1967D2;\n",
              "      --hover-bg-color: #E2EBFA;\n",
              "      --hover-fill-color: #174EA6;\n",
              "      --disabled-fill-color: #AAA;\n",
              "      --disabled-bg-color: #DDD;\n",
              "  }\n",
              "\n",
              "  [theme=dark] .colab-df-quickchart {\n",
              "      --bg-color: #3B4455;\n",
              "      --fill-color: #D2E3FC;\n",
              "      --hover-bg-color: #434B5C;\n",
              "      --hover-fill-color: #FFFFFF;\n",
              "      --disabled-bg-color: #3B4455;\n",
              "      --disabled-fill-color: #666;\n",
              "  }\n",
              "\n",
              "  .colab-df-quickchart {\n",
              "    background-color: var(--bg-color);\n",
              "    border: none;\n",
              "    border-radius: 50%;\n",
              "    cursor: pointer;\n",
              "    display: none;\n",
              "    fill: var(--fill-color);\n",
              "    height: 32px;\n",
              "    padding: 0;\n",
              "    width: 32px;\n",
              "  }\n",
              "\n",
              "  .colab-df-quickchart:hover {\n",
              "    background-color: var(--hover-bg-color);\n",
              "    box-shadow: 0 1px 2px rgba(60, 64, 67, 0.3), 0 1px 3px 1px rgba(60, 64, 67, 0.15);\n",
              "    fill: var(--button-hover-fill-color);\n",
              "  }\n",
              "\n",
              "  .colab-df-quickchart-complete:disabled,\n",
              "  .colab-df-quickchart-complete:disabled:hover {\n",
              "    background-color: var(--disabled-bg-color);\n",
              "    fill: var(--disabled-fill-color);\n",
              "    box-shadow: none;\n",
              "  }\n",
              "\n",
              "  .colab-df-spinner {\n",
              "    border: 2px solid var(--fill-color);\n",
              "    border-color: transparent;\n",
              "    border-bottom-color: var(--fill-color);\n",
              "    animation:\n",
              "      spin 1s steps(1) infinite;\n",
              "  }\n",
              "\n",
              "  @keyframes spin {\n",
              "    0% {\n",
              "      border-color: transparent;\n",
              "      border-bottom-color: var(--fill-color);\n",
              "      border-left-color: var(--fill-color);\n",
              "    }\n",
              "    20% {\n",
              "      border-color: transparent;\n",
              "      border-left-color: var(--fill-color);\n",
              "      border-top-color: var(--fill-color);\n",
              "    }\n",
              "    30% {\n",
              "      border-color: transparent;\n",
              "      border-left-color: var(--fill-color);\n",
              "      border-top-color: var(--fill-color);\n",
              "      border-right-color: var(--fill-color);\n",
              "    }\n",
              "    40% {\n",
              "      border-color: transparent;\n",
              "      border-right-color: var(--fill-color);\n",
              "      border-top-color: var(--fill-color);\n",
              "    }\n",
              "    60% {\n",
              "      border-color: transparent;\n",
              "      border-right-color: var(--fill-color);\n",
              "    }\n",
              "    80% {\n",
              "      border-color: transparent;\n",
              "      border-right-color: var(--fill-color);\n",
              "      border-bottom-color: var(--fill-color);\n",
              "    }\n",
              "    90% {\n",
              "      border-color: transparent;\n",
              "      border-bottom-color: var(--fill-color);\n",
              "    }\n",
              "  }\n",
              "</style>\n",
              "\n",
              "      <script>\n",
              "        async function quickchart(key) {\n",
              "          const quickchartButtonEl =\n",
              "            document.querySelector('#' + key + ' button');\n",
              "          quickchartButtonEl.disabled = true;  // To prevent multiple clicks.\n",
              "          quickchartButtonEl.classList.add('colab-df-spinner');\n",
              "          try {\n",
              "            const charts = await google.colab.kernel.invokeFunction(\n",
              "                'suggestCharts', [key], {});\n",
              "          } catch (error) {\n",
              "            console.error('Error during call to suggestCharts:', error);\n",
              "          }\n",
              "          quickchartButtonEl.classList.remove('colab-df-spinner');\n",
              "          quickchartButtonEl.classList.add('colab-df-quickchart-complete');\n",
              "        }\n",
              "        (() => {\n",
              "          let quickchartButtonEl =\n",
              "            document.querySelector('#df-97008094-1174-4eb2-9b04-6b927e4aa624 button');\n",
              "          quickchartButtonEl.style.display =\n",
              "            google.colab.kernel.accessAllowed ? 'block' : 'none';\n",
              "        })();\n",
              "      </script>\n",
              "    </div>\n",
              "\n",
              "  <div id=\"id_794e9532-1ee9-4aa8-9070-39af2c0e7c2d\">\n",
              "    <style>\n",
              "      .colab-df-generate {\n",
              "        background-color: #E8F0FE;\n",
              "        border: none;\n",
              "        border-radius: 50%;\n",
              "        cursor: pointer;\n",
              "        display: none;\n",
              "        fill: #1967D2;\n",
              "        height: 32px;\n",
              "        padding: 0 0 0 0;\n",
              "        width: 32px;\n",
              "      }\n",
              "\n",
              "      .colab-df-generate:hover {\n",
              "        background-color: #E2EBFA;\n",
              "        box-shadow: 0px 1px 2px rgba(60, 64, 67, 0.3), 0px 1px 3px 1px rgba(60, 64, 67, 0.15);\n",
              "        fill: #174EA6;\n",
              "      }\n",
              "\n",
              "      [theme=dark] .colab-df-generate {\n",
              "        background-color: #3B4455;\n",
              "        fill: #D2E3FC;\n",
              "      }\n",
              "\n",
              "      [theme=dark] .colab-df-generate:hover {\n",
              "        background-color: #434B5C;\n",
              "        box-shadow: 0px 1px 3px 1px rgba(0, 0, 0, 0.15);\n",
              "        filter: drop-shadow(0px 1px 2px rgba(0, 0, 0, 0.3));\n",
              "        fill: #FFFFFF;\n",
              "      }\n",
              "    </style>\n",
              "    <button class=\"colab-df-generate\" onclick=\"generateWithVariable('train_df')\"\n",
              "            title=\"Generate code using this dataframe.\"\n",
              "            style=\"display:none;\">\n",
              "\n",
              "  <svg xmlns=\"http://www.w3.org/2000/svg\" height=\"24px\"viewBox=\"0 0 24 24\"\n",
              "       width=\"24px\">\n",
              "    <path d=\"M7,19H8.4L18.45,9,17,7.55,7,17.6ZM5,21V16.75L18.45,3.32a2,2,0,0,1,2.83,0l1.4,1.43a1.91,1.91,0,0,1,.58,1.4,1.91,1.91,0,0,1-.58,1.4L9.25,21ZM18.45,9,17,7.55Zm-12,3A5.31,5.31,0,0,0,4.9,8.1,5.31,5.31,0,0,0,1,6.5,5.31,5.31,0,0,0,4.9,4.9,5.31,5.31,0,0,0,6.5,1,5.31,5.31,0,0,0,8.1,4.9,5.31,5.31,0,0,0,12,6.5,5.46,5.46,0,0,0,6.5,12Z\"/>\n",
              "  </svg>\n",
              "    </button>\n",
              "    <script>\n",
              "      (() => {\n",
              "      const buttonEl =\n",
              "        document.querySelector('#id_794e9532-1ee9-4aa8-9070-39af2c0e7c2d button.colab-df-generate');\n",
              "      buttonEl.style.display =\n",
              "        google.colab.kernel.accessAllowed ? 'block' : 'none';\n",
              "\n",
              "      buttonEl.onclick = () => {\n",
              "        google.colab.notebook.generateWithVariable('train_df');\n",
              "      }\n",
              "      })();\n",
              "    </script>\n",
              "  </div>\n",
              "\n",
              "    </div>\n",
              "  </div>\n"
            ],
            "application/vnd.google.colaboratory.intrinsic+json": {
              "type": "dataframe",
              "variable_name": "train_df"
            }
          },
          "metadata": {},
          "execution_count": 88
        }
      ],
      "source": [
        "# load the training and test data\n",
        "\n",
        "train_data_path = \"/content/df_final_train.csv\"\n",
        "test_data_path = \"/content/df_final_test.csv\"\n",
        "\n",
        "train_df = pd.read_csv(train_data_path, parse_dates=[\"tpep_pickup_datetime\"]).set_index(\"tpep_pickup_datetime\")\n",
        "\n",
        "test_df = pd.read_csv(test_data_path, parse_dates=[\"tpep_pickup_datetime\"]).set_index(\"tpep_pickup_datetime\")\n",
        "\n",
        "train_df"
      ]
    },
    {
      "cell_type": "code",
      "execution_count": 89,
      "id": "2f1e4ba9-0aa9-4696-a0c2-a75a1cc9f4a5",
      "metadata": {
        "colab": {
          "base_uri": "https://localhost:8080/",
          "height": 335
        },
        "id": "2f1e4ba9-0aa9-4696-a0c2-a75a1cc9f4a5",
        "outputId": "b29ebe8f-e86b-46a2-df82-b9a1540a5b08"
      },
      "outputs": [
        {
          "output_type": "execute_result",
          "data": {
            "text/plain": [
              "lag_1            0\n",
              "lag_2            0\n",
              "lag_3            0\n",
              "lag_4            0\n",
              "region           0\n",
              "total_pickups    0\n",
              "avg_pickups      0\n",
              "day_of_week      0\n",
              "dtype: int64"
            ],
            "text/html": [
              "<div>\n",
              "<style scoped>\n",
              "    .dataframe tbody tr th:only-of-type {\n",
              "        vertical-align: middle;\n",
              "    }\n",
              "\n",
              "    .dataframe tbody tr th {\n",
              "        vertical-align: top;\n",
              "    }\n",
              "\n",
              "    .dataframe thead th {\n",
              "        text-align: right;\n",
              "    }\n",
              "</style>\n",
              "<table border=\"1\" class=\"dataframe\">\n",
              "  <thead>\n",
              "    <tr style=\"text-align: right;\">\n",
              "      <th></th>\n",
              "      <th>0</th>\n",
              "    </tr>\n",
              "  </thead>\n",
              "  <tbody>\n",
              "    <tr>\n",
              "      <th>lag_1</th>\n",
              "      <td>0</td>\n",
              "    </tr>\n",
              "    <tr>\n",
              "      <th>lag_2</th>\n",
              "      <td>0</td>\n",
              "    </tr>\n",
              "    <tr>\n",
              "      <th>lag_3</th>\n",
              "      <td>0</td>\n",
              "    </tr>\n",
              "    <tr>\n",
              "      <th>lag_4</th>\n",
              "      <td>0</td>\n",
              "    </tr>\n",
              "    <tr>\n",
              "      <th>region</th>\n",
              "      <td>0</td>\n",
              "    </tr>\n",
              "    <tr>\n",
              "      <th>total_pickups</th>\n",
              "      <td>0</td>\n",
              "    </tr>\n",
              "    <tr>\n",
              "      <th>avg_pickups</th>\n",
              "      <td>0</td>\n",
              "    </tr>\n",
              "    <tr>\n",
              "      <th>day_of_week</th>\n",
              "      <td>0</td>\n",
              "    </tr>\n",
              "  </tbody>\n",
              "</table>\n",
              "</div><br><label><b>dtype:</b> int64</label>"
            ]
          },
          "metadata": {},
          "execution_count": 89
        }
      ],
      "source": [
        "# missing value in training data\n",
        "\n",
        "train_df.isna().sum()"
      ]
    },
    {
      "cell_type": "code",
      "execution_count": 90,
      "id": "5aa0cde0-34d7-49b4-8a7e-b981d1ba0e4b",
      "metadata": {
        "colab": {
          "base_uri": "https://localhost:8080/",
          "height": 335
        },
        "id": "5aa0cde0-34d7-49b4-8a7e-b981d1ba0e4b",
        "outputId": "68b55799-7395-4d3a-9e1f-d2ed5b55a616"
      },
      "outputs": [
        {
          "output_type": "execute_result",
          "data": {
            "text/plain": [
              "lag_1            0\n",
              "lag_2            0\n",
              "lag_3            0\n",
              "lag_4            0\n",
              "region           0\n",
              "total_pickups    0\n",
              "avg_pickups      0\n",
              "day_of_week      0\n",
              "dtype: int64"
            ],
            "text/html": [
              "<div>\n",
              "<style scoped>\n",
              "    .dataframe tbody tr th:only-of-type {\n",
              "        vertical-align: middle;\n",
              "    }\n",
              "\n",
              "    .dataframe tbody tr th {\n",
              "        vertical-align: top;\n",
              "    }\n",
              "\n",
              "    .dataframe thead th {\n",
              "        text-align: right;\n",
              "    }\n",
              "</style>\n",
              "<table border=\"1\" class=\"dataframe\">\n",
              "  <thead>\n",
              "    <tr style=\"text-align: right;\">\n",
              "      <th></th>\n",
              "      <th>0</th>\n",
              "    </tr>\n",
              "  </thead>\n",
              "  <tbody>\n",
              "    <tr>\n",
              "      <th>lag_1</th>\n",
              "      <td>0</td>\n",
              "    </tr>\n",
              "    <tr>\n",
              "      <th>lag_2</th>\n",
              "      <td>0</td>\n",
              "    </tr>\n",
              "    <tr>\n",
              "      <th>lag_3</th>\n",
              "      <td>0</td>\n",
              "    </tr>\n",
              "    <tr>\n",
              "      <th>lag_4</th>\n",
              "      <td>0</td>\n",
              "    </tr>\n",
              "    <tr>\n",
              "      <th>region</th>\n",
              "      <td>0</td>\n",
              "    </tr>\n",
              "    <tr>\n",
              "      <th>total_pickups</th>\n",
              "      <td>0</td>\n",
              "    </tr>\n",
              "    <tr>\n",
              "      <th>avg_pickups</th>\n",
              "      <td>0</td>\n",
              "    </tr>\n",
              "    <tr>\n",
              "      <th>day_of_week</th>\n",
              "      <td>0</td>\n",
              "    </tr>\n",
              "  </tbody>\n",
              "</table>\n",
              "</div><br><label><b>dtype:</b> int64</label>"
            ]
          },
          "metadata": {},
          "execution_count": 90
        }
      ],
      "source": [
        "# missing values in the test data\n",
        "\n",
        "test_df.isna().sum()"
      ]
    },
    {
      "cell_type": "code",
      "execution_count": 91,
      "id": "858a8af9-7618-4464-b418-7227f2a4dedd",
      "metadata": {
        "id": "858a8af9-7618-4464-b418-7227f2a4dedd"
      },
      "outputs": [],
      "source": [
        "# make X_train and y_train\n",
        "\n",
        "X_train = train_df.drop(columns=[\"total_pickups\"])\n",
        "\n",
        "y_train = train_df[\"total_pickups\"]"
      ]
    },
    {
      "cell_type": "code",
      "execution_count": 92,
      "id": "6c7fb655-8d46-4500-b1c3-dfe4d05dccf0",
      "metadata": {
        "colab": {
          "base_uri": "https://localhost:8080/",
          "height": 238
        },
        "id": "6c7fb655-8d46-4500-b1c3-dfe4d05dccf0",
        "outputId": "a586e82a-e0e3-453d-87f3-9edfc4dc838c"
      },
      "outputs": [
        {
          "output_type": "execute_result",
          "data": {
            "text/plain": [
              "                      lag_1  lag_2  lag_3  lag_4  region  avg_pickups  \\\n",
              "tpep_pickup_datetime                                                    \n",
              "2016-01-01 01:00:00    10.0   10.0   10.0   13.0       0         10.0   \n",
              "2016-01-01 01:15:00    10.0   10.0   10.0   10.0       0         10.0   \n",
              "2016-01-01 01:30:00    10.0   10.0   10.0   10.0       0         10.0   \n",
              "2016-01-01 01:45:00    10.0   10.0   10.0   10.0       0         10.0   \n",
              "2016-01-01 02:00:00    10.0   10.0   10.0   10.0       0         10.0   \n",
              "\n",
              "                      day_of_week  \n",
              "tpep_pickup_datetime               \n",
              "2016-01-01 01:00:00             4  \n",
              "2016-01-01 01:15:00             4  \n",
              "2016-01-01 01:30:00             4  \n",
              "2016-01-01 01:45:00             4  \n",
              "2016-01-01 02:00:00             4  "
            ],
            "text/html": [
              "\n",
              "  <div id=\"df-7b3b777c-c9dd-4600-ab0e-8c2d55342933\" class=\"colab-df-container\">\n",
              "    <div>\n",
              "<style scoped>\n",
              "    .dataframe tbody tr th:only-of-type {\n",
              "        vertical-align: middle;\n",
              "    }\n",
              "\n",
              "    .dataframe tbody tr th {\n",
              "        vertical-align: top;\n",
              "    }\n",
              "\n",
              "    .dataframe thead th {\n",
              "        text-align: right;\n",
              "    }\n",
              "</style>\n",
              "<table border=\"1\" class=\"dataframe\">\n",
              "  <thead>\n",
              "    <tr style=\"text-align: right;\">\n",
              "      <th></th>\n",
              "      <th>lag_1</th>\n",
              "      <th>lag_2</th>\n",
              "      <th>lag_3</th>\n",
              "      <th>lag_4</th>\n",
              "      <th>region</th>\n",
              "      <th>avg_pickups</th>\n",
              "      <th>day_of_week</th>\n",
              "    </tr>\n",
              "    <tr>\n",
              "      <th>tpep_pickup_datetime</th>\n",
              "      <th></th>\n",
              "      <th></th>\n",
              "      <th></th>\n",
              "      <th></th>\n",
              "      <th></th>\n",
              "      <th></th>\n",
              "      <th></th>\n",
              "    </tr>\n",
              "  </thead>\n",
              "  <tbody>\n",
              "    <tr>\n",
              "      <th>2016-01-01 01:00:00</th>\n",
              "      <td>10.0</td>\n",
              "      <td>10.0</td>\n",
              "      <td>10.0</td>\n",
              "      <td>13.0</td>\n",
              "      <td>0</td>\n",
              "      <td>10.0</td>\n",
              "      <td>4</td>\n",
              "    </tr>\n",
              "    <tr>\n",
              "      <th>2016-01-01 01:15:00</th>\n",
              "      <td>10.0</td>\n",
              "      <td>10.0</td>\n",
              "      <td>10.0</td>\n",
              "      <td>10.0</td>\n",
              "      <td>0</td>\n",
              "      <td>10.0</td>\n",
              "      <td>4</td>\n",
              "    </tr>\n",
              "    <tr>\n",
              "      <th>2016-01-01 01:30:00</th>\n",
              "      <td>10.0</td>\n",
              "      <td>10.0</td>\n",
              "      <td>10.0</td>\n",
              "      <td>10.0</td>\n",
              "      <td>0</td>\n",
              "      <td>10.0</td>\n",
              "      <td>4</td>\n",
              "    </tr>\n",
              "    <tr>\n",
              "      <th>2016-01-01 01:45:00</th>\n",
              "      <td>10.0</td>\n",
              "      <td>10.0</td>\n",
              "      <td>10.0</td>\n",
              "      <td>10.0</td>\n",
              "      <td>0</td>\n",
              "      <td>10.0</td>\n",
              "      <td>4</td>\n",
              "    </tr>\n",
              "    <tr>\n",
              "      <th>2016-01-01 02:00:00</th>\n",
              "      <td>10.0</td>\n",
              "      <td>10.0</td>\n",
              "      <td>10.0</td>\n",
              "      <td>10.0</td>\n",
              "      <td>0</td>\n",
              "      <td>10.0</td>\n",
              "      <td>4</td>\n",
              "    </tr>\n",
              "  </tbody>\n",
              "</table>\n",
              "</div>\n",
              "    <div class=\"colab-df-buttons\">\n",
              "\n",
              "  <div class=\"colab-df-container\">\n",
              "    <button class=\"colab-df-convert\" onclick=\"convertToInteractive('df-7b3b777c-c9dd-4600-ab0e-8c2d55342933')\"\n",
              "            title=\"Convert this dataframe to an interactive table.\"\n",
              "            style=\"display:none;\">\n",
              "\n",
              "  <svg xmlns=\"http://www.w3.org/2000/svg\" height=\"24px\" viewBox=\"0 -960 960 960\">\n",
              "    <path d=\"M120-120v-720h720v720H120Zm60-500h600v-160H180v160Zm220 220h160v-160H400v160Zm0 220h160v-160H400v160ZM180-400h160v-160H180v160Zm440 0h160v-160H620v160ZM180-180h160v-160H180v160Zm440 0h160v-160H620v160Z\"/>\n",
              "  </svg>\n",
              "    </button>\n",
              "\n",
              "  <style>\n",
              "    .colab-df-container {\n",
              "      display:flex;\n",
              "      gap: 12px;\n",
              "    }\n",
              "\n",
              "    .colab-df-convert {\n",
              "      background-color: #E8F0FE;\n",
              "      border: none;\n",
              "      border-radius: 50%;\n",
              "      cursor: pointer;\n",
              "      display: none;\n",
              "      fill: #1967D2;\n",
              "      height: 32px;\n",
              "      padding: 0 0 0 0;\n",
              "      width: 32px;\n",
              "    }\n",
              "\n",
              "    .colab-df-convert:hover {\n",
              "      background-color: #E2EBFA;\n",
              "      box-shadow: 0px 1px 2px rgba(60, 64, 67, 0.3), 0px 1px 3px 1px rgba(60, 64, 67, 0.15);\n",
              "      fill: #174EA6;\n",
              "    }\n",
              "\n",
              "    .colab-df-buttons div {\n",
              "      margin-bottom: 4px;\n",
              "    }\n",
              "\n",
              "    [theme=dark] .colab-df-convert {\n",
              "      background-color: #3B4455;\n",
              "      fill: #D2E3FC;\n",
              "    }\n",
              "\n",
              "    [theme=dark] .colab-df-convert:hover {\n",
              "      background-color: #434B5C;\n",
              "      box-shadow: 0px 1px 3px 1px rgba(0, 0, 0, 0.15);\n",
              "      filter: drop-shadow(0px 1px 2px rgba(0, 0, 0, 0.3));\n",
              "      fill: #FFFFFF;\n",
              "    }\n",
              "  </style>\n",
              "\n",
              "    <script>\n",
              "      const buttonEl =\n",
              "        document.querySelector('#df-7b3b777c-c9dd-4600-ab0e-8c2d55342933 button.colab-df-convert');\n",
              "      buttonEl.style.display =\n",
              "        google.colab.kernel.accessAllowed ? 'block' : 'none';\n",
              "\n",
              "      async function convertToInteractive(key) {\n",
              "        const element = document.querySelector('#df-7b3b777c-c9dd-4600-ab0e-8c2d55342933');\n",
              "        const dataTable =\n",
              "          await google.colab.kernel.invokeFunction('convertToInteractive',\n",
              "                                                    [key], {});\n",
              "        if (!dataTable) return;\n",
              "\n",
              "        const docLinkHtml = 'Like what you see? Visit the ' +\n",
              "          '<a target=\"_blank\" href=https://colab.research.google.com/notebooks/data_table.ipynb>data table notebook</a>'\n",
              "          + ' to learn more about interactive tables.';\n",
              "        element.innerHTML = '';\n",
              "        dataTable['output_type'] = 'display_data';\n",
              "        await google.colab.output.renderOutput(dataTable, element);\n",
              "        const docLink = document.createElement('div');\n",
              "        docLink.innerHTML = docLinkHtml;\n",
              "        element.appendChild(docLink);\n",
              "      }\n",
              "    </script>\n",
              "  </div>\n",
              "\n",
              "\n",
              "    <div id=\"df-fcdb1638-9561-4dc8-bc77-ff40f32aa4af\">\n",
              "      <button class=\"colab-df-quickchart\" onclick=\"quickchart('df-fcdb1638-9561-4dc8-bc77-ff40f32aa4af')\"\n",
              "                title=\"Suggest charts\"\n",
              "                style=\"display:none;\">\n",
              "\n",
              "<svg xmlns=\"http://www.w3.org/2000/svg\" height=\"24px\"viewBox=\"0 0 24 24\"\n",
              "     width=\"24px\">\n",
              "    <g>\n",
              "        <path d=\"M19 3H5c-1.1 0-2 .9-2 2v14c0 1.1.9 2 2 2h14c1.1 0 2-.9 2-2V5c0-1.1-.9-2-2-2zM9 17H7v-7h2v7zm4 0h-2V7h2v10zm4 0h-2v-4h2v4z\"/>\n",
              "    </g>\n",
              "</svg>\n",
              "      </button>\n",
              "\n",
              "<style>\n",
              "  .colab-df-quickchart {\n",
              "      --bg-color: #E8F0FE;\n",
              "      --fill-color: #1967D2;\n",
              "      --hover-bg-color: #E2EBFA;\n",
              "      --hover-fill-color: #174EA6;\n",
              "      --disabled-fill-color: #AAA;\n",
              "      --disabled-bg-color: #DDD;\n",
              "  }\n",
              "\n",
              "  [theme=dark] .colab-df-quickchart {\n",
              "      --bg-color: #3B4455;\n",
              "      --fill-color: #D2E3FC;\n",
              "      --hover-bg-color: #434B5C;\n",
              "      --hover-fill-color: #FFFFFF;\n",
              "      --disabled-bg-color: #3B4455;\n",
              "      --disabled-fill-color: #666;\n",
              "  }\n",
              "\n",
              "  .colab-df-quickchart {\n",
              "    background-color: var(--bg-color);\n",
              "    border: none;\n",
              "    border-radius: 50%;\n",
              "    cursor: pointer;\n",
              "    display: none;\n",
              "    fill: var(--fill-color);\n",
              "    height: 32px;\n",
              "    padding: 0;\n",
              "    width: 32px;\n",
              "  }\n",
              "\n",
              "  .colab-df-quickchart:hover {\n",
              "    background-color: var(--hover-bg-color);\n",
              "    box-shadow: 0 1px 2px rgba(60, 64, 67, 0.3), 0 1px 3px 1px rgba(60, 64, 67, 0.15);\n",
              "    fill: var(--button-hover-fill-color);\n",
              "  }\n",
              "\n",
              "  .colab-df-quickchart-complete:disabled,\n",
              "  .colab-df-quickchart-complete:disabled:hover {\n",
              "    background-color: var(--disabled-bg-color);\n",
              "    fill: var(--disabled-fill-color);\n",
              "    box-shadow: none;\n",
              "  }\n",
              "\n",
              "  .colab-df-spinner {\n",
              "    border: 2px solid var(--fill-color);\n",
              "    border-color: transparent;\n",
              "    border-bottom-color: var(--fill-color);\n",
              "    animation:\n",
              "      spin 1s steps(1) infinite;\n",
              "  }\n",
              "\n",
              "  @keyframes spin {\n",
              "    0% {\n",
              "      border-color: transparent;\n",
              "      border-bottom-color: var(--fill-color);\n",
              "      border-left-color: var(--fill-color);\n",
              "    }\n",
              "    20% {\n",
              "      border-color: transparent;\n",
              "      border-left-color: var(--fill-color);\n",
              "      border-top-color: var(--fill-color);\n",
              "    }\n",
              "    30% {\n",
              "      border-color: transparent;\n",
              "      border-left-color: var(--fill-color);\n",
              "      border-top-color: var(--fill-color);\n",
              "      border-right-color: var(--fill-color);\n",
              "    }\n",
              "    40% {\n",
              "      border-color: transparent;\n",
              "      border-right-color: var(--fill-color);\n",
              "      border-top-color: var(--fill-color);\n",
              "    }\n",
              "    60% {\n",
              "      border-color: transparent;\n",
              "      border-right-color: var(--fill-color);\n",
              "    }\n",
              "    80% {\n",
              "      border-color: transparent;\n",
              "      border-right-color: var(--fill-color);\n",
              "      border-bottom-color: var(--fill-color);\n",
              "    }\n",
              "    90% {\n",
              "      border-color: transparent;\n",
              "      border-bottom-color: var(--fill-color);\n",
              "    }\n",
              "  }\n",
              "</style>\n",
              "\n",
              "      <script>\n",
              "        async function quickchart(key) {\n",
              "          const quickchartButtonEl =\n",
              "            document.querySelector('#' + key + ' button');\n",
              "          quickchartButtonEl.disabled = true;  // To prevent multiple clicks.\n",
              "          quickchartButtonEl.classList.add('colab-df-spinner');\n",
              "          try {\n",
              "            const charts = await google.colab.kernel.invokeFunction(\n",
              "                'suggestCharts', [key], {});\n",
              "          } catch (error) {\n",
              "            console.error('Error during call to suggestCharts:', error);\n",
              "          }\n",
              "          quickchartButtonEl.classList.remove('colab-df-spinner');\n",
              "          quickchartButtonEl.classList.add('colab-df-quickchart-complete');\n",
              "        }\n",
              "        (() => {\n",
              "          let quickchartButtonEl =\n",
              "            document.querySelector('#df-fcdb1638-9561-4dc8-bc77-ff40f32aa4af button');\n",
              "          quickchartButtonEl.style.display =\n",
              "            google.colab.kernel.accessAllowed ? 'block' : 'none';\n",
              "        })();\n",
              "      </script>\n",
              "    </div>\n",
              "\n",
              "    </div>\n",
              "  </div>\n"
            ],
            "application/vnd.google.colaboratory.intrinsic+json": {
              "type": "dataframe",
              "variable_name": "X_train"
            }
          },
          "metadata": {},
          "execution_count": 92
        }
      ],
      "source": [
        "X_train.head()"
      ]
    },
    {
      "cell_type": "code",
      "execution_count": 93,
      "id": "b9ec8262-9791-4289-a8a6-7f852bc6b2a0",
      "metadata": {
        "id": "b9ec8262-9791-4289-a8a6-7f852bc6b2a0"
      },
      "outputs": [],
      "source": [
        "# make X_test and y_test\n",
        "\n",
        "X_test = test_df.drop(columns=[\"total_pickups\"])\n",
        "\n",
        "y_test = test_df[\"total_pickups\"]"
      ]
    },
    {
      "cell_type": "code",
      "execution_count": 94,
      "id": "5e9027a1-9ab2-4f08-9701-76e105706d13",
      "metadata": {
        "colab": {
          "base_uri": "https://localhost:8080/",
          "height": 238
        },
        "id": "5e9027a1-9ab2-4f08-9701-76e105706d13",
        "outputId": "337c19d7-7f08-472e-d1dc-88ba386702e1"
      },
      "outputs": [
        {
          "output_type": "execute_result",
          "data": {
            "text/plain": [
              "                      lag_1  lag_2  lag_3  lag_4  region  avg_pickups  \\\n",
              "tpep_pickup_datetime                                                    \n",
              "2016-03-01 00:00:00    10.0   10.0   10.0   10.0       0         10.0   \n",
              "2016-03-01 00:15:00    11.0   10.0   10.0   10.0       0         10.0   \n",
              "2016-03-01 00:30:00    10.0   11.0   10.0   10.0       0         10.0   \n",
              "2016-03-01 00:45:00    10.0   10.0   11.0   10.0       0         10.0   \n",
              "2016-03-01 01:00:00    10.0   10.0   10.0   11.0       0         10.0   \n",
              "\n",
              "                      day_of_week  \n",
              "tpep_pickup_datetime               \n",
              "2016-03-01 00:00:00             1  \n",
              "2016-03-01 00:15:00             1  \n",
              "2016-03-01 00:30:00             1  \n",
              "2016-03-01 00:45:00             1  \n",
              "2016-03-01 01:00:00             1  "
            ],
            "text/html": [
              "\n",
              "  <div id=\"df-0eb743da-fc85-450d-a6ff-b77fcd2a5277\" class=\"colab-df-container\">\n",
              "    <div>\n",
              "<style scoped>\n",
              "    .dataframe tbody tr th:only-of-type {\n",
              "        vertical-align: middle;\n",
              "    }\n",
              "\n",
              "    .dataframe tbody tr th {\n",
              "        vertical-align: top;\n",
              "    }\n",
              "\n",
              "    .dataframe thead th {\n",
              "        text-align: right;\n",
              "    }\n",
              "</style>\n",
              "<table border=\"1\" class=\"dataframe\">\n",
              "  <thead>\n",
              "    <tr style=\"text-align: right;\">\n",
              "      <th></th>\n",
              "      <th>lag_1</th>\n",
              "      <th>lag_2</th>\n",
              "      <th>lag_3</th>\n",
              "      <th>lag_4</th>\n",
              "      <th>region</th>\n",
              "      <th>avg_pickups</th>\n",
              "      <th>day_of_week</th>\n",
              "    </tr>\n",
              "    <tr>\n",
              "      <th>tpep_pickup_datetime</th>\n",
              "      <th></th>\n",
              "      <th></th>\n",
              "      <th></th>\n",
              "      <th></th>\n",
              "      <th></th>\n",
              "      <th></th>\n",
              "      <th></th>\n",
              "    </tr>\n",
              "  </thead>\n",
              "  <tbody>\n",
              "    <tr>\n",
              "      <th>2016-03-01 00:00:00</th>\n",
              "      <td>10.0</td>\n",
              "      <td>10.0</td>\n",
              "      <td>10.0</td>\n",
              "      <td>10.0</td>\n",
              "      <td>0</td>\n",
              "      <td>10.0</td>\n",
              "      <td>1</td>\n",
              "    </tr>\n",
              "    <tr>\n",
              "      <th>2016-03-01 00:15:00</th>\n",
              "      <td>11.0</td>\n",
              "      <td>10.0</td>\n",
              "      <td>10.0</td>\n",
              "      <td>10.0</td>\n",
              "      <td>0</td>\n",
              "      <td>10.0</td>\n",
              "      <td>1</td>\n",
              "    </tr>\n",
              "    <tr>\n",
              "      <th>2016-03-01 00:30:00</th>\n",
              "      <td>10.0</td>\n",
              "      <td>11.0</td>\n",
              "      <td>10.0</td>\n",
              "      <td>10.0</td>\n",
              "      <td>0</td>\n",
              "      <td>10.0</td>\n",
              "      <td>1</td>\n",
              "    </tr>\n",
              "    <tr>\n",
              "      <th>2016-03-01 00:45:00</th>\n",
              "      <td>10.0</td>\n",
              "      <td>10.0</td>\n",
              "      <td>11.0</td>\n",
              "      <td>10.0</td>\n",
              "      <td>0</td>\n",
              "      <td>10.0</td>\n",
              "      <td>1</td>\n",
              "    </tr>\n",
              "    <tr>\n",
              "      <th>2016-03-01 01:00:00</th>\n",
              "      <td>10.0</td>\n",
              "      <td>10.0</td>\n",
              "      <td>10.0</td>\n",
              "      <td>11.0</td>\n",
              "      <td>0</td>\n",
              "      <td>10.0</td>\n",
              "      <td>1</td>\n",
              "    </tr>\n",
              "  </tbody>\n",
              "</table>\n",
              "</div>\n",
              "    <div class=\"colab-df-buttons\">\n",
              "\n",
              "  <div class=\"colab-df-container\">\n",
              "    <button class=\"colab-df-convert\" onclick=\"convertToInteractive('df-0eb743da-fc85-450d-a6ff-b77fcd2a5277')\"\n",
              "            title=\"Convert this dataframe to an interactive table.\"\n",
              "            style=\"display:none;\">\n",
              "\n",
              "  <svg xmlns=\"http://www.w3.org/2000/svg\" height=\"24px\" viewBox=\"0 -960 960 960\">\n",
              "    <path d=\"M120-120v-720h720v720H120Zm60-500h600v-160H180v160Zm220 220h160v-160H400v160Zm0 220h160v-160H400v160ZM180-400h160v-160H180v160Zm440 0h160v-160H620v160ZM180-180h160v-160H180v160Zm440 0h160v-160H620v160Z\"/>\n",
              "  </svg>\n",
              "    </button>\n",
              "\n",
              "  <style>\n",
              "    .colab-df-container {\n",
              "      display:flex;\n",
              "      gap: 12px;\n",
              "    }\n",
              "\n",
              "    .colab-df-convert {\n",
              "      background-color: #E8F0FE;\n",
              "      border: none;\n",
              "      border-radius: 50%;\n",
              "      cursor: pointer;\n",
              "      display: none;\n",
              "      fill: #1967D2;\n",
              "      height: 32px;\n",
              "      padding: 0 0 0 0;\n",
              "      width: 32px;\n",
              "    }\n",
              "\n",
              "    .colab-df-convert:hover {\n",
              "      background-color: #E2EBFA;\n",
              "      box-shadow: 0px 1px 2px rgba(60, 64, 67, 0.3), 0px 1px 3px 1px rgba(60, 64, 67, 0.15);\n",
              "      fill: #174EA6;\n",
              "    }\n",
              "\n",
              "    .colab-df-buttons div {\n",
              "      margin-bottom: 4px;\n",
              "    }\n",
              "\n",
              "    [theme=dark] .colab-df-convert {\n",
              "      background-color: #3B4455;\n",
              "      fill: #D2E3FC;\n",
              "    }\n",
              "\n",
              "    [theme=dark] .colab-df-convert:hover {\n",
              "      background-color: #434B5C;\n",
              "      box-shadow: 0px 1px 3px 1px rgba(0, 0, 0, 0.15);\n",
              "      filter: drop-shadow(0px 1px 2px rgba(0, 0, 0, 0.3));\n",
              "      fill: #FFFFFF;\n",
              "    }\n",
              "  </style>\n",
              "\n",
              "    <script>\n",
              "      const buttonEl =\n",
              "        document.querySelector('#df-0eb743da-fc85-450d-a6ff-b77fcd2a5277 button.colab-df-convert');\n",
              "      buttonEl.style.display =\n",
              "        google.colab.kernel.accessAllowed ? 'block' : 'none';\n",
              "\n",
              "      async function convertToInteractive(key) {\n",
              "        const element = document.querySelector('#df-0eb743da-fc85-450d-a6ff-b77fcd2a5277');\n",
              "        const dataTable =\n",
              "          await google.colab.kernel.invokeFunction('convertToInteractive',\n",
              "                                                    [key], {});\n",
              "        if (!dataTable) return;\n",
              "\n",
              "        const docLinkHtml = 'Like what you see? Visit the ' +\n",
              "          '<a target=\"_blank\" href=https://colab.research.google.com/notebooks/data_table.ipynb>data table notebook</a>'\n",
              "          + ' to learn more about interactive tables.';\n",
              "        element.innerHTML = '';\n",
              "        dataTable['output_type'] = 'display_data';\n",
              "        await google.colab.output.renderOutput(dataTable, element);\n",
              "        const docLink = document.createElement('div');\n",
              "        docLink.innerHTML = docLinkHtml;\n",
              "        element.appendChild(docLink);\n",
              "      }\n",
              "    </script>\n",
              "  </div>\n",
              "\n",
              "\n",
              "    <div id=\"df-deb023d3-a8dc-43f3-a57a-4e16411aedbb\">\n",
              "      <button class=\"colab-df-quickchart\" onclick=\"quickchart('df-deb023d3-a8dc-43f3-a57a-4e16411aedbb')\"\n",
              "                title=\"Suggest charts\"\n",
              "                style=\"display:none;\">\n",
              "\n",
              "<svg xmlns=\"http://www.w3.org/2000/svg\" height=\"24px\"viewBox=\"0 0 24 24\"\n",
              "     width=\"24px\">\n",
              "    <g>\n",
              "        <path d=\"M19 3H5c-1.1 0-2 .9-2 2v14c0 1.1.9 2 2 2h14c1.1 0 2-.9 2-2V5c0-1.1-.9-2-2-2zM9 17H7v-7h2v7zm4 0h-2V7h2v10zm4 0h-2v-4h2v4z\"/>\n",
              "    </g>\n",
              "</svg>\n",
              "      </button>\n",
              "\n",
              "<style>\n",
              "  .colab-df-quickchart {\n",
              "      --bg-color: #E8F0FE;\n",
              "      --fill-color: #1967D2;\n",
              "      --hover-bg-color: #E2EBFA;\n",
              "      --hover-fill-color: #174EA6;\n",
              "      --disabled-fill-color: #AAA;\n",
              "      --disabled-bg-color: #DDD;\n",
              "  }\n",
              "\n",
              "  [theme=dark] .colab-df-quickchart {\n",
              "      --bg-color: #3B4455;\n",
              "      --fill-color: #D2E3FC;\n",
              "      --hover-bg-color: #434B5C;\n",
              "      --hover-fill-color: #FFFFFF;\n",
              "      --disabled-bg-color: #3B4455;\n",
              "      --disabled-fill-color: #666;\n",
              "  }\n",
              "\n",
              "  .colab-df-quickchart {\n",
              "    background-color: var(--bg-color);\n",
              "    border: none;\n",
              "    border-radius: 50%;\n",
              "    cursor: pointer;\n",
              "    display: none;\n",
              "    fill: var(--fill-color);\n",
              "    height: 32px;\n",
              "    padding: 0;\n",
              "    width: 32px;\n",
              "  }\n",
              "\n",
              "  .colab-df-quickchart:hover {\n",
              "    background-color: var(--hover-bg-color);\n",
              "    box-shadow: 0 1px 2px rgba(60, 64, 67, 0.3), 0 1px 3px 1px rgba(60, 64, 67, 0.15);\n",
              "    fill: var(--button-hover-fill-color);\n",
              "  }\n",
              "\n",
              "  .colab-df-quickchart-complete:disabled,\n",
              "  .colab-df-quickchart-complete:disabled:hover {\n",
              "    background-color: var(--disabled-bg-color);\n",
              "    fill: var(--disabled-fill-color);\n",
              "    box-shadow: none;\n",
              "  }\n",
              "\n",
              "  .colab-df-spinner {\n",
              "    border: 2px solid var(--fill-color);\n",
              "    border-color: transparent;\n",
              "    border-bottom-color: var(--fill-color);\n",
              "    animation:\n",
              "      spin 1s steps(1) infinite;\n",
              "  }\n",
              "\n",
              "  @keyframes spin {\n",
              "    0% {\n",
              "      border-color: transparent;\n",
              "      border-bottom-color: var(--fill-color);\n",
              "      border-left-color: var(--fill-color);\n",
              "    }\n",
              "    20% {\n",
              "      border-color: transparent;\n",
              "      border-left-color: var(--fill-color);\n",
              "      border-top-color: var(--fill-color);\n",
              "    }\n",
              "    30% {\n",
              "      border-color: transparent;\n",
              "      border-left-color: var(--fill-color);\n",
              "      border-top-color: var(--fill-color);\n",
              "      border-right-color: var(--fill-color);\n",
              "    }\n",
              "    40% {\n",
              "      border-color: transparent;\n",
              "      border-right-color: var(--fill-color);\n",
              "      border-top-color: var(--fill-color);\n",
              "    }\n",
              "    60% {\n",
              "      border-color: transparent;\n",
              "      border-right-color: var(--fill-color);\n",
              "    }\n",
              "    80% {\n",
              "      border-color: transparent;\n",
              "      border-right-color: var(--fill-color);\n",
              "      border-bottom-color: var(--fill-color);\n",
              "    }\n",
              "    90% {\n",
              "      border-color: transparent;\n",
              "      border-bottom-color: var(--fill-color);\n",
              "    }\n",
              "  }\n",
              "</style>\n",
              "\n",
              "      <script>\n",
              "        async function quickchart(key) {\n",
              "          const quickchartButtonEl =\n",
              "            document.querySelector('#' + key + ' button');\n",
              "          quickchartButtonEl.disabled = true;  // To prevent multiple clicks.\n",
              "          quickchartButtonEl.classList.add('colab-df-spinner');\n",
              "          try {\n",
              "            const charts = await google.colab.kernel.invokeFunction(\n",
              "                'suggestCharts', [key], {});\n",
              "          } catch (error) {\n",
              "            console.error('Error during call to suggestCharts:', error);\n",
              "          }\n",
              "          quickchartButtonEl.classList.remove('colab-df-spinner');\n",
              "          quickchartButtonEl.classList.add('colab-df-quickchart-complete');\n",
              "        }\n",
              "        (() => {\n",
              "          let quickchartButtonEl =\n",
              "            document.querySelector('#df-deb023d3-a8dc-43f3-a57a-4e16411aedbb button');\n",
              "          quickchartButtonEl.style.display =\n",
              "            google.colab.kernel.accessAllowed ? 'block' : 'none';\n",
              "        })();\n",
              "      </script>\n",
              "    </div>\n",
              "\n",
              "    </div>\n",
              "  </div>\n"
            ],
            "application/vnd.google.colaboratory.intrinsic+json": {
              "type": "dataframe",
              "variable_name": "X_test",
              "summary": "{\n  \"name\": \"X_test\",\n  \"rows\": 26848,\n  \"fields\": [\n    {\n      \"column\": \"tpep_pickup_datetime\",\n      \"properties\": {\n        \"dtype\": \"date\",\n        \"min\": \"2016-03-01 00:00:00\",\n        \"max\": \"2016-03-10 07:30:00\",\n        \"num_unique_values\": 895,\n        \"samples\": [\n          \"2016-03-08 09:45:00\",\n          \"2016-03-05 14:00:00\",\n          \"2016-03-06 11:15:00\"\n        ],\n        \"semantic_type\": \"\",\n        \"description\": \"\"\n      }\n    },\n    {\n      \"column\": \"lag_1\",\n      \"properties\": {\n        \"dtype\": \"number\",\n        \"std\": 3.6345856844478712,\n        \"min\": 1.0,\n        \"max\": 238.0,\n        \"num_unique_values\": 55,\n        \"samples\": [\n          24.0,\n          46.0,\n          39.0\n        ],\n        \"semantic_type\": \"\",\n        \"description\": \"\"\n      }\n    },\n    {\n      \"column\": \"lag_2\",\n      \"properties\": {\n        \"dtype\": \"number\",\n        \"std\": 1.4615018293412323,\n        \"min\": 1.0,\n        \"max\": 125.0,\n        \"num_unique_values\": 33,\n        \"samples\": [\n          14.0,\n          79.0,\n          63.0\n        ],\n        \"semantic_type\": \"\",\n        \"description\": \"\"\n      }\n    },\n    {\n      \"column\": \"lag_3\",\n      \"properties\": {\n        \"dtype\": \"number\",\n        \"std\": 0.21780646801092565,\n        \"min\": 1.0,\n        \"max\": 25.0,\n        \"num_unique_values\": 13,\n        \"samples\": [\n          25.0,\n          2.0,\n          10.0\n        ],\n        \"semantic_type\": \"\",\n        \"description\": \"\"\n      }\n    },\n    {\n      \"column\": \"lag_4\",\n      \"properties\": {\n        \"dtype\": \"number\",\n        \"std\": 0.21780646801092568,\n        \"min\": 1.0,\n        \"max\": 25.0,\n        \"num_unique_values\": 13,\n        \"samples\": [\n          25.0,\n          2.0,\n          10.0\n        ],\n        \"semantic_type\": \"\",\n        \"description\": \"\"\n      }\n    },\n    {\n      \"column\": \"region\",\n      \"properties\": {\n        \"dtype\": \"number\",\n        \"std\": 8,\n        \"min\": 0,\n        \"max\": 29,\n        \"num_unique_values\": 30,\n        \"samples\": [\n          27,\n          15,\n          23\n        ],\n        \"semantic_type\": \"\",\n        \"description\": \"\"\n      }\n    },\n    {\n      \"column\": \"avg_pickups\",\n      \"properties\": {\n        \"dtype\": \"number\",\n        \"std\": 3.1050210039955792,\n        \"min\": 4.0,\n        \"max\": 194.0,\n        \"num_unique_values\": 56,\n        \"samples\": [\n          10.0,\n          28.0,\n          11.0\n        ],\n        \"semantic_type\": \"\",\n        \"description\": \"\"\n      }\n    },\n    {\n      \"column\": \"day_of_week\",\n      \"properties\": {\n        \"dtype\": \"number\",\n        \"std\": 1,\n        \"min\": 0,\n        \"max\": 6,\n        \"num_unique_values\": 7,\n        \"samples\": [\n          1,\n          2,\n          6\n        ],\n        \"semantic_type\": \"\",\n        \"description\": \"\"\n      }\n    }\n  ]\n}"
            }
          },
          "metadata": {},
          "execution_count": 94
        }
      ],
      "source": [
        "X_test.head()"
      ]
    },
    {
      "cell_type": "code",
      "execution_count": 95,
      "id": "afa08d89-41cf-466b-8154-d319638896cb",
      "metadata": {
        "id": "afa08d89-41cf-466b-8154-d319638896cb"
      },
      "outputs": [],
      "source": [
        "from sklearn import set_config\n",
        "\n",
        "set_config(transform_output=\"pandas\")"
      ]
    },
    {
      "cell_type": "code",
      "execution_count": 96,
      "id": "ffa4afda-3d3f-4784-88de-cb0f8019b619",
      "metadata": {
        "id": "ffa4afda-3d3f-4784-88de-cb0f8019b619"
      },
      "outputs": [],
      "source": [
        "# encode the data\n",
        "\n",
        "encoder = ColumnTransformer([\n",
        "    (\"ohe\", OneHotEncoder(drop=\"first\",sparse_output=False), [\"region\",\"day_of_week\"])\n",
        "], remainder=\"passthrough\", n_jobs=-1,force_int_remainder_cols=False)"
      ]
    },
    {
      "cell_type": "code",
      "execution_count": 97,
      "id": "327363cc-f2b4-4771-96fd-a0c98887ef09",
      "metadata": {
        "colab": {
          "base_uri": "https://localhost:8080/",
          "height": 150
        },
        "id": "327363cc-f2b4-4771-96fd-a0c98887ef09",
        "outputId": "81c78c47-cd1e-47bc-c47a-c50be03f0c25"
      },
      "outputs": [
        {
          "output_type": "execute_result",
          "data": {
            "text/plain": [
              "ColumnTransformer(force_int_remainder_cols=False, n_jobs=-1,\n",
              "                  remainder='passthrough',\n",
              "                  transformers=[('ohe',\n",
              "                                 OneHotEncoder(drop='first',\n",
              "                                               sparse_output=False),\n",
              "                                 ['region', 'day_of_week'])])"
            ],
            "text/html": [
              "<style>#sk-container-id-4 {\n",
              "  /* Definition of color scheme common for light and dark mode */\n",
              "  --sklearn-color-text: #000;\n",
              "  --sklearn-color-text-muted: #666;\n",
              "  --sklearn-color-line: gray;\n",
              "  /* Definition of color scheme for unfitted estimators */\n",
              "  --sklearn-color-unfitted-level-0: #fff5e6;\n",
              "  --sklearn-color-unfitted-level-1: #f6e4d2;\n",
              "  --sklearn-color-unfitted-level-2: #ffe0b3;\n",
              "  --sklearn-color-unfitted-level-3: chocolate;\n",
              "  /* Definition of color scheme for fitted estimators */\n",
              "  --sklearn-color-fitted-level-0: #f0f8ff;\n",
              "  --sklearn-color-fitted-level-1: #d4ebff;\n",
              "  --sklearn-color-fitted-level-2: #b3dbfd;\n",
              "  --sklearn-color-fitted-level-3: cornflowerblue;\n",
              "\n",
              "  /* Specific color for light theme */\n",
              "  --sklearn-color-text-on-default-background: var(--sg-text-color, var(--theme-code-foreground, var(--jp-content-font-color1, black)));\n",
              "  --sklearn-color-background: var(--sg-background-color, var(--theme-background, var(--jp-layout-color0, white)));\n",
              "  --sklearn-color-border-box: var(--sg-text-color, var(--theme-code-foreground, var(--jp-content-font-color1, black)));\n",
              "  --sklearn-color-icon: #696969;\n",
              "\n",
              "  @media (prefers-color-scheme: dark) {\n",
              "    /* Redefinition of color scheme for dark theme */\n",
              "    --sklearn-color-text-on-default-background: var(--sg-text-color, var(--theme-code-foreground, var(--jp-content-font-color1, white)));\n",
              "    --sklearn-color-background: var(--sg-background-color, var(--theme-background, var(--jp-layout-color0, #111)));\n",
              "    --sklearn-color-border-box: var(--sg-text-color, var(--theme-code-foreground, var(--jp-content-font-color1, white)));\n",
              "    --sklearn-color-icon: #878787;\n",
              "  }\n",
              "}\n",
              "\n",
              "#sk-container-id-4 {\n",
              "  color: var(--sklearn-color-text);\n",
              "}\n",
              "\n",
              "#sk-container-id-4 pre {\n",
              "  padding: 0;\n",
              "}\n",
              "\n",
              "#sk-container-id-4 input.sk-hidden--visually {\n",
              "  border: 0;\n",
              "  clip: rect(1px 1px 1px 1px);\n",
              "  clip: rect(1px, 1px, 1px, 1px);\n",
              "  height: 1px;\n",
              "  margin: -1px;\n",
              "  overflow: hidden;\n",
              "  padding: 0;\n",
              "  position: absolute;\n",
              "  width: 1px;\n",
              "}\n",
              "\n",
              "#sk-container-id-4 div.sk-dashed-wrapped {\n",
              "  border: 1px dashed var(--sklearn-color-line);\n",
              "  margin: 0 0.4em 0.5em 0.4em;\n",
              "  box-sizing: border-box;\n",
              "  padding-bottom: 0.4em;\n",
              "  background-color: var(--sklearn-color-background);\n",
              "}\n",
              "\n",
              "#sk-container-id-4 div.sk-container {\n",
              "  /* jupyter's `normalize.less` sets `[hidden] { display: none; }`\n",
              "     but bootstrap.min.css set `[hidden] { display: none !important; }`\n",
              "     so we also need the `!important` here to be able to override the\n",
              "     default hidden behavior on the sphinx rendered scikit-learn.org.\n",
              "     See: https://github.com/scikit-learn/scikit-learn/issues/21755 */\n",
              "  display: inline-block !important;\n",
              "  position: relative;\n",
              "}\n",
              "\n",
              "#sk-container-id-4 div.sk-text-repr-fallback {\n",
              "  display: none;\n",
              "}\n",
              "\n",
              "div.sk-parallel-item,\n",
              "div.sk-serial,\n",
              "div.sk-item {\n",
              "  /* draw centered vertical line to link estimators */\n",
              "  background-image: linear-gradient(var(--sklearn-color-text-on-default-background), var(--sklearn-color-text-on-default-background));\n",
              "  background-size: 2px 100%;\n",
              "  background-repeat: no-repeat;\n",
              "  background-position: center center;\n",
              "}\n",
              "\n",
              "/* Parallel-specific style estimator block */\n",
              "\n",
              "#sk-container-id-4 div.sk-parallel-item::after {\n",
              "  content: \"\";\n",
              "  width: 100%;\n",
              "  border-bottom: 2px solid var(--sklearn-color-text-on-default-background);\n",
              "  flex-grow: 1;\n",
              "}\n",
              "\n",
              "#sk-container-id-4 div.sk-parallel {\n",
              "  display: flex;\n",
              "  align-items: stretch;\n",
              "  justify-content: center;\n",
              "  background-color: var(--sklearn-color-background);\n",
              "  position: relative;\n",
              "}\n",
              "\n",
              "#sk-container-id-4 div.sk-parallel-item {\n",
              "  display: flex;\n",
              "  flex-direction: column;\n",
              "}\n",
              "\n",
              "#sk-container-id-4 div.sk-parallel-item:first-child::after {\n",
              "  align-self: flex-end;\n",
              "  width: 50%;\n",
              "}\n",
              "\n",
              "#sk-container-id-4 div.sk-parallel-item:last-child::after {\n",
              "  align-self: flex-start;\n",
              "  width: 50%;\n",
              "}\n",
              "\n",
              "#sk-container-id-4 div.sk-parallel-item:only-child::after {\n",
              "  width: 0;\n",
              "}\n",
              "\n",
              "/* Serial-specific style estimator block */\n",
              "\n",
              "#sk-container-id-4 div.sk-serial {\n",
              "  display: flex;\n",
              "  flex-direction: column;\n",
              "  align-items: center;\n",
              "  background-color: var(--sklearn-color-background);\n",
              "  padding-right: 1em;\n",
              "  padding-left: 1em;\n",
              "}\n",
              "\n",
              "\n",
              "/* Toggleable style: style used for estimator/Pipeline/ColumnTransformer box that is\n",
              "clickable and can be expanded/collapsed.\n",
              "- Pipeline and ColumnTransformer use this feature and define the default style\n",
              "- Estimators will overwrite some part of the style using the `sk-estimator` class\n",
              "*/\n",
              "\n",
              "/* Pipeline and ColumnTransformer style (default) */\n",
              "\n",
              "#sk-container-id-4 div.sk-toggleable {\n",
              "  /* Default theme specific background. It is overwritten whether we have a\n",
              "  specific estimator or a Pipeline/ColumnTransformer */\n",
              "  background-color: var(--sklearn-color-background);\n",
              "}\n",
              "\n",
              "/* Toggleable label */\n",
              "#sk-container-id-4 label.sk-toggleable__label {\n",
              "  cursor: pointer;\n",
              "  display: flex;\n",
              "  width: 100%;\n",
              "  margin-bottom: 0;\n",
              "  padding: 0.5em;\n",
              "  box-sizing: border-box;\n",
              "  text-align: center;\n",
              "  align-items: start;\n",
              "  justify-content: space-between;\n",
              "  gap: 0.5em;\n",
              "}\n",
              "\n",
              "#sk-container-id-4 label.sk-toggleable__label .caption {\n",
              "  font-size: 0.6rem;\n",
              "  font-weight: lighter;\n",
              "  color: var(--sklearn-color-text-muted);\n",
              "}\n",
              "\n",
              "#sk-container-id-4 label.sk-toggleable__label-arrow:before {\n",
              "  /* Arrow on the left of the label */\n",
              "  content: \"▸\";\n",
              "  float: left;\n",
              "  margin-right: 0.25em;\n",
              "  color: var(--sklearn-color-icon);\n",
              "}\n",
              "\n",
              "#sk-container-id-4 label.sk-toggleable__label-arrow:hover:before {\n",
              "  color: var(--sklearn-color-text);\n",
              "}\n",
              "\n",
              "/* Toggleable content - dropdown */\n",
              "\n",
              "#sk-container-id-4 div.sk-toggleable__content {\n",
              "  max-height: 0;\n",
              "  max-width: 0;\n",
              "  overflow: hidden;\n",
              "  text-align: left;\n",
              "  /* unfitted */\n",
              "  background-color: var(--sklearn-color-unfitted-level-0);\n",
              "}\n",
              "\n",
              "#sk-container-id-4 div.sk-toggleable__content.fitted {\n",
              "  /* fitted */\n",
              "  background-color: var(--sklearn-color-fitted-level-0);\n",
              "}\n",
              "\n",
              "#sk-container-id-4 div.sk-toggleable__content pre {\n",
              "  margin: 0.2em;\n",
              "  border-radius: 0.25em;\n",
              "  color: var(--sklearn-color-text);\n",
              "  /* unfitted */\n",
              "  background-color: var(--sklearn-color-unfitted-level-0);\n",
              "}\n",
              "\n",
              "#sk-container-id-4 div.sk-toggleable__content.fitted pre {\n",
              "  /* unfitted */\n",
              "  background-color: var(--sklearn-color-fitted-level-0);\n",
              "}\n",
              "\n",
              "#sk-container-id-4 input.sk-toggleable__control:checked~div.sk-toggleable__content {\n",
              "  /* Expand drop-down */\n",
              "  max-height: 200px;\n",
              "  max-width: 100%;\n",
              "  overflow: auto;\n",
              "}\n",
              "\n",
              "#sk-container-id-4 input.sk-toggleable__control:checked~label.sk-toggleable__label-arrow:before {\n",
              "  content: \"▾\";\n",
              "}\n",
              "\n",
              "/* Pipeline/ColumnTransformer-specific style */\n",
              "\n",
              "#sk-container-id-4 div.sk-label input.sk-toggleable__control:checked~label.sk-toggleable__label {\n",
              "  color: var(--sklearn-color-text);\n",
              "  background-color: var(--sklearn-color-unfitted-level-2);\n",
              "}\n",
              "\n",
              "#sk-container-id-4 div.sk-label.fitted input.sk-toggleable__control:checked~label.sk-toggleable__label {\n",
              "  background-color: var(--sklearn-color-fitted-level-2);\n",
              "}\n",
              "\n",
              "/* Estimator-specific style */\n",
              "\n",
              "/* Colorize estimator box */\n",
              "#sk-container-id-4 div.sk-estimator input.sk-toggleable__control:checked~label.sk-toggleable__label {\n",
              "  /* unfitted */\n",
              "  background-color: var(--sklearn-color-unfitted-level-2);\n",
              "}\n",
              "\n",
              "#sk-container-id-4 div.sk-estimator.fitted input.sk-toggleable__control:checked~label.sk-toggleable__label {\n",
              "  /* fitted */\n",
              "  background-color: var(--sklearn-color-fitted-level-2);\n",
              "}\n",
              "\n",
              "#sk-container-id-4 div.sk-label label.sk-toggleable__label,\n",
              "#sk-container-id-4 div.sk-label label {\n",
              "  /* The background is the default theme color */\n",
              "  color: var(--sklearn-color-text-on-default-background);\n",
              "}\n",
              "\n",
              "/* On hover, darken the color of the background */\n",
              "#sk-container-id-4 div.sk-label:hover label.sk-toggleable__label {\n",
              "  color: var(--sklearn-color-text);\n",
              "  background-color: var(--sklearn-color-unfitted-level-2);\n",
              "}\n",
              "\n",
              "/* Label box, darken color on hover, fitted */\n",
              "#sk-container-id-4 div.sk-label.fitted:hover label.sk-toggleable__label.fitted {\n",
              "  color: var(--sklearn-color-text);\n",
              "  background-color: var(--sklearn-color-fitted-level-2);\n",
              "}\n",
              "\n",
              "/* Estimator label */\n",
              "\n",
              "#sk-container-id-4 div.sk-label label {\n",
              "  font-family: monospace;\n",
              "  font-weight: bold;\n",
              "  display: inline-block;\n",
              "  line-height: 1.2em;\n",
              "}\n",
              "\n",
              "#sk-container-id-4 div.sk-label-container {\n",
              "  text-align: center;\n",
              "}\n",
              "\n",
              "/* Estimator-specific */\n",
              "#sk-container-id-4 div.sk-estimator {\n",
              "  font-family: monospace;\n",
              "  border: 1px dotted var(--sklearn-color-border-box);\n",
              "  border-radius: 0.25em;\n",
              "  box-sizing: border-box;\n",
              "  margin-bottom: 0.5em;\n",
              "  /* unfitted */\n",
              "  background-color: var(--sklearn-color-unfitted-level-0);\n",
              "}\n",
              "\n",
              "#sk-container-id-4 div.sk-estimator.fitted {\n",
              "  /* fitted */\n",
              "  background-color: var(--sklearn-color-fitted-level-0);\n",
              "}\n",
              "\n",
              "/* on hover */\n",
              "#sk-container-id-4 div.sk-estimator:hover {\n",
              "  /* unfitted */\n",
              "  background-color: var(--sklearn-color-unfitted-level-2);\n",
              "}\n",
              "\n",
              "#sk-container-id-4 div.sk-estimator.fitted:hover {\n",
              "  /* fitted */\n",
              "  background-color: var(--sklearn-color-fitted-level-2);\n",
              "}\n",
              "\n",
              "/* Specification for estimator info (e.g. \"i\" and \"?\") */\n",
              "\n",
              "/* Common style for \"i\" and \"?\" */\n",
              "\n",
              ".sk-estimator-doc-link,\n",
              "a:link.sk-estimator-doc-link,\n",
              "a:visited.sk-estimator-doc-link {\n",
              "  float: right;\n",
              "  font-size: smaller;\n",
              "  line-height: 1em;\n",
              "  font-family: monospace;\n",
              "  background-color: var(--sklearn-color-background);\n",
              "  border-radius: 1em;\n",
              "  height: 1em;\n",
              "  width: 1em;\n",
              "  text-decoration: none !important;\n",
              "  margin-left: 0.5em;\n",
              "  text-align: center;\n",
              "  /* unfitted */\n",
              "  border: var(--sklearn-color-unfitted-level-1) 1pt solid;\n",
              "  color: var(--sklearn-color-unfitted-level-1);\n",
              "}\n",
              "\n",
              ".sk-estimator-doc-link.fitted,\n",
              "a:link.sk-estimator-doc-link.fitted,\n",
              "a:visited.sk-estimator-doc-link.fitted {\n",
              "  /* fitted */\n",
              "  border: var(--sklearn-color-fitted-level-1) 1pt solid;\n",
              "  color: var(--sklearn-color-fitted-level-1);\n",
              "}\n",
              "\n",
              "/* On hover */\n",
              "div.sk-estimator:hover .sk-estimator-doc-link:hover,\n",
              ".sk-estimator-doc-link:hover,\n",
              "div.sk-label-container:hover .sk-estimator-doc-link:hover,\n",
              ".sk-estimator-doc-link:hover {\n",
              "  /* unfitted */\n",
              "  background-color: var(--sklearn-color-unfitted-level-3);\n",
              "  color: var(--sklearn-color-background);\n",
              "  text-decoration: none;\n",
              "}\n",
              "\n",
              "div.sk-estimator.fitted:hover .sk-estimator-doc-link.fitted:hover,\n",
              ".sk-estimator-doc-link.fitted:hover,\n",
              "div.sk-label-container:hover .sk-estimator-doc-link.fitted:hover,\n",
              ".sk-estimator-doc-link.fitted:hover {\n",
              "  /* fitted */\n",
              "  background-color: var(--sklearn-color-fitted-level-3);\n",
              "  color: var(--sklearn-color-background);\n",
              "  text-decoration: none;\n",
              "}\n",
              "\n",
              "/* Span, style for the box shown on hovering the info icon */\n",
              ".sk-estimator-doc-link span {\n",
              "  display: none;\n",
              "  z-index: 9999;\n",
              "  position: relative;\n",
              "  font-weight: normal;\n",
              "  right: .2ex;\n",
              "  padding: .5ex;\n",
              "  margin: .5ex;\n",
              "  width: min-content;\n",
              "  min-width: 20ex;\n",
              "  max-width: 50ex;\n",
              "  color: var(--sklearn-color-text);\n",
              "  box-shadow: 2pt 2pt 4pt #999;\n",
              "  /* unfitted */\n",
              "  background: var(--sklearn-color-unfitted-level-0);\n",
              "  border: .5pt solid var(--sklearn-color-unfitted-level-3);\n",
              "}\n",
              "\n",
              ".sk-estimator-doc-link.fitted span {\n",
              "  /* fitted */\n",
              "  background: var(--sklearn-color-fitted-level-0);\n",
              "  border: var(--sklearn-color-fitted-level-3);\n",
              "}\n",
              "\n",
              ".sk-estimator-doc-link:hover span {\n",
              "  display: block;\n",
              "}\n",
              "\n",
              "/* \"?\"-specific style due to the `<a>` HTML tag */\n",
              "\n",
              "#sk-container-id-4 a.estimator_doc_link {\n",
              "  float: right;\n",
              "  font-size: 1rem;\n",
              "  line-height: 1em;\n",
              "  font-family: monospace;\n",
              "  background-color: var(--sklearn-color-background);\n",
              "  border-radius: 1rem;\n",
              "  height: 1rem;\n",
              "  width: 1rem;\n",
              "  text-decoration: none;\n",
              "  /* unfitted */\n",
              "  color: var(--sklearn-color-unfitted-level-1);\n",
              "  border: var(--sklearn-color-unfitted-level-1) 1pt solid;\n",
              "}\n",
              "\n",
              "#sk-container-id-4 a.estimator_doc_link.fitted {\n",
              "  /* fitted */\n",
              "  border: var(--sklearn-color-fitted-level-1) 1pt solid;\n",
              "  color: var(--sklearn-color-fitted-level-1);\n",
              "}\n",
              "\n",
              "/* On hover */\n",
              "#sk-container-id-4 a.estimator_doc_link:hover {\n",
              "  /* unfitted */\n",
              "  background-color: var(--sklearn-color-unfitted-level-3);\n",
              "  color: var(--sklearn-color-background);\n",
              "  text-decoration: none;\n",
              "}\n",
              "\n",
              "#sk-container-id-4 a.estimator_doc_link.fitted:hover {\n",
              "  /* fitted */\n",
              "  background-color: var(--sklearn-color-fitted-level-3);\n",
              "}\n",
              "</style><div id=\"sk-container-id-4\" class=\"sk-top-container\"><div class=\"sk-text-repr-fallback\"><pre>ColumnTransformer(force_int_remainder_cols=False, n_jobs=-1,\n",
              "                  remainder=&#x27;passthrough&#x27;,\n",
              "                  transformers=[(&#x27;ohe&#x27;,\n",
              "                                 OneHotEncoder(drop=&#x27;first&#x27;,\n",
              "                                               sparse_output=False),\n",
              "                                 [&#x27;region&#x27;, &#x27;day_of_week&#x27;])])</pre><b>In a Jupyter environment, please rerun this cell to show the HTML representation or trust the notebook. <br />On GitHub, the HTML representation is unable to render, please try loading this page with nbviewer.org.</b></div><div class=\"sk-container\" hidden><div class=\"sk-item sk-dashed-wrapped\"><div class=\"sk-label-container\"><div class=\"sk-label  sk-toggleable\"><input class=\"sk-toggleable__control sk-hidden--visually\" id=\"sk-estimator-id-16\" type=\"checkbox\" ><label for=\"sk-estimator-id-16\" class=\"sk-toggleable__label  sk-toggleable__label-arrow\"><div><div>ColumnTransformer</div></div><div><a class=\"sk-estimator-doc-link \" rel=\"noreferrer\" target=\"_blank\" href=\"https://scikit-learn.org/1.6/modules/generated/sklearn.compose.ColumnTransformer.html\">?<span>Documentation for ColumnTransformer</span></a><span class=\"sk-estimator-doc-link \">i<span>Not fitted</span></span></div></label><div class=\"sk-toggleable__content \"><pre>ColumnTransformer(force_int_remainder_cols=False, n_jobs=-1,\n",
              "                  remainder=&#x27;passthrough&#x27;,\n",
              "                  transformers=[(&#x27;ohe&#x27;,\n",
              "                                 OneHotEncoder(drop=&#x27;first&#x27;,\n",
              "                                               sparse_output=False),\n",
              "                                 [&#x27;region&#x27;, &#x27;day_of_week&#x27;])])</pre></div> </div></div><div class=\"sk-parallel\"><div class=\"sk-parallel-item\"><div class=\"sk-item\"><div class=\"sk-label-container\"><div class=\"sk-label  sk-toggleable\"><input class=\"sk-toggleable__control sk-hidden--visually\" id=\"sk-estimator-id-17\" type=\"checkbox\" ><label for=\"sk-estimator-id-17\" class=\"sk-toggleable__label  sk-toggleable__label-arrow\"><div><div>ohe</div></div></label><div class=\"sk-toggleable__content \"><pre>[&#x27;region&#x27;, &#x27;day_of_week&#x27;]</pre></div> </div></div><div class=\"sk-serial\"><div class=\"sk-item\"><div class=\"sk-estimator  sk-toggleable\"><input class=\"sk-toggleable__control sk-hidden--visually\" id=\"sk-estimator-id-18\" type=\"checkbox\" ><label for=\"sk-estimator-id-18\" class=\"sk-toggleable__label  sk-toggleable__label-arrow\"><div><div>OneHotEncoder</div></div><div><a class=\"sk-estimator-doc-link \" rel=\"noreferrer\" target=\"_blank\" href=\"https://scikit-learn.org/1.6/modules/generated/sklearn.preprocessing.OneHotEncoder.html\">?<span>Documentation for OneHotEncoder</span></a></div></label><div class=\"sk-toggleable__content \"><pre>OneHotEncoder(drop=&#x27;first&#x27;, sparse_output=False)</pre></div> </div></div></div></div></div><div class=\"sk-parallel-item\"><div class=\"sk-item\"><div class=\"sk-label-container\"><div class=\"sk-label  sk-toggleable\"><input class=\"sk-toggleable__control sk-hidden--visually\" id=\"sk-estimator-id-19\" type=\"checkbox\" ><label for=\"sk-estimator-id-19\" class=\"sk-toggleable__label  sk-toggleable__label-arrow\"><div><div>remainder</div></div></label><div class=\"sk-toggleable__content \"><pre></pre></div> </div></div><div class=\"sk-serial\"><div class=\"sk-item\"><div class=\"sk-estimator  sk-toggleable\"><input class=\"sk-toggleable__control sk-hidden--visually\" id=\"sk-estimator-id-20\" type=\"checkbox\" ><label for=\"sk-estimator-id-20\" class=\"sk-toggleable__label  sk-toggleable__label-arrow\"><div><div>passthrough</div></div></label><div class=\"sk-toggleable__content \"><pre>passthrough</pre></div> </div></div></div></div></div></div></div></div></div>"
            ]
          },
          "metadata": {},
          "execution_count": 97
        }
      ],
      "source": [
        "encoder"
      ]
    },
    {
      "cell_type": "code",
      "execution_count": 98,
      "id": "87be1416-4f29-4641-90f8-3657db7f3c81",
      "metadata": {
        "id": "87be1416-4f29-4641-90f8-3657db7f3c81"
      },
      "outputs": [],
      "source": [
        "# encode the train and test data\n",
        "\n",
        "X_train_encoded = encoder.fit_transform(X_train)\n",
        "X_test_encoded = encoder.transform(X_test)"
      ]
    },
    {
      "cell_type": "code",
      "execution_count": 99,
      "id": "fc24c21b-c522-45e8-9e58-8e7522523349",
      "metadata": {
        "id": "fc24c21b-c522-45e8-9e58-8e7522523349"
      },
      "outputs": [],
      "source": [
        "def objective(trial):\n",
        "    # start the child run\n",
        "    with mlflow.start_run(nested=True) as child:\n",
        "\n",
        "        # model name search space\n",
        "        list_of_models = [\"LR\", \"RF\", \"GBR\", \"XGBR\"]\n",
        "        model_name = trial.suggest_categorical(\"model_name\", list_of_models)\n",
        "\n",
        "        if model_name == \"LR\":\n",
        "            model = LinearRegression()\n",
        "\n",
        "        elif model_name == \"RF\":\n",
        "            n_estimators_rf = trial.suggest_int(\"n_estimators_rf\",10,100,step=10)\n",
        "            max_depth_rf = trial.suggest_int(\"max_depth_rf\",3,10)\n",
        "            model = RandomForestRegressor(n_estimators=n_estimators_rf,\n",
        "                                          max_depth=max_depth_rf,\n",
        "                                          random_state=42, n_jobs=-1)\n",
        "\n",
        "        elif model_name == \"GBR\":\n",
        "            n_estimators_gb = trial.suggest_int(\"n_estimators_gb\",10,100,step=10)\n",
        "            learning_rate_gb = trial.suggest_float(\"learning_rate_gb\",1e-4,1e-1, log=True)\n",
        "            model = GradientBoostingRegressor(n_estimators=n_estimators_gb,\n",
        "                                              learning_rate=learning_rate_gb,\n",
        "                                             random_state=42)\n",
        "\n",
        "        elif model_name == \"XGBR\":\n",
        "            n_estimators_xgb = trial.suggest_int(\"n_estimators_xgb\",10,100,step=10)\n",
        "            learning_rate_xgb = trial.suggest_float(\"learning_rate_xgb\",1e-4,1e-1, log=True)\n",
        "            max_depth_xgb = trial.suggest_int(\"max_depth_xgb\",3,10)\n",
        "            model = XGBRegressor(n_estimators=n_estimators_xgb,\n",
        "                                learning_rate=learning_rate_xgb,\n",
        "                                max_depth=max_depth_xgb)\n",
        "\n",
        "        # log the model name\n",
        "        mlflow.log_param(\"model_name\",model_name)\n",
        "\n",
        "        # log the model parameters\n",
        "        mlflow.log_params(model.get_params())\n",
        "\n",
        "        # fit on the data\n",
        "        model.fit(X_train_encoded,y_train)\n",
        "\n",
        "        # get the predictions\n",
        "        y_pred = model.predict(X_test_encoded)\n",
        "\n",
        "        # calculate the loss\n",
        "        loss = mean_absolute_percentage_error(y_test, y_pred)\n",
        "\n",
        "        # log the metric\n",
        "        mlflow.log_metric(\"MAPE\",loss)\n",
        "        return loss"
      ]
    },
    {
      "cell_type": "code",
      "execution_count": 100,
      "id": "9b1c9fda-5466-4694-9c0b-5536a993f861",
      "metadata": {
        "colab": {
          "base_uri": "https://localhost:8080/"
        },
        "id": "9b1c9fda-5466-4694-9c0b-5536a993f861",
        "outputId": "f6978330-3939-46e1-b364-a8db1ff89681"
      },
      "outputs": [
        {
          "output_type": "stream",
          "name": "stderr",
          "text": [
            "[I 2025-05-04 00:26:53,471] A new study created in memory with name: model_selection\n",
            "[I 2025-05-04 00:27:02,691] Trial 1 finished with value: 0.0010679158292697401 and parameters: {'model_name': 'RF', 'n_estimators_rf': 20, 'max_depth_rf': 9}. Best is trial 1 with value: 0.0010679158292697401.\n"
          ]
        },
        {
          "output_type": "stream",
          "name": "stdout",
          "text": [
            "🏃 View run valuable-fly-767 at: https://dagshub.com/Mervin50/Uber-Demand-Prediction.mlflow/#/experiments/0/runs/ddb4e03d310643bd8d34637643ca6f68\n",
            "🧪 View experiment at: https://dagshub.com/Mervin50/Uber-Demand-Prediction.mlflow/#/experiments/0\n"
          ]
        },
        {
          "output_type": "stream",
          "name": "stderr",
          "text": [
            "[I 2025-05-04 00:27:04,376] Trial 2 finished with value: 0.0022700453129822283 and parameters: {'model_name': 'LR'}. Best is trial 1 with value: 0.0010679158292697401.\n"
          ]
        },
        {
          "output_type": "stream",
          "name": "stdout",
          "text": [
            "🏃 View run zealous-gnat-194 at: https://dagshub.com/Mervin50/Uber-Demand-Prediction.mlflow/#/experiments/0/runs/e42f54c6c0e74cafab12dad717c91aeb\n",
            "🧪 View experiment at: https://dagshub.com/Mervin50/Uber-Demand-Prediction.mlflow/#/experiments/0\n"
          ]
        },
        {
          "output_type": "stream",
          "name": "stderr",
          "text": [
            "[I 2025-05-04 00:27:10,160] Trial 3 finished with value: 0.0014810825266393505 and parameters: {'model_name': 'RF', 'n_estimators_rf': 20, 'max_depth_rf': 6}. Best is trial 1 with value: 0.0010679158292697401.\n"
          ]
        },
        {
          "output_type": "stream",
          "name": "stdout",
          "text": [
            "🏃 View run abundant-grub-491 at: https://dagshub.com/Mervin50/Uber-Demand-Prediction.mlflow/#/experiments/0/runs/b25800f17d704efc9f6fefec9f2b2b0a\n",
            "🧪 View experiment at: https://dagshub.com/Mervin50/Uber-Demand-Prediction.mlflow/#/experiments/0\n",
            "🏃 View run abrasive-crow-577 at: https://dagshub.com/Mervin50/Uber-Demand-Prediction.mlflow/#/experiments/0/runs/7ffb281f065b4b95a18d35f6fd8b6639\n",
            "🧪 View experiment at: https://dagshub.com/Mervin50/Uber-Demand-Prediction.mlflow/#/experiments/0\n"
          ]
        },
        {
          "output_type": "stream",
          "name": "stderr",
          "text": [
            "[I 2025-05-04 00:27:12,478] Trial 4 finished with value: 0.0022700453129822283 and parameters: {'model_name': 'LR'}. Best is trial 1 with value: 0.0010679158292697401.\n"
          ]
        },
        {
          "output_type": "stream",
          "name": "stdout",
          "text": [
            "🏃 View run invincible-sow-493 at: https://dagshub.com/Mervin50/Uber-Demand-Prediction.mlflow/#/experiments/0/runs/121defd0c88d42748104f3d14809a3e9\n",
            "🧪 View experiment at: https://dagshub.com/Mervin50/Uber-Demand-Prediction.mlflow/#/experiments/0\n"
          ]
        },
        {
          "output_type": "stream",
          "name": "stderr",
          "text": [
            "[I 2025-05-04 00:27:18,460] Trial 0 finished with value: 0.0011423252257866654 and parameters: {'model_name': 'RF', 'n_estimators_rf': 70, 'max_depth_rf': 7}. Best is trial 1 with value: 0.0010679158292697401.\n"
          ]
        },
        {
          "output_type": "stream",
          "name": "stdout",
          "text": [
            "🏃 View run funny-pug-907 at: https://dagshub.com/Mervin50/Uber-Demand-Prediction.mlflow/#/experiments/0/runs/e01600d6312a4afe9aefeb9254c8e6f8\n",
            "🧪 View experiment at: https://dagshub.com/Mervin50/Uber-Demand-Prediction.mlflow/#/experiments/0\n"
          ]
        },
        {
          "output_type": "stream",
          "name": "stderr",
          "text": [
            "[I 2025-05-04 00:27:24,476] Trial 5 finished with value: 0.005012365523725748 and parameters: {'model_name': 'XGBR', 'n_estimators_xgb': 100, 'learning_rate_xgb': 0.024139216785264445, 'max_depth_xgb': 3}. Best is trial 1 with value: 0.0010679158292697401.\n"
          ]
        },
        {
          "output_type": "stream",
          "name": "stdout",
          "text": [
            "🏃 View run gaudy-penguin-696 at: https://dagshub.com/Mervin50/Uber-Demand-Prediction.mlflow/#/experiments/0/runs/fe42cd53a69744478bd525a4542b0f01\n",
            "🧪 View experiment at: https://dagshub.com/Mervin50/Uber-Demand-Prediction.mlflow/#/experiments/0\n"
          ]
        },
        {
          "output_type": "stream",
          "name": "stderr",
          "text": [
            "[I 2025-05-04 00:27:29,456] Trial 6 finished with value: 0.0022700453129822283 and parameters: {'model_name': 'LR'}. Best is trial 1 with value: 0.0010679158292697401.\n"
          ]
        },
        {
          "output_type": "stream",
          "name": "stdout",
          "text": [
            "🏃 View run capricious-midge-413 at: https://dagshub.com/Mervin50/Uber-Demand-Prediction.mlflow/#/experiments/0/runs/623b54afdb3a46b0b0bc60eb4ca47af1\n",
            "🧪 View experiment at: https://dagshub.com/Mervin50/Uber-Demand-Prediction.mlflow/#/experiments/0\n"
          ]
        },
        {
          "output_type": "stream",
          "name": "stderr",
          "text": [
            "[I 2025-05-04 00:27:36,473] Trial 7 finished with value: 0.012420529499650002 and parameters: {'model_name': 'XGBR', 'n_estimators_xgb': 20, 'learning_rate_xgb': 0.01236734154143089, 'max_depth_xgb': 10}. Best is trial 1 with value: 0.0010679158292697401.\n"
          ]
        },
        {
          "output_type": "stream",
          "name": "stdout",
          "text": [
            "🏃 View run mysterious-goose-221 at: https://dagshub.com/Mervin50/Uber-Demand-Prediction.mlflow/#/experiments/0/runs/a8ca4d50d2dd4c16b288f3fa81f5c538\n",
            "🧪 View experiment at: https://dagshub.com/Mervin50/Uber-Demand-Prediction.mlflow/#/experiments/0\n"
          ]
        },
        {
          "output_type": "stream",
          "name": "stderr",
          "text": [
            "[I 2025-05-04 00:27:42,478] Trial 8 finished with value: 0.015283496119081974 and parameters: {'model_name': 'XGBR', 'n_estimators_xgb': 100, 'learning_rate_xgb': 0.0002545815708874001, 'max_depth_xgb': 5}. Best is trial 1 with value: 0.0010679158292697401.\n"
          ]
        },
        {
          "output_type": "stream",
          "name": "stdout",
          "text": [
            "🏃 View run secretive-quail-509 at: https://dagshub.com/Mervin50/Uber-Demand-Prediction.mlflow/#/experiments/0/runs/c8d2258cfa804d4e803d2f8684b02705\n",
            "🧪 View experiment at: https://dagshub.com/Mervin50/Uber-Demand-Prediction.mlflow/#/experiments/0\n"
          ]
        },
        {
          "output_type": "stream",
          "name": "stderr",
          "text": [
            "[I 2025-05-04 00:27:48,461] Trial 10 finished with value: 0.0022700453129822283 and parameters: {'model_name': 'LR'}. Best is trial 1 with value: 0.0010679158292697401.\n"
          ]
        },
        {
          "output_type": "stream",
          "name": "stdout",
          "text": [
            "🏃 View run welcoming-bird-769 at: https://dagshub.com/Mervin50/Uber-Demand-Prediction.mlflow/#/experiments/0/runs/0d170ba27e1949fe9511f3fed4978f14\n",
            "🧪 View experiment at: https://dagshub.com/Mervin50/Uber-Demand-Prediction.mlflow/#/experiments/0\n"
          ]
        },
        {
          "output_type": "stream",
          "name": "stderr",
          "text": [
            "[I 2025-05-04 00:27:54,458] Trial 9 finished with value: 0.015193769093682894 and parameters: {'model_name': 'GBR', 'n_estimators_gb': 70, 'learning_rate_gb': 0.0006246651376728573}. Best is trial 1 with value: 0.0010679158292697401.\n"
          ]
        },
        {
          "output_type": "stream",
          "name": "stdout",
          "text": [
            "🏃 View run grandiose-smelt-823 at: https://dagshub.com/Mervin50/Uber-Demand-Prediction.mlflow/#/experiments/0/runs/2dab0b76eef84c13811e6b2072318b7e\n",
            "🧪 View experiment at: https://dagshub.com/Mervin50/Uber-Demand-Prediction.mlflow/#/experiments/0\n"
          ]
        },
        {
          "output_type": "stream",
          "name": "stderr",
          "text": [
            "[I 2025-05-04 00:28:00,485] Trial 11 finished with value: 0.012188968525283502 and parameters: {'model_name': 'GBR', 'n_estimators_gb': 10, 'learning_rate_gb': 0.03973267968729593}. Best is trial 1 with value: 0.0010679158292697401.\n",
            "[I 2025-05-04 00:28:34,850] Trial 12 finished with value: 0.0011002689489442276 and parameters: {'model_name': 'RF', 'n_estimators_rf': 80, 'max_depth_rf': 10}. Best is trial 1 with value: 0.0010679158292697401.\n"
          ]
        },
        {
          "output_type": "stream",
          "name": "stdout",
          "text": [
            "🏃 View run funny-mare-873 at: https://dagshub.com/Mervin50/Uber-Demand-Prediction.mlflow/#/experiments/0/runs/b275ca99de3d4069aadf494723690e5d\n",
            "🧪 View experiment at: https://dagshub.com/Mervin50/Uber-Demand-Prediction.mlflow/#/experiments/0\n"
          ]
        },
        {
          "output_type": "stream",
          "name": "stderr",
          "text": [
            "[I 2025-05-04 00:28:36,740] Trial 13 finished with value: 0.0010822212978730207 and parameters: {'model_name': 'RF', 'n_estimators_rf': 80, 'max_depth_rf': 9}. Best is trial 1 with value: 0.0010679158292697401.\n"
          ]
        },
        {
          "output_type": "stream",
          "name": "stdout",
          "text": [
            "🏃 View run resilient-croc-258 at: https://dagshub.com/Mervin50/Uber-Demand-Prediction.mlflow/#/experiments/0/runs/416f448b486f4f6398bd9399c07f17ef\n",
            "🧪 View experiment at: https://dagshub.com/Mervin50/Uber-Demand-Prediction.mlflow/#/experiments/0\n"
          ]
        },
        {
          "output_type": "stream",
          "name": "stderr",
          "text": [
            "[I 2025-05-04 00:28:41,796] Trial 15 finished with value: 0.0011661218688384125 and parameters: {'model_name': 'RF', 'n_estimators_rf': 10, 'max_depth_rf': 10}. Best is trial 1 with value: 0.0010679158292697401.\n"
          ]
        },
        {
          "output_type": "stream",
          "name": "stdout",
          "text": [
            "🏃 View run ambitious-dog-275 at: https://dagshub.com/Mervin50/Uber-Demand-Prediction.mlflow/#/experiments/0/runs/6876e60acb3e438b97bda813269696e5\n",
            "🧪 View experiment at: https://dagshub.com/Mervin50/Uber-Demand-Prediction.mlflow/#/experiments/0\n"
          ]
        },
        {
          "output_type": "stream",
          "name": "stderr",
          "text": [
            "[I 2025-05-04 00:29:19,439] Trial 16 finished with value: 0.0010934731808384726 and parameters: {'model_name': 'RF', 'n_estimators_rf': 100, 'max_depth_rf': 8}. Best is trial 1 with value: 0.0010679158292697401.\n"
          ]
        },
        {
          "output_type": "stream",
          "name": "stdout",
          "text": [
            "🏃 View run adaptable-wolf-355 at: https://dagshub.com/Mervin50/Uber-Demand-Prediction.mlflow/#/experiments/0/runs/c8c29d04632847069d83d62828af70ed\n",
            "🧪 View experiment at: https://dagshub.com/Mervin50/Uber-Demand-Prediction.mlflow/#/experiments/0\n"
          ]
        },
        {
          "output_type": "stream",
          "name": "stderr",
          "text": [
            "[I 2025-05-04 00:29:20,037] Trial 14 finished with value: 0.001101037826794604 and parameters: {'model_name': 'RF', 'n_estimators_rf': 100, 'max_depth_rf': 10}. Best is trial 1 with value: 0.0010679158292697401.\n"
          ]
        },
        {
          "output_type": "stream",
          "name": "stdout",
          "text": [
            "🏃 View run delightful-kit-124 at: https://dagshub.com/Mervin50/Uber-Demand-Prediction.mlflow/#/experiments/0/runs/cc252291813846cab35edd2186cfa499\n",
            "🧪 View experiment at: https://dagshub.com/Mervin50/Uber-Demand-Prediction.mlflow/#/experiments/0\n"
          ]
        },
        {
          "output_type": "stream",
          "name": "stderr",
          "text": [
            "[I 2025-05-04 00:29:25,656] Trial 17 finished with value: 0.00535282919791297 and parameters: {'model_name': 'RF', 'n_estimators_rf': 40, 'max_depth_rf': 3}. Best is trial 1 with value: 0.0010679158292697401.\n"
          ]
        },
        {
          "output_type": "stream",
          "name": "stdout",
          "text": [
            "🏃 View run hilarious-cat-641 at: https://dagshub.com/Mervin50/Uber-Demand-Prediction.mlflow/#/experiments/0/runs/7a4c13233de547578276f481e3c9b970\n",
            "🧪 View experiment at: https://dagshub.com/Mervin50/Uber-Demand-Prediction.mlflow/#/experiments/0\n",
            "🏃 View run receptive-whale-14 at: https://dagshub.com/Mervin50/Uber-Demand-Prediction.mlflow/#/experiments/0/runs/e8d436a679be437293260c46c2fdff5e\n",
            "🧪 View experiment at: https://dagshub.com/Mervin50/Uber-Demand-Prediction.mlflow/#/experiments/0\n"
          ]
        },
        {
          "output_type": "stream",
          "name": "stderr",
          "text": [
            "[I 2025-05-04 00:29:29,257] Trial 18 finished with value: 0.0021188317073696492 and parameters: {'model_name': 'RF', 'n_estimators_rf': 40, 'max_depth_rf': 4}. Best is trial 1 with value: 0.0010679158292697401.\n",
            "[I 2025-05-04 00:29:37,491] Trial 19 finished with value: 0.00109437888250338 and parameters: {'model_name': 'RF', 'n_estimators_rf': 50, 'max_depth_rf': 8}. Best is trial 1 with value: 0.0010679158292697401.\n"
          ]
        },
        {
          "output_type": "stream",
          "name": "stdout",
          "text": [
            "🏃 View run selective-fish-795 at: https://dagshub.com/Mervin50/Uber-Demand-Prediction.mlflow/#/experiments/0/runs/cd37b006a2914179915d160925a78388\n",
            "🧪 View experiment at: https://dagshub.com/Mervin50/Uber-Demand-Prediction.mlflow/#/experiments/0\n"
          ]
        },
        {
          "output_type": "stream",
          "name": "stderr",
          "text": [
            "[I 2025-05-04 00:29:51,496] Trial 20 finished with value: 0.015524717408433376 and parameters: {'model_name': 'GBR', 'n_estimators_gb': 100, 'learning_rate_gb': 0.0001112269362884935}. Best is trial 1 with value: 0.0010679158292697401.\n"
          ]
        },
        {
          "output_type": "stream",
          "name": "stdout",
          "text": [
            "🏃 View run gregarious-ant-888 at: https://dagshub.com/Mervin50/Uber-Demand-Prediction.mlflow/#/experiments/0/runs/bb0ca74185f94fa38b0b94469d63e540\n",
            "🧪 View experiment at: https://dagshub.com/Mervin50/Uber-Demand-Prediction.mlflow/#/experiments/0\n"
          ]
        },
        {
          "output_type": "stream",
          "name": "stderr",
          "text": [
            "[I 2025-05-04 00:29:57,133] Trial 21 finished with value: 0.015520476446218573 and parameters: {'model_name': 'GBR', 'n_estimators_gb': 100, 'learning_rate_gb': 0.00011533909822621753}. Best is trial 1 with value: 0.0010679158292697401.\n"
          ]
        },
        {
          "output_type": "stream",
          "name": "stdout",
          "text": [
            "🏃 View run abundant-hare-251 at: https://dagshub.com/Mervin50/Uber-Demand-Prediction.mlflow/#/experiments/0/runs/379fc8ab53014fbaa28b0e83f43eb8b1\n",
            "🧪 View experiment at: https://dagshub.com/Mervin50/Uber-Demand-Prediction.mlflow/#/experiments/0\n"
          ]
        },
        {
          "output_type": "stream",
          "name": "stderr",
          "text": [
            "[I 2025-05-04 00:30:26,403] Trial 22 finished with value: 0.0010934731808384726 and parameters: {'model_name': 'RF', 'n_estimators_rf': 100, 'max_depth_rf': 8}. Best is trial 1 with value: 0.0010679158292697401.\n"
          ]
        },
        {
          "output_type": "stream",
          "name": "stdout",
          "text": [
            "🏃 View run big-boar-357 at: https://dagshub.com/Mervin50/Uber-Demand-Prediction.mlflow/#/experiments/0/runs/925bea70a5d848308722208a46a4d129\n",
            "🧪 View experiment at: https://dagshub.com/Mervin50/Uber-Demand-Prediction.mlflow/#/experiments/0\n"
          ]
        },
        {
          "output_type": "stream",
          "name": "stderr",
          "text": [
            "[I 2025-05-04 00:30:34,527] Trial 23 finished with value: 0.0010934731808384726 and parameters: {'model_name': 'RF', 'n_estimators_rf': 100, 'max_depth_rf': 8}. Best is trial 1 with value: 0.0010679158292697401.\n"
          ]
        },
        {
          "output_type": "stream",
          "name": "stdout",
          "text": [
            "🏃 View run wistful-asp-165 at: https://dagshub.com/Mervin50/Uber-Demand-Prediction.mlflow/#/experiments/0/runs/0de71eed04ca4b90bd196096a5e0f1e1\n",
            "🧪 View experiment at: https://dagshub.com/Mervin50/Uber-Demand-Prediction.mlflow/#/experiments/0\n"
          ]
        },
        {
          "output_type": "stream",
          "name": "stderr",
          "text": [
            "[I 2025-05-04 00:30:55,284] Trial 24 finished with value: 0.001097825878942865 and parameters: {'model_name': 'RF', 'n_estimators_rf': 80, 'max_depth_rf': 8}. Best is trial 1 with value: 0.0010679158292697401.\n"
          ]
        },
        {
          "output_type": "stream",
          "name": "stdout",
          "text": [
            "🏃 View run upset-bear-839 at: https://dagshub.com/Mervin50/Uber-Demand-Prediction.mlflow/#/experiments/0/runs/de4b4865dfb34f8aa3a40f603b19dc89\n",
            "🧪 View experiment at: https://dagshub.com/Mervin50/Uber-Demand-Prediction.mlflow/#/experiments/0\n"
          ]
        },
        {
          "output_type": "stream",
          "name": "stderr",
          "text": [
            "[I 2025-05-04 00:31:07,204] Trial 25 finished with value: 0.0010822212978730207 and parameters: {'model_name': 'RF', 'n_estimators_rf': 80, 'max_depth_rf': 9}. Best is trial 1 with value: 0.0010679158292697401.\n"
          ]
        },
        {
          "output_type": "stream",
          "name": "stdout",
          "text": [
            "🏃 View run handsome-midge-574 at: https://dagshub.com/Mervin50/Uber-Demand-Prediction.mlflow/#/experiments/0/runs/e3d7209c2eda46a5818150917c92b5e2\n",
            "🧪 View experiment at: https://dagshub.com/Mervin50/Uber-Demand-Prediction.mlflow/#/experiments/0\n"
          ]
        },
        {
          "output_type": "stream",
          "name": "stderr",
          "text": [
            "[I 2025-05-04 00:31:29,779] Trial 26 finished with value: 0.0010822212978730207 and parameters: {'model_name': 'RF', 'n_estimators_rf': 80, 'max_depth_rf': 9}. Best is trial 1 with value: 0.0010679158292697401.\n"
          ]
        },
        {
          "output_type": "stream",
          "name": "stdout",
          "text": [
            "🏃 View run amusing-kite-285 at: https://dagshub.com/Mervin50/Uber-Demand-Prediction.mlflow/#/experiments/0/runs/df11bac64cdc48a194615497e74abfb9\n",
            "🧪 View experiment at: https://dagshub.com/Mervin50/Uber-Demand-Prediction.mlflow/#/experiments/0\n"
          ]
        },
        {
          "output_type": "stream",
          "name": "stderr",
          "text": [
            "[I 2025-05-04 00:31:36,473] Trial 27 finished with value: 0.0010753978551729555 and parameters: {'model_name': 'RF', 'n_estimators_rf': 70, 'max_depth_rf': 9}. Best is trial 1 with value: 0.0010679158292697401.\n"
          ]
        },
        {
          "output_type": "stream",
          "name": "stdout",
          "text": [
            "🏃 View run tasteful-sloth-391 at: https://dagshub.com/Mervin50/Uber-Demand-Prediction.mlflow/#/experiments/0/runs/a54721df7f954a8792664b259f9fd0df\n",
            "🧪 View experiment at: https://dagshub.com/Mervin50/Uber-Demand-Prediction.mlflow/#/experiments/0\n"
          ]
        },
        {
          "output_type": "stream",
          "name": "stderr",
          "text": [
            "[I 2025-05-04 00:31:39,307] Trial 29 finished with value: 0.015606616623699665 and parameters: {'model_name': 'XGBR', 'n_estimators_xgb': 20, 'learning_rate_xgb': 0.00011335051453833905, 'max_depth_xgb': 10}. Best is trial 1 with value: 0.0010679158292697401.\n"
          ]
        },
        {
          "output_type": "stream",
          "name": "stdout",
          "text": [
            "🏃 View run masked-skink-184 at: https://dagshub.com/Mervin50/Uber-Demand-Prediction.mlflow/#/experiments/0/runs/9fb6bc7ee92749f3b1c25ad2842f7fca\n",
            "🧪 View experiment at: https://dagshub.com/Mervin50/Uber-Demand-Prediction.mlflow/#/experiments/0\n"
          ]
        },
        {
          "output_type": "stream",
          "name": "stderr",
          "text": [
            "[I 2025-05-04 00:31:45,229] Trial 28 finished with value: 0.001438899341664779 and parameters: {'model_name': 'RF', 'n_estimators_rf': 60, 'max_depth_rf': 6}. Best is trial 1 with value: 0.0010679158292697401.\n"
          ]
        },
        {
          "output_type": "stream",
          "name": "stdout",
          "text": [
            "🏃 View run efficient-dove-255 at: https://dagshub.com/Mervin50/Uber-Demand-Prediction.mlflow/#/experiments/0/runs/e25c584d275b4db88d2e4505157a9c7c\n",
            "🧪 View experiment at: https://dagshub.com/Mervin50/Uber-Demand-Prediction.mlflow/#/experiments/0\n"
          ]
        },
        {
          "output_type": "stream",
          "name": "stderr",
          "text": [
            "[I 2025-05-04 00:31:55,731] Trial 30 finished with value: 0.001438899341664779 and parameters: {'model_name': 'RF', 'n_estimators_rf': 60, 'max_depth_rf': 6}. Best is trial 1 with value: 0.0010679158292697401.\n"
          ]
        },
        {
          "output_type": "stream",
          "name": "stdout",
          "text": [
            "🏃 View run redolent-robin-276 at: https://dagshub.com/Mervin50/Uber-Demand-Prediction.mlflow/#/experiments/0/runs/3aa0b5ca845b4853bd725529a99e6b66\n",
            "🧪 View experiment at: https://dagshub.com/Mervin50/Uber-Demand-Prediction.mlflow/#/experiments/0\n"
          ]
        },
        {
          "output_type": "stream",
          "name": "stderr",
          "text": [
            "[I 2025-05-04 00:32:11,875] Trial 31 finished with value: 0.0010732978260653229 and parameters: {'model_name': 'RF', 'n_estimators_rf': 60, 'max_depth_rf': 9}. Best is trial 1 with value: 0.0010679158292697401.\n"
          ]
        },
        {
          "output_type": "stream",
          "name": "stdout",
          "text": [
            "🏃 View run youthful-wren-764 at: https://dagshub.com/Mervin50/Uber-Demand-Prediction.mlflow/#/experiments/0/runs/1feb5ab30d16439a8b6d38beaee14860\n",
            "🧪 View experiment at: https://dagshub.com/Mervin50/Uber-Demand-Prediction.mlflow/#/experiments/0\n"
          ]
        },
        {
          "output_type": "stream",
          "name": "stderr",
          "text": [
            "[I 2025-05-04 00:32:24,355] Trial 32 finished with value: 0.0010753978551729553 and parameters: {'model_name': 'RF', 'n_estimators_rf': 70, 'max_depth_rf': 9}. Best is trial 1 with value: 0.0010679158292697401.\n"
          ]
        },
        {
          "output_type": "stream",
          "name": "stdout",
          "text": [
            "🏃 View run marvelous-mule-552 at: https://dagshub.com/Mervin50/Uber-Demand-Prediction.mlflow/#/experiments/0/runs/faac0a3ff0724c6e9e5e43f56620544a\n",
            "🧪 View experiment at: https://dagshub.com/Mervin50/Uber-Demand-Prediction.mlflow/#/experiments/0\n"
          ]
        },
        {
          "output_type": "stream",
          "name": "stderr",
          "text": [
            "[I 2025-05-04 00:32:40,606] Trial 33 finished with value: 0.0010753978551729553 and parameters: {'model_name': 'RF', 'n_estimators_rf': 70, 'max_depth_rf': 9}. Best is trial 1 with value: 0.0010679158292697401.\n"
          ]
        },
        {
          "output_type": "stream",
          "name": "stdout",
          "text": [
            "🏃 View run respected-croc-547 at: https://dagshub.com/Mervin50/Uber-Demand-Prediction.mlflow/#/experiments/0/runs/296105d1cf1446ccbd5270fb46f9803e\n",
            "🧪 View experiment at: https://dagshub.com/Mervin50/Uber-Demand-Prediction.mlflow/#/experiments/0\n"
          ]
        },
        {
          "output_type": "stream",
          "name": "stderr",
          "text": [
            "[I 2025-05-04 00:32:41,671] Trial 35 finished with value: 0.0022700453129822283 and parameters: {'model_name': 'LR'}. Best is trial 1 with value: 0.0010679158292697401.\n"
          ]
        },
        {
          "output_type": "stream",
          "name": "stdout",
          "text": [
            "🏃 View run thoughtful-loon-305 at: https://dagshub.com/Mervin50/Uber-Demand-Prediction.mlflow/#/experiments/0/runs/20f85101d8d3491bbeb32a851e4f4911\n",
            "🧪 View experiment at: https://dagshub.com/Mervin50/Uber-Demand-Prediction.mlflow/#/experiments/0\n"
          ]
        },
        {
          "output_type": "stream",
          "name": "stderr",
          "text": [
            "[I 2025-05-04 00:32:45,450] Trial 34 finished with value: 0.0010701598608913346 and parameters: {'model_name': 'RF', 'n_estimators_rf': 50, 'max_depth_rf': 9}. Best is trial 1 with value: 0.0010679158292697401.\n"
          ]
        },
        {
          "output_type": "stream",
          "name": "stdout",
          "text": [
            "🏃 View run big-rat-908 at: https://dagshub.com/Mervin50/Uber-Demand-Prediction.mlflow/#/experiments/0/runs/0df84fb713c64d1b8bf171a4b2b2fadb\n",
            "🧪 View experiment at: https://dagshub.com/Mervin50/Uber-Demand-Prediction.mlflow/#/experiments/0\n",
            "🏃 View run gregarious-crow-431 at: https://dagshub.com/Mervin50/Uber-Demand-Prediction.mlflow/#/experiments/0/runs/d4a0ae9494df416e920d2b3c587d8db4\n",
            "🧪 View experiment at: https://dagshub.com/Mervin50/Uber-Demand-Prediction.mlflow/#/experiments/0\n"
          ]
        },
        {
          "output_type": "stream",
          "name": "stderr",
          "text": [
            "[I 2025-05-04 00:32:56,886] Trial 37 finished with value: 0.0011447576034146491 and parameters: {'model_name': 'RF', 'n_estimators_rf': 30, 'max_depth_rf': 7}. Best is trial 1 with value: 0.0010679158292697401.\n"
          ]
        },
        {
          "output_type": "stream",
          "name": "stdout",
          "text": [
            "🏃 View run efficient-fowl-592 at: https://dagshub.com/Mervin50/Uber-Demand-Prediction.mlflow/#/experiments/0/runs/003e358b2243488190c2224fdf8e3d03\n",
            "🧪 View experiment at: https://dagshub.com/Mervin50/Uber-Demand-Prediction.mlflow/#/experiments/0\n"
          ]
        },
        {
          "output_type": "stream",
          "name": "stderr",
          "text": [
            "[I 2025-05-04 00:32:59,863] Trial 38 finished with value: 0.0022700453129822283 and parameters: {'model_name': 'LR'}. Best is trial 1 with value: 0.0010679158292697401.\n"
          ]
        },
        {
          "output_type": "stream",
          "name": "stdout",
          "text": [
            "🏃 View run popular-bear-782 at: https://dagshub.com/Mervin50/Uber-Demand-Prediction.mlflow/#/experiments/0/runs/b16b7590ef6b449793908c2edc6acac3\n",
            "🧪 View experiment at: https://dagshub.com/Mervin50/Uber-Demand-Prediction.mlflow/#/experiments/0\n"
          ]
        },
        {
          "output_type": "stream",
          "name": "stderr",
          "text": [
            "[I 2025-05-04 00:33:02,428] Trial 36 finished with value: 0.0010701598608913348 and parameters: {'model_name': 'RF', 'n_estimators_rf': 50, 'max_depth_rf': 9}. Best is trial 1 with value: 0.0010679158292697401.\n"
          ]
        },
        {
          "output_type": "stream",
          "name": "stdout",
          "text": [
            "🏃 View run likeable-sloth-975 at: https://dagshub.com/Mervin50/Uber-Demand-Prediction.mlflow/#/experiments/0/runs/82e1302db37f4005be5cc062c5cc0c51\n",
            "🧪 View experiment at: https://dagshub.com/Mervin50/Uber-Demand-Prediction.mlflow/#/experiments/0\n"
          ]
        },
        {
          "output_type": "stream",
          "name": "stderr",
          "text": [
            "[I 2025-05-04 00:33:07,438] Trial 39 finished with value: 0.0010971123119816184 and parameters: {'model_name': 'XGBR', 'n_estimators_xgb': 60, 'learning_rate_xgb': 0.0976659678405879, 'max_depth_xgb': 7}. Best is trial 1 with value: 0.0010679158292697401.\n"
          ]
        },
        {
          "output_type": "stream",
          "name": "stdout",
          "text": [
            "🏃 View run inquisitive-eel-282 at: https://dagshub.com/Mervin50/Uber-Demand-Prediction.mlflow/#/experiments/0/runs/5c208fe03407417f8cbff569148ff5fa\n",
            "🧪 View experiment at: https://dagshub.com/Mervin50/Uber-Demand-Prediction.mlflow/#/experiments/0\n"
          ]
        },
        {
          "output_type": "stream",
          "name": "stderr",
          "text": [
            "[I 2025-05-04 00:33:14,433] Trial 40 finished with value: 0.014148646034300327 and parameters: {'model_name': 'XGBR', 'n_estimators_xgb': 60, 'learning_rate_xgb': 0.0018024359168593476, 'max_depth_xgb': 7}. Best is trial 1 with value: 0.0010679158292697401.\n"
          ]
        },
        {
          "output_type": "stream",
          "name": "stdout",
          "text": [
            "🏃 View run selective-mole-816 at: https://dagshub.com/Mervin50/Uber-Demand-Prediction.mlflow/#/experiments/0/runs/e1f53a72b0ec4136a5b4ebb289702700\n",
            "🧪 View experiment at: https://dagshub.com/Mervin50/Uber-Demand-Prediction.mlflow/#/experiments/0\n"
          ]
        },
        {
          "output_type": "stream",
          "name": "stderr",
          "text": [
            "[I 2025-05-04 00:33:19,456] Trial 41 finished with value: 0.014360549859702587 and parameters: {'model_name': 'XGBR', 'n_estimators_xgb': 60, 'learning_rate_xgb': 0.001534639867653674, 'max_depth_xgb': 7}. Best is trial 1 with value: 0.0010679158292697401.\n",
            "[I 2025-05-04 00:33:42,735] Trial 42 finished with value: 0.0011137790534685326 and parameters: {'model_name': 'RF', 'n_estimators_rf': 50, 'max_depth_rf': 10}. Best is trial 1 with value: 0.0010679158292697401.\n"
          ]
        },
        {
          "output_type": "stream",
          "name": "stdout",
          "text": [
            "🏃 View run redolent-shoat-203 at: https://dagshub.com/Mervin50/Uber-Demand-Prediction.mlflow/#/experiments/0/runs/f17f328fa5ae449a9d3294c7924818fe\n",
            "🧪 View experiment at: https://dagshub.com/Mervin50/Uber-Demand-Prediction.mlflow/#/experiments/0\n"
          ]
        },
        {
          "output_type": "stream",
          "name": "stderr",
          "text": [
            "[I 2025-05-04 00:33:46,015] Trial 43 finished with value: 0.001113779053468368 and parameters: {'model_name': 'RF', 'n_estimators_rf': 50, 'max_depth_rf': 10}. Best is trial 1 with value: 0.0010679158292697401.\n"
          ]
        },
        {
          "output_type": "stream",
          "name": "stdout",
          "text": [
            "🏃 View run carefree-duck-262 at: https://dagshub.com/Mervin50/Uber-Demand-Prediction.mlflow/#/experiments/0/runs/8042dd0e9a7b4aad89de1f5f2597abb1\n",
            "🧪 View experiment at: https://dagshub.com/Mervin50/Uber-Demand-Prediction.mlflow/#/experiments/0\n"
          ]
        },
        {
          "output_type": "stream",
          "name": "stderr",
          "text": [
            "[I 2025-05-04 00:33:59,984] Trial 44 finished with value: 0.0010929281591939705 and parameters: {'model_name': 'RF', 'n_estimators_rf': 40, 'max_depth_rf': 9}. Best is trial 1 with value: 0.0010679158292697401.\n"
          ]
        },
        {
          "output_type": "stream",
          "name": "stdout",
          "text": [
            "🏃 View run enchanting-eel-246 at: https://dagshub.com/Mervin50/Uber-Demand-Prediction.mlflow/#/experiments/0/runs/a838e8f9f73246a68db123655b64298b\n",
            "🧪 View experiment at: https://dagshub.com/Mervin50/Uber-Demand-Prediction.mlflow/#/experiments/0\n"
          ]
        },
        {
          "output_type": "stream",
          "name": "stderr",
          "text": [
            "WARNING:urllib3.connectionpool:Retrying (Retry(total=6, connect=7, read=6, redirect=7, status=7)) after connection broken by 'RemoteDisconnected('Remote end closed connection without response')': /Mervin50/Uber-Demand-Prediction.mlflow/api/2.0/mlflow/runs/log-metric\n",
            "[I 2025-05-04 00:34:02,944] Trial 45 finished with value: 0.0010929281591939702 and parameters: {'model_name': 'RF', 'n_estimators_rf': 40, 'max_depth_rf': 9}. Best is trial 1 with value: 0.0010679158292697401.\n"
          ]
        },
        {
          "output_type": "stream",
          "name": "stdout",
          "text": [
            "🏃 View run able-dolphin-752 at: https://dagshub.com/Mervin50/Uber-Demand-Prediction.mlflow/#/experiments/0/runs/3db8c119a4d4421f8c4628029df3db52\n",
            "🧪 View experiment at: https://dagshub.com/Mervin50/Uber-Demand-Prediction.mlflow/#/experiments/0\n"
          ]
        },
        {
          "output_type": "stream",
          "name": "stderr",
          "text": [
            "[I 2025-05-04 00:34:06,405] Trial 47 finished with value: 0.009836583911705573 and parameters: {'model_name': 'GBR', 'n_estimators_gb': 10, 'learning_rate_gb': 0.0748957104197292}. Best is trial 1 with value: 0.0010679158292697401.\n"
          ]
        },
        {
          "output_type": "stream",
          "name": "stdout",
          "text": [
            "🏃 View run redolent-colt-945 at: https://dagshub.com/Mervin50/Uber-Demand-Prediction.mlflow/#/experiments/0/runs/0aedbefc948542f1be9326e4a1574213\n",
            "🧪 View experiment at: https://dagshub.com/Mervin50/Uber-Demand-Prediction.mlflow/#/experiments/0\n",
            "🏃 View run skittish-newt-374 at: https://dagshub.com/Mervin50/Uber-Demand-Prediction.mlflow/#/experiments/0/runs/7424b648d1d9432fa5957ffeca4fd531\n",
            "🧪 View experiment at: https://dagshub.com/Mervin50/Uber-Demand-Prediction.mlflow/#/experiments/0\n"
          ]
        },
        {
          "output_type": "stream",
          "name": "stderr",
          "text": [
            "[I 2025-05-04 00:34:09,820] Trial 48 finished with value: 0.0022700453129822283 and parameters: {'model_name': 'LR'}. Best is trial 1 with value: 0.0010679158292697401.\n",
            "[I 2025-05-04 00:34:18,630] Trial 46 finished with value: 0.0010732978260651466 and parameters: {'model_name': 'RF', 'n_estimators_rf': 60, 'max_depth_rf': 9}. Best is trial 1 with value: 0.0010679158292697401.\n"
          ]
        },
        {
          "output_type": "stream",
          "name": "stdout",
          "text": [
            "🏃 View run silent-sponge-957 at: https://dagshub.com/Mervin50/Uber-Demand-Prediction.mlflow/#/experiments/0/runs/640b8e3f7cbc4a8296c530c502500804\n",
            "🧪 View experiment at: https://dagshub.com/Mervin50/Uber-Demand-Prediction.mlflow/#/experiments/0\n"
          ]
        },
        {
          "output_type": "stream",
          "name": "stderr",
          "text": [
            "[I 2025-05-04 00:34:26,332] Trial 49 finished with value: 0.0010930424696939899 and parameters: {'model_name': 'RF', 'n_estimators_rf': 60, 'max_depth_rf': 8}. Best is trial 1 with value: 0.0010679158292697401.\n"
          ]
        },
        {
          "output_type": "stream",
          "name": "stdout",
          "text": [
            "🏃 View run illustrious-deer-656 at: https://dagshub.com/Mervin50/Uber-Demand-Prediction.mlflow/#/experiments/0/runs/d2a195b72aed413080b78eb987014973\n",
            "🧪 View experiment at: https://dagshub.com/Mervin50/Uber-Demand-Prediction.mlflow/#/experiments/0\n",
            "🏃 View run best_model at: https://dagshub.com/Mervin50/Uber-Demand-Prediction.mlflow/#/experiments/0/runs/26ac1a16b1424c06a0f22e54be776e89\n",
            "🧪 View experiment at: https://dagshub.com/Mervin50/Uber-Demand-Prediction.mlflow/#/experiments/0\n"
          ]
        }
      ],
      "source": [
        "# optimize the objective function\n",
        "\n",
        "with mlflow.start_run(run_name=\"best_model\", nested=True) as parent:\n",
        "\n",
        "    # create a study object\n",
        "    study = optuna.create_study(study_name=\"model_selection\", direction=\"minimize\")\n",
        "    # optimize the objective function\n",
        "    study.optimize(func=objective, n_trials=50, n_jobs=-1)\n",
        "\n",
        "    # log the best parameters\n",
        "    mlflow.log_params(study.best_params)\n",
        "    # log the best error value\n",
        "    mlflow.log_metric(\"Best_MAPE\", study.best_value)"
      ]
    },
    {
      "cell_type": "code",
      "execution_count": 101,
      "id": "854de4f2-f14e-4683-ad44-988f341643c2",
      "metadata": {
        "colab": {
          "base_uri": "https://localhost:8080/"
        },
        "id": "854de4f2-f14e-4683-ad44-988f341643c2",
        "outputId": "f7beeba4-543c-487e-d00e-94d1fa15bbd1"
      },
      "outputs": [
        {
          "output_type": "execute_result",
          "data": {
            "text/plain": [
              "0.0010679158292697401"
            ]
          },
          "metadata": {},
          "execution_count": 101
        }
      ],
      "source": [
        "# best value\n",
        "\n",
        "study.best_value"
      ]
    },
    {
      "cell_type": "code",
      "execution_count": 102,
      "id": "2c31c7ba-af18-420e-afad-bb53f2877d2c",
      "metadata": {
        "colab": {
          "base_uri": "https://localhost:8080/"
        },
        "id": "2c31c7ba-af18-420e-afad-bb53f2877d2c",
        "outputId": "ac5751ab-5c32-4ce5-9bb8-35f6ba8d408f"
      },
      "outputs": [
        {
          "output_type": "execute_result",
          "data": {
            "text/plain": [
              "{'model_name': 'RF', 'n_estimators_rf': 20, 'max_depth_rf': 9}"
            ]
          },
          "metadata": {},
          "execution_count": 102
        }
      ],
      "source": [
        "# best parameters\n",
        "\n",
        "study.best_params"
      ]
    },
    {
      "cell_type": "code",
      "execution_count": 103,
      "id": "0c9205bd-c13a-494b-a2f9-d636799cee53",
      "metadata": {
        "colab": {
          "base_uri": "https://localhost:8080/",
          "height": 241
        },
        "id": "0c9205bd-c13a-494b-a2f9-d636799cee53",
        "outputId": "944a2c73-5988-4195-8dbe-05b4f8f1b4b3"
      },
      "outputs": [
        {
          "output_type": "execute_result",
          "data": {
            "text/plain": [
              "params_model_name\n",
              "RF      31\n",
              "LR       7\n",
              "XGBR     7\n",
              "GBR      5\n",
              "Name: count, dtype: int64"
            ],
            "text/html": [
              "<div>\n",
              "<style scoped>\n",
              "    .dataframe tbody tr th:only-of-type {\n",
              "        vertical-align: middle;\n",
              "    }\n",
              "\n",
              "    .dataframe tbody tr th {\n",
              "        vertical-align: top;\n",
              "    }\n",
              "\n",
              "    .dataframe thead th {\n",
              "        text-align: right;\n",
              "    }\n",
              "</style>\n",
              "<table border=\"1\" class=\"dataframe\">\n",
              "  <thead>\n",
              "    <tr style=\"text-align: right;\">\n",
              "      <th></th>\n",
              "      <th>count</th>\n",
              "    </tr>\n",
              "    <tr>\n",
              "      <th>params_model_name</th>\n",
              "      <th></th>\n",
              "    </tr>\n",
              "  </thead>\n",
              "  <tbody>\n",
              "    <tr>\n",
              "      <th>RF</th>\n",
              "      <td>31</td>\n",
              "    </tr>\n",
              "    <tr>\n",
              "      <th>LR</th>\n",
              "      <td>7</td>\n",
              "    </tr>\n",
              "    <tr>\n",
              "      <th>XGBR</th>\n",
              "      <td>7</td>\n",
              "    </tr>\n",
              "    <tr>\n",
              "      <th>GBR</th>\n",
              "      <td>5</td>\n",
              "    </tr>\n",
              "  </tbody>\n",
              "</table>\n",
              "</div><br><label><b>dtype:</b> int64</label>"
            ]
          },
          "metadata": {},
          "execution_count": 103
        }
      ],
      "source": [
        "# model value counts\n",
        "\n",
        "study.trials_dataframe()['params_model_name'].value_counts()"
      ]
    },
    {
      "cell_type": "code",
      "execution_count": 104,
      "id": "dfe85a07-4927-4501-8c1b-9d5f54afc1d9",
      "metadata": {
        "id": "dfe85a07-4927-4501-8c1b-9d5f54afc1d9"
      },
      "outputs": [],
      "source": [
        "from optuna.visualization import (\n",
        "    plot_optimization_history,\n",
        "    plot_parallel_coordinate,\n",
        "    plot_param_importances\n",
        ")"
      ]
    },
    {
      "cell_type": "code",
      "execution_count": 105,
      "id": "353601c2-0af8-4df9-a50c-7bba7b2b50a6",
      "metadata": {
        "colab": {
          "base_uri": "https://localhost:8080/",
          "height": 542
        },
        "id": "353601c2-0af8-4df9-a50c-7bba7b2b50a6",
        "outputId": "4fc24098-9cb2-43bc-be26-e2878b6b453b"
      },
      "outputs": [
        {
          "output_type": "display_data",
          "data": {
            "text/html": [
              "<html>\n",
              "<head><meta charset=\"utf-8\" /></head>\n",
              "<body>\n",
              "    <div>            <script src=\"https://cdnjs.cloudflare.com/ajax/libs/mathjax/2.7.5/MathJax.js?config=TeX-AMS-MML_SVG\"></script><script type=\"text/javascript\">if (window.MathJax && window.MathJax.Hub && window.MathJax.Hub.Config) {window.MathJax.Hub.Config({SVG: {font: \"STIX-Web\"}});}</script>                <script type=\"text/javascript\">window.PlotlyConfig = {MathJaxConfig: 'local'};</script>\n",
              "        <script charset=\"utf-8\" src=\"https://cdn.plot.ly/plotly-2.35.2.min.js\"></script>                <div id=\"d138a4da-d5d7-41fc-913f-1b20330cad53\" class=\"plotly-graph-div\" style=\"height:525px; width:100%;\"></div>            <script type=\"text/javascript\">                                    window.PLOTLYENV=window.PLOTLYENV || {};                                    if (document.getElementById(\"d138a4da-d5d7-41fc-913f-1b20330cad53\")) {                    Plotly.newPlot(                        \"d138a4da-d5d7-41fc-913f-1b20330cad53\",                        [{\"mode\":\"markers\",\"name\":\"Objective Value\",\"x\":[0,1,2,3,4,5,6,7,8,9,10,11,12,13,14,15,16,17,18,19,20,21,22,23,24,25,26,27,28,29,30,31,32,33,34,35,36,37,38,39,40,41,42,43,44,45,46,47,48,49],\"y\":[0.0011423252257866654,0.0010679158292697401,0.0022700453129822283,0.0014810825266393505,0.0022700453129822283,0.005012365523725748,0.0022700453129822283,0.012420529499650002,0.015283496119081974,0.015193769093682894,0.0022700453129822283,0.012188968525283502,0.0011002689489442276,0.0010822212978730207,0.001101037826794604,0.0011661218688384125,0.0010934731808384726,0.00535282919791297,0.0021188317073696492,0.00109437888250338,0.015524717408433376,0.015520476446218573,0.0010934731808384726,0.0010934731808384726,0.001097825878942865,0.0010822212978730207,0.0010822212978730207,0.0010753978551729555,0.001438899341664779,0.015606616623699665,0.001438899341664779,0.0010732978260653229,0.0010753978551729553,0.0010753978551729553,0.0010701598608913346,0.0022700453129822283,0.0010701598608913348,0.0011447576034146491,0.0022700453129822283,0.0010971123119816184,0.014148646034300327,0.014360549859702587,0.0011137790534685326,0.001113779053468368,0.0010929281591939705,0.0010929281591939702,0.0010732978260651466,0.009836583911705573,0.0022700453129822283,0.0010930424696939899],\"type\":\"scatter\"},{\"mode\":\"lines\",\"name\":\"Best Value\",\"x\":[0,1,2,3,4,5,6,7,8,9,10,11,12,13,14,15,16,17,18,19,20,21,22,23,24,25,26,27,28,29,30,31,32,33,34,35,36,37,38,39,40,41,42,43,44,45,46,47,48,49],\"y\":[0.0011423252257866654,0.0010679158292697401,0.0010679158292697401,0.0010679158292697401,0.0010679158292697401,0.0010679158292697401,0.0010679158292697401,0.0010679158292697401,0.0010679158292697401,0.0010679158292697401,0.0010679158292697401,0.0010679158292697401,0.0010679158292697401,0.0010679158292697401,0.0010679158292697401,0.0010679158292697401,0.0010679158292697401,0.0010679158292697401,0.0010679158292697401,0.0010679158292697401,0.0010679158292697401,0.0010679158292697401,0.0010679158292697401,0.0010679158292697401,0.0010679158292697401,0.0010679158292697401,0.0010679158292697401,0.0010679158292697401,0.0010679158292697401,0.0010679158292697401,0.0010679158292697401,0.0010679158292697401,0.0010679158292697401,0.0010679158292697401,0.0010679158292697401,0.0010679158292697401,0.0010679158292697401,0.0010679158292697401,0.0010679158292697401,0.0010679158292697401,0.0010679158292697401,0.0010679158292697401,0.0010679158292697401,0.0010679158292697401,0.0010679158292697401,0.0010679158292697401,0.0010679158292697401,0.0010679158292697401,0.0010679158292697401,0.0010679158292697401],\"type\":\"scatter\"},{\"marker\":{\"color\":\"#cccccc\"},\"mode\":\"markers\",\"name\":\"Infeasible Trial\",\"showlegend\":false,\"x\":[],\"y\":[],\"type\":\"scatter\"}],                        {\"title\":{\"text\":\"Optimization History Plot\"},\"xaxis\":{\"title\":{\"text\":\"Trial\"}},\"yaxis\":{\"title\":{\"text\":\"Objective Value\"}},\"template\":{\"data\":{\"histogram2dcontour\":[{\"type\":\"histogram2dcontour\",\"colorbar\":{\"outlinewidth\":0,\"ticks\":\"\"},\"colorscale\":[[0.0,\"#0d0887\"],[0.1111111111111111,\"#46039f\"],[0.2222222222222222,\"#7201a8\"],[0.3333333333333333,\"#9c179e\"],[0.4444444444444444,\"#bd3786\"],[0.5555555555555556,\"#d8576b\"],[0.6666666666666666,\"#ed7953\"],[0.7777777777777778,\"#fb9f3a\"],[0.8888888888888888,\"#fdca26\"],[1.0,\"#f0f921\"]]}],\"choropleth\":[{\"type\":\"choropleth\",\"colorbar\":{\"outlinewidth\":0,\"ticks\":\"\"}}],\"histogram2d\":[{\"type\":\"histogram2d\",\"colorbar\":{\"outlinewidth\":0,\"ticks\":\"\"},\"colorscale\":[[0.0,\"#0d0887\"],[0.1111111111111111,\"#46039f\"],[0.2222222222222222,\"#7201a8\"],[0.3333333333333333,\"#9c179e\"],[0.4444444444444444,\"#bd3786\"],[0.5555555555555556,\"#d8576b\"],[0.6666666666666666,\"#ed7953\"],[0.7777777777777778,\"#fb9f3a\"],[0.8888888888888888,\"#fdca26\"],[1.0,\"#f0f921\"]]}],\"heatmap\":[{\"type\":\"heatmap\",\"colorbar\":{\"outlinewidth\":0,\"ticks\":\"\"},\"colorscale\":[[0.0,\"#0d0887\"],[0.1111111111111111,\"#46039f\"],[0.2222222222222222,\"#7201a8\"],[0.3333333333333333,\"#9c179e\"],[0.4444444444444444,\"#bd3786\"],[0.5555555555555556,\"#d8576b\"],[0.6666666666666666,\"#ed7953\"],[0.7777777777777778,\"#fb9f3a\"],[0.8888888888888888,\"#fdca26\"],[1.0,\"#f0f921\"]]}],\"heatmapgl\":[{\"type\":\"heatmapgl\",\"colorbar\":{\"outlinewidth\":0,\"ticks\":\"\"},\"colorscale\":[[0.0,\"#0d0887\"],[0.1111111111111111,\"#46039f\"],[0.2222222222222222,\"#7201a8\"],[0.3333333333333333,\"#9c179e\"],[0.4444444444444444,\"#bd3786\"],[0.5555555555555556,\"#d8576b\"],[0.6666666666666666,\"#ed7953\"],[0.7777777777777778,\"#fb9f3a\"],[0.8888888888888888,\"#fdca26\"],[1.0,\"#f0f921\"]]}],\"contourcarpet\":[{\"type\":\"contourcarpet\",\"colorbar\":{\"outlinewidth\":0,\"ticks\":\"\"}}],\"contour\":[{\"type\":\"contour\",\"colorbar\":{\"outlinewidth\":0,\"ticks\":\"\"},\"colorscale\":[[0.0,\"#0d0887\"],[0.1111111111111111,\"#46039f\"],[0.2222222222222222,\"#7201a8\"],[0.3333333333333333,\"#9c179e\"],[0.4444444444444444,\"#bd3786\"],[0.5555555555555556,\"#d8576b\"],[0.6666666666666666,\"#ed7953\"],[0.7777777777777778,\"#fb9f3a\"],[0.8888888888888888,\"#fdca26\"],[1.0,\"#f0f921\"]]}],\"surface\":[{\"type\":\"surface\",\"colorbar\":{\"outlinewidth\":0,\"ticks\":\"\"},\"colorscale\":[[0.0,\"#0d0887\"],[0.1111111111111111,\"#46039f\"],[0.2222222222222222,\"#7201a8\"],[0.3333333333333333,\"#9c179e\"],[0.4444444444444444,\"#bd3786\"],[0.5555555555555556,\"#d8576b\"],[0.6666666666666666,\"#ed7953\"],[0.7777777777777778,\"#fb9f3a\"],[0.8888888888888888,\"#fdca26\"],[1.0,\"#f0f921\"]]}],\"mesh3d\":[{\"type\":\"mesh3d\",\"colorbar\":{\"outlinewidth\":0,\"ticks\":\"\"}}],\"scatter\":[{\"fillpattern\":{\"fillmode\":\"overlay\",\"size\":10,\"solidity\":0.2},\"type\":\"scatter\"}],\"parcoords\":[{\"type\":\"parcoords\",\"line\":{\"colorbar\":{\"outlinewidth\":0,\"ticks\":\"\"}}}],\"scatterpolargl\":[{\"type\":\"scatterpolargl\",\"marker\":{\"colorbar\":{\"outlinewidth\":0,\"ticks\":\"\"}}}],\"bar\":[{\"error_x\":{\"color\":\"#2a3f5f\"},\"error_y\":{\"color\":\"#2a3f5f\"},\"marker\":{\"line\":{\"color\":\"#E5ECF6\",\"width\":0.5},\"pattern\":{\"fillmode\":\"overlay\",\"size\":10,\"solidity\":0.2}},\"type\":\"bar\"}],\"scattergeo\":[{\"type\":\"scattergeo\",\"marker\":{\"colorbar\":{\"outlinewidth\":0,\"ticks\":\"\"}}}],\"scatterpolar\":[{\"type\":\"scatterpolar\",\"marker\":{\"colorbar\":{\"outlinewidth\":0,\"ticks\":\"\"}}}],\"histogram\":[{\"marker\":{\"pattern\":{\"fillmode\":\"overlay\",\"size\":10,\"solidity\":0.2}},\"type\":\"histogram\"}],\"scattergl\":[{\"type\":\"scattergl\",\"marker\":{\"colorbar\":{\"outlinewidth\":0,\"ticks\":\"\"}}}],\"scatter3d\":[{\"type\":\"scatter3d\",\"line\":{\"colorbar\":{\"outlinewidth\":0,\"ticks\":\"\"}},\"marker\":{\"colorbar\":{\"outlinewidth\":0,\"ticks\":\"\"}}}],\"scattermapbox\":[{\"type\":\"scattermapbox\",\"marker\":{\"colorbar\":{\"outlinewidth\":0,\"ticks\":\"\"}}}],\"scatterternary\":[{\"type\":\"scatterternary\",\"marker\":{\"colorbar\":{\"outlinewidth\":0,\"ticks\":\"\"}}}],\"scattercarpet\":[{\"type\":\"scattercarpet\",\"marker\":{\"colorbar\":{\"outlinewidth\":0,\"ticks\":\"\"}}}],\"carpet\":[{\"aaxis\":{\"endlinecolor\":\"#2a3f5f\",\"gridcolor\":\"white\",\"linecolor\":\"white\",\"minorgridcolor\":\"white\",\"startlinecolor\":\"#2a3f5f\"},\"baxis\":{\"endlinecolor\":\"#2a3f5f\",\"gridcolor\":\"white\",\"linecolor\":\"white\",\"minorgridcolor\":\"white\",\"startlinecolor\":\"#2a3f5f\"},\"type\":\"carpet\"}],\"table\":[{\"cells\":{\"fill\":{\"color\":\"#EBF0F8\"},\"line\":{\"color\":\"white\"}},\"header\":{\"fill\":{\"color\":\"#C8D4E3\"},\"line\":{\"color\":\"white\"}},\"type\":\"table\"}],\"barpolar\":[{\"marker\":{\"line\":{\"color\":\"#E5ECF6\",\"width\":0.5},\"pattern\":{\"fillmode\":\"overlay\",\"size\":10,\"solidity\":0.2}},\"type\":\"barpolar\"}],\"pie\":[{\"automargin\":true,\"type\":\"pie\"}]},\"layout\":{\"autotypenumbers\":\"strict\",\"colorway\":[\"#636efa\",\"#EF553B\",\"#00cc96\",\"#ab63fa\",\"#FFA15A\",\"#19d3f3\",\"#FF6692\",\"#B6E880\",\"#FF97FF\",\"#FECB52\"],\"font\":{\"color\":\"#2a3f5f\"},\"hovermode\":\"closest\",\"hoverlabel\":{\"align\":\"left\"},\"paper_bgcolor\":\"white\",\"plot_bgcolor\":\"#E5ECF6\",\"polar\":{\"bgcolor\":\"#E5ECF6\",\"angularaxis\":{\"gridcolor\":\"white\",\"linecolor\":\"white\",\"ticks\":\"\"},\"radialaxis\":{\"gridcolor\":\"white\",\"linecolor\":\"white\",\"ticks\":\"\"}},\"ternary\":{\"bgcolor\":\"#E5ECF6\",\"aaxis\":{\"gridcolor\":\"white\",\"linecolor\":\"white\",\"ticks\":\"\"},\"baxis\":{\"gridcolor\":\"white\",\"linecolor\":\"white\",\"ticks\":\"\"},\"caxis\":{\"gridcolor\":\"white\",\"linecolor\":\"white\",\"ticks\":\"\"}},\"coloraxis\":{\"colorbar\":{\"outlinewidth\":0,\"ticks\":\"\"}},\"colorscale\":{\"sequential\":[[0.0,\"#0d0887\"],[0.1111111111111111,\"#46039f\"],[0.2222222222222222,\"#7201a8\"],[0.3333333333333333,\"#9c179e\"],[0.4444444444444444,\"#bd3786\"],[0.5555555555555556,\"#d8576b\"],[0.6666666666666666,\"#ed7953\"],[0.7777777777777778,\"#fb9f3a\"],[0.8888888888888888,\"#fdca26\"],[1.0,\"#f0f921\"]],\"sequentialminus\":[[0.0,\"#0d0887\"],[0.1111111111111111,\"#46039f\"],[0.2222222222222222,\"#7201a8\"],[0.3333333333333333,\"#9c179e\"],[0.4444444444444444,\"#bd3786\"],[0.5555555555555556,\"#d8576b\"],[0.6666666666666666,\"#ed7953\"],[0.7777777777777778,\"#fb9f3a\"],[0.8888888888888888,\"#fdca26\"],[1.0,\"#f0f921\"]],\"diverging\":[[0,\"#8e0152\"],[0.1,\"#c51b7d\"],[0.2,\"#de77ae\"],[0.3,\"#f1b6da\"],[0.4,\"#fde0ef\"],[0.5,\"#f7f7f7\"],[0.6,\"#e6f5d0\"],[0.7,\"#b8e186\"],[0.8,\"#7fbc41\"],[0.9,\"#4d9221\"],[1,\"#276419\"]]},\"xaxis\":{\"gridcolor\":\"white\",\"linecolor\":\"white\",\"ticks\":\"\",\"title\":{\"standoff\":15},\"zerolinecolor\":\"white\",\"automargin\":true,\"zerolinewidth\":2},\"yaxis\":{\"gridcolor\":\"white\",\"linecolor\":\"white\",\"ticks\":\"\",\"title\":{\"standoff\":15},\"zerolinecolor\":\"white\",\"automargin\":true,\"zerolinewidth\":2},\"scene\":{\"xaxis\":{\"backgroundcolor\":\"#E5ECF6\",\"gridcolor\":\"white\",\"linecolor\":\"white\",\"showbackground\":true,\"ticks\":\"\",\"zerolinecolor\":\"white\",\"gridwidth\":2},\"yaxis\":{\"backgroundcolor\":\"#E5ECF6\",\"gridcolor\":\"white\",\"linecolor\":\"white\",\"showbackground\":true,\"ticks\":\"\",\"zerolinecolor\":\"white\",\"gridwidth\":2},\"zaxis\":{\"backgroundcolor\":\"#E5ECF6\",\"gridcolor\":\"white\",\"linecolor\":\"white\",\"showbackground\":true,\"ticks\":\"\",\"zerolinecolor\":\"white\",\"gridwidth\":2}},\"shapedefaults\":{\"line\":{\"color\":\"#2a3f5f\"}},\"annotationdefaults\":{\"arrowcolor\":\"#2a3f5f\",\"arrowhead\":0,\"arrowwidth\":1},\"geo\":{\"bgcolor\":\"white\",\"landcolor\":\"#E5ECF6\",\"subunitcolor\":\"white\",\"showland\":true,\"showlakes\":true,\"lakecolor\":\"white\"},\"title\":{\"x\":0.05},\"mapbox\":{\"style\":\"light\"}}}},                        {\"responsive\": true}                    ).then(function(){\n",
              "                            \n",
              "var gd = document.getElementById('d138a4da-d5d7-41fc-913f-1b20330cad53');\n",
              "var x = new MutationObserver(function (mutations, observer) {{\n",
              "        var display = window.getComputedStyle(gd).display;\n",
              "        if (!display || display === 'none') {{\n",
              "            console.log([gd, 'removed!']);\n",
              "            Plotly.purge(gd);\n",
              "            observer.disconnect();\n",
              "        }}\n",
              "}});\n",
              "\n",
              "// Listen for the removal of the full notebook cells\n",
              "var notebookContainer = gd.closest('#notebook-container');\n",
              "if (notebookContainer) {{\n",
              "    x.observe(notebookContainer, {childList: true});\n",
              "}}\n",
              "\n",
              "// Listen for the clearing of the current output cell\n",
              "var outputEl = gd.closest('.output');\n",
              "if (outputEl) {{\n",
              "    x.observe(outputEl, {childList: true});\n",
              "}}\n",
              "\n",
              "                        })                };                            </script>        </div>\n",
              "</body>\n",
              "</html>"
            ]
          },
          "metadata": {}
        }
      ],
      "source": [
        "plot_optimization_history(study)"
      ]
    },
    {
      "cell_type": "code",
      "execution_count": 106,
      "id": "e1430070-7b47-42b8-838e-4c40daac3c9f",
      "metadata": {
        "colab": {
          "base_uri": "https://localhost:8080/",
          "height": 542
        },
        "id": "e1430070-7b47-42b8-838e-4c40daac3c9f",
        "outputId": "d51b4a12-9675-4292-9c5b-4f1f21c8d6e5"
      },
      "outputs": [
        {
          "output_type": "display_data",
          "data": {
            "text/html": [
              "<html>\n",
              "<head><meta charset=\"utf-8\" /></head>\n",
              "<body>\n",
              "    <div>            <script src=\"https://cdnjs.cloudflare.com/ajax/libs/mathjax/2.7.5/MathJax.js?config=TeX-AMS-MML_SVG\"></script><script type=\"text/javascript\">if (window.MathJax && window.MathJax.Hub && window.MathJax.Hub.Config) {window.MathJax.Hub.Config({SVG: {font: \"STIX-Web\"}});}</script>                <script type=\"text/javascript\">window.PlotlyConfig = {MathJaxConfig: 'local'};</script>\n",
              "        <script charset=\"utf-8\" src=\"https://cdn.plot.ly/plotly-2.35.2.min.js\"></script>                <div id=\"33e65750-47ff-48b9-8953-4c3f5b8a8cb0\" class=\"plotly-graph-div\" style=\"height:525px; width:100%;\"></div>            <script type=\"text/javascript\">                                    window.PLOTLYENV=window.PLOTLYENV || {};                                    if (document.getElementById(\"33e65750-47ff-48b9-8953-4c3f5b8a8cb0\")) {                    Plotly.newPlot(                        \"33e65750-47ff-48b9-8953-4c3f5b8a8cb0\",                        [{\"dimensions\":[{\"label\":\"Objective Value\",\"range\":[0.0010679158292697401,0.015606616623699665],\"values\":[0.0011423252257866654,0.0010679158292697401,0.0022700453129822283,0.0014810825266393505,0.0022700453129822283,0.005012365523725748,0.0022700453129822283,0.012420529499650002,0.015283496119081974,0.015193769093682894,0.0022700453129822283,0.012188968525283502,0.0011002689489442276,0.0010822212978730207,0.001101037826794604,0.0011661218688384125,0.0010934731808384726,0.00535282919791297,0.0021188317073696492,0.00109437888250338,0.015524717408433376,0.015520476446218573,0.0010934731808384726,0.0010934731808384726,0.001097825878942865,0.0010822212978730207,0.0010822212978730207,0.0010753978551729555,0.001438899341664779,0.015606616623699665,0.001438899341664779,0.0010732978260653229,0.0010753978551729553,0.0010753978551729553,0.0010701598608913346,0.0022700453129822283,0.0010701598608913348,0.0011447576034146491,0.0022700453129822283,0.0010971123119816184,0.014148646034300327,0.014360549859702587,0.0011137790534685326,0.001113779053468368,0.0010929281591939705,0.0010929281591939702,0.0010732978260651466,0.009836583911705573,0.0022700453129822283,0.0010930424696939899]},{\"label\":\"model_name\",\"range\":[0,3],\"ticktext\":[\"RF\",\"LR\",\"XGBR\",\"GBR\"],\"tickvals\":[0,1,2,3],\"values\":[0,0,1,0,1,2,1,2,2,3,1,3,0,0,0,0,0,0,0,0,3,3,0,0,0,0,0,0,0,2,0,0,0,0,0,1,0,0,1,2,2,2,0,0,0,0,0,3,1,0]}],\"labelangle\":30,\"labelside\":\"bottom\",\"line\":{\"color\":[0.0011423252257866654,0.0010679158292697401,0.0022700453129822283,0.0014810825266393505,0.0022700453129822283,0.005012365523725748,0.0022700453129822283,0.012420529499650002,0.015283496119081974,0.015193769093682894,0.0022700453129822283,0.012188968525283502,0.0011002689489442276,0.0010822212978730207,0.001101037826794604,0.0011661218688384125,0.0010934731808384726,0.00535282919791297,0.0021188317073696492,0.00109437888250338,0.015524717408433376,0.015520476446218573,0.0010934731808384726,0.0010934731808384726,0.001097825878942865,0.0010822212978730207,0.0010822212978730207,0.0010753978551729555,0.001438899341664779,0.015606616623699665,0.001438899341664779,0.0010732978260653229,0.0010753978551729553,0.0010753978551729553,0.0010701598608913346,0.0022700453129822283,0.0010701598608913348,0.0011447576034146491,0.0022700453129822283,0.0010971123119816184,0.014148646034300327,0.014360549859702587,0.0011137790534685326,0.001113779053468368,0.0010929281591939705,0.0010929281591939702,0.0010732978260651466,0.009836583911705573,0.0022700453129822283,0.0010930424696939899],\"colorbar\":{\"title\":{\"text\":\"Objective Value\"}},\"colorscale\":[[0.0,\"rgb(247,251,255)\"],[0.125,\"rgb(222,235,247)\"],[0.25,\"rgb(198,219,239)\"],[0.375,\"rgb(158,202,225)\"],[0.5,\"rgb(107,174,214)\"],[0.625,\"rgb(66,146,198)\"],[0.75,\"rgb(33,113,181)\"],[0.875,\"rgb(8,81,156)\"],[1.0,\"rgb(8,48,107)\"]],\"reversescale\":true,\"showscale\":true},\"type\":\"parcoords\"}],                        {\"title\":{\"text\":\"Parallel Coordinate Plot\"},\"template\":{\"data\":{\"histogram2dcontour\":[{\"type\":\"histogram2dcontour\",\"colorbar\":{\"outlinewidth\":0,\"ticks\":\"\"},\"colorscale\":[[0.0,\"#0d0887\"],[0.1111111111111111,\"#46039f\"],[0.2222222222222222,\"#7201a8\"],[0.3333333333333333,\"#9c179e\"],[0.4444444444444444,\"#bd3786\"],[0.5555555555555556,\"#d8576b\"],[0.6666666666666666,\"#ed7953\"],[0.7777777777777778,\"#fb9f3a\"],[0.8888888888888888,\"#fdca26\"],[1.0,\"#f0f921\"]]}],\"choropleth\":[{\"type\":\"choropleth\",\"colorbar\":{\"outlinewidth\":0,\"ticks\":\"\"}}],\"histogram2d\":[{\"type\":\"histogram2d\",\"colorbar\":{\"outlinewidth\":0,\"ticks\":\"\"},\"colorscale\":[[0.0,\"#0d0887\"],[0.1111111111111111,\"#46039f\"],[0.2222222222222222,\"#7201a8\"],[0.3333333333333333,\"#9c179e\"],[0.4444444444444444,\"#bd3786\"],[0.5555555555555556,\"#d8576b\"],[0.6666666666666666,\"#ed7953\"],[0.7777777777777778,\"#fb9f3a\"],[0.8888888888888888,\"#fdca26\"],[1.0,\"#f0f921\"]]}],\"heatmap\":[{\"type\":\"heatmap\",\"colorbar\":{\"outlinewidth\":0,\"ticks\":\"\"},\"colorscale\":[[0.0,\"#0d0887\"],[0.1111111111111111,\"#46039f\"],[0.2222222222222222,\"#7201a8\"],[0.3333333333333333,\"#9c179e\"],[0.4444444444444444,\"#bd3786\"],[0.5555555555555556,\"#d8576b\"],[0.6666666666666666,\"#ed7953\"],[0.7777777777777778,\"#fb9f3a\"],[0.8888888888888888,\"#fdca26\"],[1.0,\"#f0f921\"]]}],\"heatmapgl\":[{\"type\":\"heatmapgl\",\"colorbar\":{\"outlinewidth\":0,\"ticks\":\"\"},\"colorscale\":[[0.0,\"#0d0887\"],[0.1111111111111111,\"#46039f\"],[0.2222222222222222,\"#7201a8\"],[0.3333333333333333,\"#9c179e\"],[0.4444444444444444,\"#bd3786\"],[0.5555555555555556,\"#d8576b\"],[0.6666666666666666,\"#ed7953\"],[0.7777777777777778,\"#fb9f3a\"],[0.8888888888888888,\"#fdca26\"],[1.0,\"#f0f921\"]]}],\"contourcarpet\":[{\"type\":\"contourcarpet\",\"colorbar\":{\"outlinewidth\":0,\"ticks\":\"\"}}],\"contour\":[{\"type\":\"contour\",\"colorbar\":{\"outlinewidth\":0,\"ticks\":\"\"},\"colorscale\":[[0.0,\"#0d0887\"],[0.1111111111111111,\"#46039f\"],[0.2222222222222222,\"#7201a8\"],[0.3333333333333333,\"#9c179e\"],[0.4444444444444444,\"#bd3786\"],[0.5555555555555556,\"#d8576b\"],[0.6666666666666666,\"#ed7953\"],[0.7777777777777778,\"#fb9f3a\"],[0.8888888888888888,\"#fdca26\"],[1.0,\"#f0f921\"]]}],\"surface\":[{\"type\":\"surface\",\"colorbar\":{\"outlinewidth\":0,\"ticks\":\"\"},\"colorscale\":[[0.0,\"#0d0887\"],[0.1111111111111111,\"#46039f\"],[0.2222222222222222,\"#7201a8\"],[0.3333333333333333,\"#9c179e\"],[0.4444444444444444,\"#bd3786\"],[0.5555555555555556,\"#d8576b\"],[0.6666666666666666,\"#ed7953\"],[0.7777777777777778,\"#fb9f3a\"],[0.8888888888888888,\"#fdca26\"],[1.0,\"#f0f921\"]]}],\"mesh3d\":[{\"type\":\"mesh3d\",\"colorbar\":{\"outlinewidth\":0,\"ticks\":\"\"}}],\"scatter\":[{\"fillpattern\":{\"fillmode\":\"overlay\",\"size\":10,\"solidity\":0.2},\"type\":\"scatter\"}],\"parcoords\":[{\"type\":\"parcoords\",\"line\":{\"colorbar\":{\"outlinewidth\":0,\"ticks\":\"\"}}}],\"scatterpolargl\":[{\"type\":\"scatterpolargl\",\"marker\":{\"colorbar\":{\"outlinewidth\":0,\"ticks\":\"\"}}}],\"bar\":[{\"error_x\":{\"color\":\"#2a3f5f\"},\"error_y\":{\"color\":\"#2a3f5f\"},\"marker\":{\"line\":{\"color\":\"#E5ECF6\",\"width\":0.5},\"pattern\":{\"fillmode\":\"overlay\",\"size\":10,\"solidity\":0.2}},\"type\":\"bar\"}],\"scattergeo\":[{\"type\":\"scattergeo\",\"marker\":{\"colorbar\":{\"outlinewidth\":0,\"ticks\":\"\"}}}],\"scatterpolar\":[{\"type\":\"scatterpolar\",\"marker\":{\"colorbar\":{\"outlinewidth\":0,\"ticks\":\"\"}}}],\"histogram\":[{\"marker\":{\"pattern\":{\"fillmode\":\"overlay\",\"size\":10,\"solidity\":0.2}},\"type\":\"histogram\"}],\"scattergl\":[{\"type\":\"scattergl\",\"marker\":{\"colorbar\":{\"outlinewidth\":0,\"ticks\":\"\"}}}],\"scatter3d\":[{\"type\":\"scatter3d\",\"line\":{\"colorbar\":{\"outlinewidth\":0,\"ticks\":\"\"}},\"marker\":{\"colorbar\":{\"outlinewidth\":0,\"ticks\":\"\"}}}],\"scattermapbox\":[{\"type\":\"scattermapbox\",\"marker\":{\"colorbar\":{\"outlinewidth\":0,\"ticks\":\"\"}}}],\"scatterternary\":[{\"type\":\"scatterternary\",\"marker\":{\"colorbar\":{\"outlinewidth\":0,\"ticks\":\"\"}}}],\"scattercarpet\":[{\"type\":\"scattercarpet\",\"marker\":{\"colorbar\":{\"outlinewidth\":0,\"ticks\":\"\"}}}],\"carpet\":[{\"aaxis\":{\"endlinecolor\":\"#2a3f5f\",\"gridcolor\":\"white\",\"linecolor\":\"white\",\"minorgridcolor\":\"white\",\"startlinecolor\":\"#2a3f5f\"},\"baxis\":{\"endlinecolor\":\"#2a3f5f\",\"gridcolor\":\"white\",\"linecolor\":\"white\",\"minorgridcolor\":\"white\",\"startlinecolor\":\"#2a3f5f\"},\"type\":\"carpet\"}],\"table\":[{\"cells\":{\"fill\":{\"color\":\"#EBF0F8\"},\"line\":{\"color\":\"white\"}},\"header\":{\"fill\":{\"color\":\"#C8D4E3\"},\"line\":{\"color\":\"white\"}},\"type\":\"table\"}],\"barpolar\":[{\"marker\":{\"line\":{\"color\":\"#E5ECF6\",\"width\":0.5},\"pattern\":{\"fillmode\":\"overlay\",\"size\":10,\"solidity\":0.2}},\"type\":\"barpolar\"}],\"pie\":[{\"automargin\":true,\"type\":\"pie\"}]},\"layout\":{\"autotypenumbers\":\"strict\",\"colorway\":[\"#636efa\",\"#EF553B\",\"#00cc96\",\"#ab63fa\",\"#FFA15A\",\"#19d3f3\",\"#FF6692\",\"#B6E880\",\"#FF97FF\",\"#FECB52\"],\"font\":{\"color\":\"#2a3f5f\"},\"hovermode\":\"closest\",\"hoverlabel\":{\"align\":\"left\"},\"paper_bgcolor\":\"white\",\"plot_bgcolor\":\"#E5ECF6\",\"polar\":{\"bgcolor\":\"#E5ECF6\",\"angularaxis\":{\"gridcolor\":\"white\",\"linecolor\":\"white\",\"ticks\":\"\"},\"radialaxis\":{\"gridcolor\":\"white\",\"linecolor\":\"white\",\"ticks\":\"\"}},\"ternary\":{\"bgcolor\":\"#E5ECF6\",\"aaxis\":{\"gridcolor\":\"white\",\"linecolor\":\"white\",\"ticks\":\"\"},\"baxis\":{\"gridcolor\":\"white\",\"linecolor\":\"white\",\"ticks\":\"\"},\"caxis\":{\"gridcolor\":\"white\",\"linecolor\":\"white\",\"ticks\":\"\"}},\"coloraxis\":{\"colorbar\":{\"outlinewidth\":0,\"ticks\":\"\"}},\"colorscale\":{\"sequential\":[[0.0,\"#0d0887\"],[0.1111111111111111,\"#46039f\"],[0.2222222222222222,\"#7201a8\"],[0.3333333333333333,\"#9c179e\"],[0.4444444444444444,\"#bd3786\"],[0.5555555555555556,\"#d8576b\"],[0.6666666666666666,\"#ed7953\"],[0.7777777777777778,\"#fb9f3a\"],[0.8888888888888888,\"#fdca26\"],[1.0,\"#f0f921\"]],\"sequentialminus\":[[0.0,\"#0d0887\"],[0.1111111111111111,\"#46039f\"],[0.2222222222222222,\"#7201a8\"],[0.3333333333333333,\"#9c179e\"],[0.4444444444444444,\"#bd3786\"],[0.5555555555555556,\"#d8576b\"],[0.6666666666666666,\"#ed7953\"],[0.7777777777777778,\"#fb9f3a\"],[0.8888888888888888,\"#fdca26\"],[1.0,\"#f0f921\"]],\"diverging\":[[0,\"#8e0152\"],[0.1,\"#c51b7d\"],[0.2,\"#de77ae\"],[0.3,\"#f1b6da\"],[0.4,\"#fde0ef\"],[0.5,\"#f7f7f7\"],[0.6,\"#e6f5d0\"],[0.7,\"#b8e186\"],[0.8,\"#7fbc41\"],[0.9,\"#4d9221\"],[1,\"#276419\"]]},\"xaxis\":{\"gridcolor\":\"white\",\"linecolor\":\"white\",\"ticks\":\"\",\"title\":{\"standoff\":15},\"zerolinecolor\":\"white\",\"automargin\":true,\"zerolinewidth\":2},\"yaxis\":{\"gridcolor\":\"white\",\"linecolor\":\"white\",\"ticks\":\"\",\"title\":{\"standoff\":15},\"zerolinecolor\":\"white\",\"automargin\":true,\"zerolinewidth\":2},\"scene\":{\"xaxis\":{\"backgroundcolor\":\"#E5ECF6\",\"gridcolor\":\"white\",\"linecolor\":\"white\",\"showbackground\":true,\"ticks\":\"\",\"zerolinecolor\":\"white\",\"gridwidth\":2},\"yaxis\":{\"backgroundcolor\":\"#E5ECF6\",\"gridcolor\":\"white\",\"linecolor\":\"white\",\"showbackground\":true,\"ticks\":\"\",\"zerolinecolor\":\"white\",\"gridwidth\":2},\"zaxis\":{\"backgroundcolor\":\"#E5ECF6\",\"gridcolor\":\"white\",\"linecolor\":\"white\",\"showbackground\":true,\"ticks\":\"\",\"zerolinecolor\":\"white\",\"gridwidth\":2}},\"shapedefaults\":{\"line\":{\"color\":\"#2a3f5f\"}},\"annotationdefaults\":{\"arrowcolor\":\"#2a3f5f\",\"arrowhead\":0,\"arrowwidth\":1},\"geo\":{\"bgcolor\":\"white\",\"landcolor\":\"#E5ECF6\",\"subunitcolor\":\"white\",\"showland\":true,\"showlakes\":true,\"lakecolor\":\"white\"},\"title\":{\"x\":0.05},\"mapbox\":{\"style\":\"light\"}}}},                        {\"responsive\": true}                    ).then(function(){\n",
              "                            \n",
              "var gd = document.getElementById('33e65750-47ff-48b9-8953-4c3f5b8a8cb0');\n",
              "var x = new MutationObserver(function (mutations, observer) {{\n",
              "        var display = window.getComputedStyle(gd).display;\n",
              "        if (!display || display === 'none') {{\n",
              "            console.log([gd, 'removed!']);\n",
              "            Plotly.purge(gd);\n",
              "            observer.disconnect();\n",
              "        }}\n",
              "}});\n",
              "\n",
              "// Listen for the removal of the full notebook cells\n",
              "var notebookContainer = gd.closest('#notebook-container');\n",
              "if (notebookContainer) {{\n",
              "    x.observe(notebookContainer, {childList: true});\n",
              "}}\n",
              "\n",
              "// Listen for the clearing of the current output cell\n",
              "var outputEl = gd.closest('.output');\n",
              "if (outputEl) {{\n",
              "    x.observe(outputEl, {childList: true});\n",
              "}}\n",
              "\n",
              "                        })                };                            </script>        </div>\n",
              "</body>\n",
              "</html>"
            ]
          },
          "metadata": {}
        }
      ],
      "source": [
        "plot_parallel_coordinate(study, params=[\"model_name\"])"
      ]
    },
    {
      "cell_type": "code",
      "execution_count": 107,
      "id": "b637e4ba-a17c-45af-9662-4c4855fb72ac",
      "metadata": {
        "colab": {
          "base_uri": "https://localhost:8080/"
        },
        "id": "b637e4ba-a17c-45af-9662-4c4855fb72ac",
        "outputId": "61210cf1-10b0-4261-f522-173470e18e5b"
      },
      "outputs": [
        {
          "output_type": "stream",
          "name": "stdout",
          "text": [
            "The training error is  0.004087547467779396\n",
            "The test error is  0.0022700453129822283\n"
          ]
        }
      ],
      "source": [
        "# train the linear regression model\n",
        "\n",
        "lr = LinearRegression()\n",
        "\n",
        "lr.fit(X_train_encoded, y_train)\n",
        "\n",
        "# get predictions\n",
        "y_pred_train = lr.predict(X_train_encoded)\n",
        "y_pred_test = lr.predict(X_test_encoded)\n",
        "\n",
        "# loss\n",
        "\n",
        "mape_train = mean_absolute_percentage_error(y_train, y_pred_train)\n",
        "mape_test = mean_absolute_percentage_error(y_test, y_pred_test)\n",
        "\n",
        "print(\"The training error is \", mape_train)\n",
        "print(\"The test error is \", mape_test)"
      ]
    },
    {
      "cell_type": "code",
      "execution_count": 108,
      "id": "b6b9731e-15ff-4ff6-b667-05783ece831a",
      "metadata": {
        "colab": {
          "base_uri": "https://localhost:8080/"
        },
        "id": "b6b9731e-15ff-4ff6-b667-05783ece831a",
        "outputId": "4ee1b815-d0ba-4b73-c26e-1026238d0f34"
      },
      "outputs": [
        {
          "output_type": "execute_result",
          "data": {
            "text/plain": [
              "array([ 1.07188818e-02,  2.04381318e-02,  1.58179478e-02,  1.22019589e-02,\n",
              "       -1.69417797e-03,  9.40430213e-03,  1.76632645e-02,  2.23484703e-02,\n",
              "        1.12982045e-02,  5.77093599e-03,  1.56360199e-02,  2.29339303e-02,\n",
              "        2.24345394e-02, -7.49473355e-04,  8.61125591e-03,  2.17939256e-02,\n",
              "        6.31277515e-03,  1.56799014e-03,  1.36345703e-02, -3.41022413e-03,\n",
              "       -1.41208551e-02,  1.23408592e-02,  1.44708670e-02,  8.54521593e-03,\n",
              "        1.56865637e-02,  8.99047121e-03,  7.25532432e-03,  2.02947358e-02,\n",
              "       -5.40647528e-03,  9.76550792e-04,  9.76550792e-04,  9.31535919e-04,\n",
              "       -4.95531112e-02, -4.15475346e-02,  3.82372428e-04, -5.56543756e-01,\n",
              "       -3.68042454e-01, -1.95516216e-01, -2.02177869e-01,  2.43401886e+00])"
            ]
          },
          "metadata": {},
          "execution_count": 108
        }
      ],
      "source": [
        "lr.coef_"
      ]
    },
    {
      "cell_type": "code",
      "execution_count": 109,
      "id": "38cb6832-6427-41ec-88d9-f141dac4e35f",
      "metadata": {
        "id": "38cb6832-6427-41ec-88d9-f141dac4e35f"
      },
      "outputs": [],
      "source": [
        "def tune_ridge(trial):\n",
        "    # hyperparameter space\n",
        "    alpha = trial.suggest_float(\"alpha\",30,100)\n",
        "\n",
        "    # make the model object\n",
        "    ridge = Ridge(alpha=alpha, random_state=42)\n",
        "\n",
        "    # train the model\n",
        "    ridge.fit(X_train_encoded, y_train)\n",
        "\n",
        "    # get predictions\n",
        "    y_pred = ridge.predict(X_test_encoded)\n",
        "\n",
        "    # calculate loss\n",
        "    loss = mean_absolute_percentage_error(y_test, y_pred)\n",
        "\n",
        "    return loss\n",
        ""
      ]
    },
    {
      "cell_type": "code",
      "execution_count": 110,
      "id": "3bf196aa-e39a-429c-b1f8-67881330a389",
      "metadata": {
        "colab": {
          "base_uri": "https://localhost:8080/"
        },
        "id": "3bf196aa-e39a-429c-b1f8-67881330a389",
        "outputId": "20a38301-c502-4640-961a-391e8b2d04a3"
      },
      "outputs": [
        {
          "output_type": "stream",
          "name": "stderr",
          "text": [
            "[I 2025-05-04 00:35:44,441] A new study created in memory with name: tune_model\n"
          ]
        }
      ],
      "source": [
        "# create study\n",
        "\n",
        "study = optuna.create_study(study_name=\"tune_model\", direction=\"minimize\")"
      ]
    },
    {
      "cell_type": "code",
      "execution_count": 111,
      "id": "fb61c41e-1479-4d26-8faf-fdf3643c2a51",
      "metadata": {
        "colab": {
          "base_uri": "https://localhost:8080/",
          "height": 1000,
          "referenced_widgets": [
            "66c25cbe0d2f4e0ca588158c0917d01d",
            "2c90ee38ec76429ca88ffabac0dfeb37",
            "1ddb8e7dfb214565a002b57baa19c1b7",
            "ff2d8df36dfa437c8664b924467d4a31",
            "9ef37cb67701480299894ae0c2d8eed3",
            "2d83f7d605114ccf908dca41b52af3c0",
            "5ce3ac05989b44c4a5908a574cb06493",
            "55ca4e4f5a4f4e52be7143f9ab2f4313",
            "74c9fafb47ac4cee8c59261112ddcdc3",
            "767d11b95a18453d8099a8195d44b7e8",
            "0d23800ffc1a446c927ea6205480ba27"
          ]
        },
        "id": "fb61c41e-1479-4d26-8faf-fdf3643c2a51",
        "outputId": "e486ce85-41f9-4a3e-9f85-cc207bbba320"
      },
      "outputs": [
        {
          "output_type": "display_data",
          "data": {
            "text/plain": [
              "  0%|          | 0/100 [00:00<?, ?it/s]"
            ],
            "application/vnd.jupyter.widget-view+json": {
              "version_major": 2,
              "version_minor": 0,
              "model_id": "66c25cbe0d2f4e0ca588158c0917d01d"
            }
          },
          "metadata": {}
        },
        {
          "output_type": "stream",
          "name": "stdout",
          "text": [
            "[I 2025-05-04 00:35:45,422] Trial 1 finished with value: 0.002246779177660719 and parameters: {'alpha': 88.28707879603172}. Best is trial 1 with value: 0.002246779177660719.\n",
            "[I 2025-05-04 00:35:45,442] Trial 0 finished with value: 0.0022490878851674748 and parameters: {'alpha': 78.22171930856442}. Best is trial 1 with value: 0.002246779177660719.\n",
            "[I 2025-05-04 00:35:46,053] Trial 3 finished with value: 0.002251792277468619 and parameters: {'alpha': 66.75318136679329}. Best is trial 1 with value: 0.002246779177660719.\n",
            "[I 2025-05-04 00:35:46,059] Trial 2 finished with value: 0.002256509560063078 and parameters: {'alpha': 47.8412624314159}. Best is trial 1 with value: 0.002246779177660719.\n",
            "[I 2025-05-04 00:35:46,599] Trial 5 finished with value: 0.0022589705499201414 and parameters: {'alpha': 38.44784977208617}. Best is trial 1 with value: 0.002246779177660719.\n",
            "[I 2025-05-04 00:35:46,612] Trial 4 finished with value: 0.0022599992648744604 and parameters: {'alpha': 34.61134166110391}. Best is trial 1 with value: 0.002246779177660719.\n",
            "[I 2025-05-04 00:35:47,051] Trial 7 finished with value: 0.002260614326422165 and parameters: {'alpha': 32.343098198735724}. Best is trial 1 with value: 0.002246779177660719.\n",
            "[I 2025-05-04 00:35:47,060] Trial 6 finished with value: 0.0022595066901181867 and parameters: {'alpha': 36.44169254429193}. Best is trial 1 with value: 0.002246779177660719.\n",
            "[I 2025-05-04 00:35:47,362] Trial 8 finished with value: 0.002259242163875228 and parameters: {'alpha': 37.42969978456053}. Best is trial 1 with value: 0.002246779177660719.\n",
            "[I 2025-05-04 00:35:47,366] Trial 9 finished with value: 0.002258764846740833 and parameters: {'alpha': 39.221402587239545}. Best is trial 1 with value: 0.002246779177660719.\n",
            "[I 2025-05-04 00:35:47,678] Trial 11 finished with value: 0.0022441628445299985 and parameters: {'alpha': 99.99040144931475}. Best is trial 11 with value: 0.0022441628445299985.\n",
            "[I 2025-05-04 00:35:47,680] Trial 10 finished with value: 0.0022443346294401508 and parameters: {'alpha': 99.21249621966108}. Best is trial 11 with value: 0.0022441628445299985.\n",
            "[I 2025-05-04 00:35:48,055] Trial 12 finished with value: 0.002244325559296377 and parameters: {'alpha': 99.25353619854071}. Best is trial 11 with value: 0.0022441628445299985.\n",
            "[I 2025-05-04 00:35:48,060] Trial 13 finished with value: 0.002244417396285506 and parameters: {'alpha': 98.83816832542612}. Best is trial 11 with value: 0.0022441628445299985.\n",
            "[I 2025-05-04 00:35:48,482] Trial 15 finished with value: 0.002247423603831227 and parameters: {'alpha': 85.45251409350651}. Best is trial 11 with value: 0.0022441628445299985.\n",
            "[I 2025-05-04 00:35:48,483] Trial 14 finished with value: 0.0022476392319969963 and parameters: {'alpha': 84.5083586409555}. Best is trial 11 with value: 0.0022441628445299985.\n",
            "[I 2025-05-04 00:35:48,793] Trial 16 finished with value: 0.002250963430373006 and parameters: {'alpha': 70.23058440383468}. Best is trial 11 with value: 0.0022441628445299985.\n",
            "[I 2025-05-04 00:35:48,796] Trial 17 finished with value: 0.0022507173967145537 and parameters: {'alpha': 71.26922768835641}. Best is trial 11 with value: 0.0022441628445299985.\n",
            "[I 2025-05-04 00:35:49,194] Trial 19 finished with value: 0.0022551865549884738 and parameters: {'alpha': 53.01515638095452}. Best is trial 11 with value: 0.0022441628445299985.\n",
            "[I 2025-05-04 00:35:49,209] Trial 18 finished with value: 0.0022539253438973407 and parameters: {'alpha': 58.02708617949083}. Best is trial 11 with value: 0.0022441628445299985.\n",
            "[I 2025-05-04 00:35:49,623] Trial 21 finished with value: 0.0022459402942536437 and parameters: {'alpha': 92.00565727488363}. Best is trial 11 with value: 0.0022441628445299985.\n",
            "[I 2025-05-04 00:35:49,626] Trial 20 finished with value: 0.0022457255701431532 and parameters: {'alpha': 92.96265726992603}. Best is trial 11 with value: 0.0022441628445299985.\n",
            "[I 2025-05-04 00:35:49,947] Trial 23 finished with value: 0.0022452749675636215 and parameters: {'alpha': 94.97775676023183}. Best is trial 11 with value: 0.0022441628445299985.\n",
            "[I 2025-05-04 00:35:49,971] Trial 22 finished with value: 0.002244222773592381 and parameters: {'alpha': 99.71887095058948}. Best is trial 11 with value: 0.0022441628445299985.\n",
            "[I 2025-05-04 00:35:50,221] Trial 24 finished with value: 0.0022445544994898663 and parameters: {'alpha': 98.21876930353194}. Best is trial 11 with value: 0.0022441628445299985.\n",
            "[I 2025-05-04 00:35:50,262] Trial 25 finished with value: 0.002249076422649953 and parameters: {'alpha': 78.27107415636814}. Best is trial 11 with value: 0.0022441628445299985.\n",
            "[I 2025-05-04 00:35:52,752] Trial 27 finished with value: 0.0022485496802178333 and parameters: {'alpha': 80.54580827148709}. Best is trial 11 with value: 0.0022441628445299985.\n",
            "[I 2025-05-04 00:35:52,756] Trial 26 finished with value: 0.002248759083283714 and parameters: {'alpha': 79.63993205856447}. Best is trial 11 with value: 0.0022441628445299985.\n",
            "[I 2025-05-04 00:35:53,364] Trial 29 finished with value: 0.002246321384126716 and parameters: {'alpha': 90.31237067318774}. Best is trial 11 with value: 0.0022441628445299985.\n",
            "[I 2025-05-04 00:35:53,389] Trial 28 finished with value: 0.0022460161648059575 and parameters: {'alpha': 91.6680140978354}. Best is trial 11 with value: 0.0022441628445299985.\n",
            "[I 2025-05-04 00:35:54,139] Trial 30 finished with value: 0.002247270400111159 and parameters: {'alpha': 86.12465012320204}. Best is trial 11 with value: 0.0022441628445299985.\n",
            "[I 2025-05-04 00:35:54,157] Trial 31 finished with value: 0.0022500652287814377 and parameters: {'alpha': 74.03651147608902}. Best is trial 11 with value: 0.0022441628445299985.\n",
            "[I 2025-05-04 00:35:54,790] Trial 33 finished with value: 0.0022442312566375595 and parameters: {'alpha': 99.68044836901002}. Best is trial 11 with value: 0.0022441628445299985.\n",
            "[I 2025-05-04 00:35:54,800] Trial 32 finished with value: 0.002244377674525963 and parameters: {'alpha': 99.01777885785606}. Best is trial 11 with value: 0.0022441628445299985.\n",
            "[I 2025-05-04 00:35:55,172] Trial 34 finished with value: 0.0022454212994768375 and parameters: {'alpha': 94.32234870516821}. Best is trial 11 with value: 0.0022441628445299985.\n",
            "[I 2025-05-04 00:35:55,178] Trial 35 finished with value: 0.0022450826107012446 and parameters: {'alpha': 95.84078068004186}. Best is trial 11 with value: 0.0022441628445299985.\n",
            "[I 2025-05-04 00:35:55,565] Trial 37 finished with value: 0.002246642253363932 and parameters: {'alpha': 88.8918250071024}. Best is trial 11 with value: 0.0022441628445299985.\n",
            "[I 2025-05-04 00:35:55,591] Trial 36 finished with value: 0.0022468226922662607 and parameters: {'alpha': 88.0950711952992}. Best is trial 11 with value: 0.0022441628445299985.\n",
            "[I 2025-05-04 00:35:55,988] Trial 39 finished with value: 0.0022450911762190782 and parameters: {'alpha': 95.80231525343368}. Best is trial 11 with value: 0.0022441628445299985.\n",
            "[I 2025-05-04 00:35:55,998] Trial 38 finished with value: 0.0022482492511198314 and parameters: {'alpha': 81.84907026747761}. Best is trial 11 with value: 0.0022441628445299985.\n",
            "[I 2025-05-04 00:35:56,718] Trial 40 finished with value: 0.0022573851627844055 and parameters: {'alpha': 44.46455412061614}. Best is trial 11 with value: 0.0022441628445299985.\n",
            "[I 2025-05-04 00:35:56,766] Trial 41 finished with value: 0.0022530094006211815 and parameters: {'alpha': 61.71687287223902}. Best is trial 11 with value: 0.0022441628445299985.\n",
            "[I 2025-05-04 00:35:57,115] Trial 42 finished with value: 0.00224459374378591 and parameters: {'alpha': 98.04162818784695}. Best is trial 11 with value: 0.0022441628445299985.\n",
            "[I 2025-05-04 00:35:57,138] Trial 43 finished with value: 0.0022445144556866178 and parameters: {'alpha': 98.39959042281077}. Best is trial 11 with value: 0.0022441628445299985.\n",
            "[I 2025-05-04 00:35:57,802] Trial 44 finished with value: 0.002244187159739287 and parameters: {'alpha': 99.88021319323303}. Best is trial 11 with value: 0.0022441628445299985.\n",
            "[I 2025-05-04 00:35:57,821] Trial 45 finished with value: 0.0022441871247563254 and parameters: {'alpha': 99.8803717053487}. Best is trial 11 with value: 0.0022441628445299985.\n",
            "[I 2025-05-04 00:35:58,150] Trial 47 finished with value: 0.00224530043131115 and parameters: {'alpha': 94.86363712203658}. Best is trial 11 with value: 0.0022441628445299985.\n",
            "[I 2025-05-04 00:35:58,171] Trial 46 finished with value: 0.0022453287308420913 and parameters: {'alpha': 94.73684293444727}. Best is trial 11 with value: 0.0022441628445299985.\n",
            "[I 2025-05-04 00:35:58,655] Trial 49 finished with value: 0.002246344971599406 and parameters: {'alpha': 90.20778365684437}. Best is trial 11 with value: 0.0022441628445299985.\n",
            "[I 2025-05-04 00:35:58,666] Trial 48 finished with value: 0.0022465726749519243 and parameters: {'alpha': 89.19945918047274}. Best is trial 11 with value: 0.0022441628445299985.\n",
            "[I 2025-05-04 00:35:58,869] Trial 51 finished with value: 0.0022479592969471655 and parameters: {'alpha': 83.1109114917677}. Best is trial 11 with value: 0.0022441628445299985.\n",
            "[I 2025-05-04 00:35:59,294] Trial 52 finished with value: 0.0022441861006158516 and parameters: {'alpha': 99.88501223097991}. Best is trial 11 with value: 0.0022441628445299985.\n",
            "[I 2025-05-04 00:35:59,295] Trial 50 finished with value: 0.0022478692901641414 and parameters: {'alpha': 83.50340964614485}. Best is trial 11 with value: 0.0022441628445299985.\n",
            "[I 2025-05-04 00:35:59,708] Trial 53 finished with value: 0.00224418480566905 and parameters: {'alpha': 99.89087988558941}. Best is trial 11 with value: 0.0022441628445299985.\n",
            "[I 2025-05-04 00:35:59,713] Trial 54 finished with value: 0.0022441933632415655 and parameters: {'alpha': 99.85210525544568}. Best is trial 11 with value: 0.0022441628445299985.\n",
            "[I 2025-05-04 00:36:00,093] Trial 55 finished with value: 0.002244920745659556 and parameters: {'alpha': 96.56829519867156}. Best is trial 11 with value: 0.0022441628445299985.\n",
            "[I 2025-05-04 00:36:00,101] Trial 56 finished with value: 0.002244932771980263 and parameters: {'alpha': 96.5142013775062}. Best is trial 11 with value: 0.0022441628445299985.\n",
            "[I 2025-05-04 00:36:00,629] Trial 57 finished with value: 0.002245789617469442 and parameters: {'alpha': 92.67698598433844}. Best is trial 11 with value: 0.0022441628445299985.\n",
            "[I 2025-05-04 00:36:00,632] Trial 58 finished with value: 0.0022458095854205494 and parameters: {'alpha': 92.58796083024296}. Best is trial 11 with value: 0.0022441628445299985.\n",
            "[I 2025-05-04 00:36:00,957] Trial 60 finished with value: 0.0022473277599909585 and parameters: {'alpha': 85.87287293018753}. Best is trial 11 with value: 0.0022441628445299985.\n",
            "[I 2025-05-04 00:36:00,963] Trial 59 finished with value: 0.0022442037579553 and parameters: {'alpha': 99.80501087680999}. Best is trial 11 with value: 0.0022441628445299985.\n",
            "[I 2025-05-04 00:36:01,439] Trial 61 finished with value: 0.0022447384708623196 and parameters: {'alpha': 97.38895585528597}. Best is trial 11 with value: 0.0022441628445299985.\n",
            "[I 2025-05-04 00:36:01,446] Trial 62 finished with value: 0.0022448800850709055 and parameters: {'alpha': 96.75123285675076}. Best is trial 11 with value: 0.0022441628445299985.\n",
            "[I 2025-05-04 00:36:01,990] Trial 64 finished with value: 0.0022456600055901655 and parameters: {'alpha': 93.2552892913886}. Best is trial 11 with value: 0.0022441628445299985.\n",
            "[I 2025-05-04 00:36:01,995] Trial 63 finished with value: 0.0022442194221982226 and parameters: {'alpha': 99.73405143421635}. Best is trial 11 with value: 0.0022441628445299985.\n",
            "[I 2025-05-04 00:36:02,497] Trial 66 finished with value: 0.002246161474125975 and parameters: {'alpha': 91.02208527395355}. Best is trial 11 with value: 0.0022441628445299985.\n",
            "[I 2025-05-04 00:36:02,524] Trial 65 finished with value: 0.0022470294444446306 and parameters: {'alpha': 87.18397492878114}. Best is trial 11 with value: 0.0022441628445299985.\n",
            "[I 2025-05-04 00:36:02,913] Trial 67 finished with value: 0.0022469136256318234 and parameters: {'alpha': 87.69411115727473}. Best is trial 11 with value: 0.0022441628445299985.\n",
            "[I 2025-05-04 00:36:02,945] Trial 68 finished with value: 0.0022455775139985814 and parameters: {'alpha': 93.62374892717644}. Best is trial 11 with value: 0.0022441628445299985.\n",
            "[I 2025-05-04 00:36:03,141] Trial 69 finished with value: 0.0022442059157324755 and parameters: {'alpha': 99.79523543734707}. Best is trial 11 with value: 0.0022441628445299985.\n",
            "[I 2025-05-04 00:36:03,240] Trial 70 finished with value: 0.0022442498437500197 and parameters: {'alpha': 99.59627228095525}. Best is trial 11 with value: 0.0022441628445299985.\n",
            "[I 2025-05-04 00:36:03,708] Trial 71 finished with value: 0.0022497587473997746 and parameters: {'alpha': 75.34402869000073}. Best is trial 11 with value: 0.0022441628445299985.\n",
            "[I 2025-05-04 00:36:03,744] Trial 72 finished with value: 0.0022447483717183943 and parameters: {'alpha': 97.34434058145729}. Best is trial 11 with value: 0.0022441628445299985.\n",
            "[I 2025-05-04 00:36:06,291] Trial 73 finished with value: 0.00224476962089256 and parameters: {'alpha': 97.24860235239132}. Best is trial 11 with value: 0.0022441628445299985.\n",
            "[I 2025-05-04 00:36:06,311] Trial 74 finished with value: 0.0022452125716669333 and parameters: {'alpha': 95.25751745740163}. Best is trial 11 with value: 0.0022441628445299985.\n",
            "[I 2025-05-04 00:36:07,289] Trial 76 finished with value: 0.0022460122959000136 and parameters: {'alpha': 91.68522534705689}. Best is trial 11 with value: 0.0022441628445299985.\n",
            "[I 2025-05-04 00:36:07,292] Trial 75 finished with value: 0.0022442089990675706 and parameters: {'alpha': 99.78126727754724}. Best is trial 11 with value: 0.0022441628445299985.\n",
            "[I 2025-05-04 00:36:07,729] Trial 78 finished with value: 0.0022451335506924576 and parameters: {'alpha': 95.6120716822129}. Best is trial 11 with value: 0.0022441628445299985.\n",
            "[I 2025-05-04 00:36:07,732] Trial 77 finished with value: 0.0022441624883497036 and parameters: {'alpha': 99.99201573335183}. Best is trial 77 with value: 0.0022441624883497036.\n",
            "[I 2025-05-04 00:36:08,016] Trial 80 finished with value: 0.0022522805747759614 and parameters: {'alpha': 64.72023569134942}. Best is trial 77 with value: 0.0022441624883497036.\n",
            "[I 2025-05-04 00:36:08,020] Trial 79 finished with value: 0.0022455309428060528 and parameters: {'alpha': 93.83190190926913}. Best is trial 77 with value: 0.0022441624883497036.\n",
            "[I 2025-05-04 00:36:08,463] Trial 82 finished with value: 0.0022444880331315437 and parameters: {'alpha': 98.51894302063707}. Best is trial 77 with value: 0.0022441624883497036.\n",
            "[I 2025-05-04 00:36:08,478] Trial 81 finished with value: 0.002244561727917358 and parameters: {'alpha': 98.18613639885919}. Best is trial 77 with value: 0.0022441624883497036.\n",
            "[I 2025-05-04 00:36:08,804] Trial 84 finished with value: 0.002244172810769384 and parameters: {'alpha': 99.94523465273258}. Best is trial 77 with value: 0.0022441624883497036.\n",
            "[I 2025-05-04 00:36:08,845] Trial 83 finished with value: 0.0022441761123881323 and parameters: {'alpha': 99.93027276040019}. Best is trial 77 with value: 0.0022441624883497036.\n",
            "[I 2025-05-04 00:36:09,484] Trial 85 finished with value: 0.0022449633619085604 and parameters: {'alpha': 96.37663870148937}. Best is trial 77 with value: 0.0022441624883497036.\n",
            "[I 2025-05-04 00:36:09,512] Trial 86 finished with value: 0.0022449956220773884 and parameters: {'alpha': 96.23161066703507}. Best is trial 77 with value: 0.0022441624883497036.\n",
            "[I 2025-05-04 00:36:09,844] Trial 87 finished with value: 0.002245386959251656 and parameters: {'alpha': 94.47606849086736}. Best is trial 77 with value: 0.0022441624883497036.\n",
            "[I 2025-05-04 00:36:09,850] Trial 88 finished with value: 0.002254548589381104 and parameters: {'alpha': 55.54070191699879}. Best is trial 77 with value: 0.0022441624883497036.\n",
            "[I 2025-05-04 00:36:10,214] Trial 89 finished with value: 0.002244612410647988 and parameters: {'alpha': 97.95739385137564}. Best is trial 77 with value: 0.0022441624883497036.\n",
            "[I 2025-05-04 00:36:10,222] Trial 90 finished with value: 0.0022463792364015357 and parameters: {'alpha': 90.05589876462244}. Best is trial 77 with value: 0.0022441624883497036.\n",
            "[I 2025-05-04 00:36:10,493] Trial 92 finished with value: 0.002244174365451942 and parameters: {'alpha': 99.93818926228074}. Best is trial 77 with value: 0.0022441624883497036.\n",
            "[I 2025-05-04 00:36:10,503] Trial 91 finished with value: 0.0022442151090645446 and parameters: {'alpha': 99.75358895265364}. Best is trial 77 with value: 0.0022441624883497036.\n",
            "[I 2025-05-04 00:36:10,789] Trial 93 finished with value: 0.002258253413372765 and parameters: {'alpha': 41.15387139433329}. Best is trial 77 with value: 0.0022441624883497036.\n",
            "[I 2025-05-04 00:36:10,793] Trial 94 finished with value: 0.002244682698603454 and parameters: {'alpha': 97.64035931402884}. Best is trial 77 with value: 0.0022441624883497036.\n",
            "[I 2025-05-04 00:36:11,159] Trial 96 finished with value: 0.002245351230213188 and parameters: {'alpha': 94.63606186503382}. Best is trial 77 with value: 0.0022441624883497036.\n",
            "[I 2025-05-04 00:36:11,163] Trial 95 finished with value: 0.002255783877987421 and parameters: {'alpha': 50.66854245749504}. Best is trial 77 with value: 0.0022441624883497036.\n",
            "[I 2025-05-04 00:36:11,505] Trial 97 finished with value: 0.0022458871959468323 and parameters: {'alpha': 92.24211450383287}. Best is trial 77 with value: 0.0022441624883497036.\n",
            "[I 2025-05-04 00:36:11,538] Trial 98 finished with value: 0.002245745940213232 and parameters: {'alpha': 92.87178007141628}. Best is trial 77 with value: 0.0022441624883497036.\n",
            "[I 2025-05-04 00:36:11,655] Trial 99 finished with value: 0.002244522180190823 and parameters: {'alpha': 98.36470418774115}. Best is trial 77 with value: 0.0022441624883497036.\n"
          ]
        }
      ],
      "source": [
        "# optimize\n",
        "\n",
        "study.optimize(func=tune_ridge, n_trials=100, n_jobs=-1, show_progress_bar=True)"
      ]
    },
    {
      "cell_type": "code",
      "execution_count": 112,
      "id": "d7d1a265-2f90-462f-b159-daaba980dfcf",
      "metadata": {
        "colab": {
          "base_uri": "https://localhost:8080/"
        },
        "id": "d7d1a265-2f90-462f-b159-daaba980dfcf",
        "outputId": "83c4b75d-875b-40e0-e270-4e77942ad331"
      },
      "outputs": [
        {
          "output_type": "execute_result",
          "data": {
            "text/plain": [
              "{'alpha': 99.99201573335183}"
            ]
          },
          "metadata": {},
          "execution_count": 112
        }
      ],
      "source": [
        "# best parameters\n",
        "\n",
        "study.best_params"
      ]
    },
    {
      "cell_type": "code",
      "execution_count": 113,
      "id": "13affecf-333a-4a82-bd94-c581c6b5a20b",
      "metadata": {
        "colab": {
          "base_uri": "https://localhost:8080/"
        },
        "id": "13affecf-333a-4a82-bd94-c581c6b5a20b",
        "outputId": "b0caf8ad-1867-40ea-84c8-6601dc1d20d1"
      },
      "outputs": [
        {
          "output_type": "execute_result",
          "data": {
            "text/plain": [
              "0.0022441624883497036"
            ]
          },
          "metadata": {},
          "execution_count": 113
        }
      ],
      "source": [
        "# best value\n",
        "\n",
        "study.best_value"
      ]
    },
    {
      "cell_type": "code",
      "execution_count": 113,
      "id": "91da86db-e689-49a5-a384-194be3b6dbf0",
      "metadata": {
        "id": "91da86db-e689-49a5-a384-194be3b6dbf0"
      },
      "outputs": [],
      "source": []
    }
  ],
  "metadata": {
    "kernelspec": {
      "display_name": "Python 3 (ipykernel)",
      "language": "python",
      "name": "python3"
    },
    "language_info": {
      "codemirror_mode": {
        "name": "ipython",
        "version": 3
      },
      "file_extension": ".py",
      "mimetype": "text/x-python",
      "name": "python",
      "nbconvert_exporter": "python",
      "pygments_lexer": "ipython3",
      "version": "3.12.8"
    },
    "colab": {
      "provenance": []
    },
    "widgets": {
      "application/vnd.jupyter.widget-state+json": {
        "66c25cbe0d2f4e0ca588158c0917d01d": {
          "model_module": "@jupyter-widgets/controls",
          "model_name": "HBoxModel",
          "model_module_version": "1.5.0",
          "state": {
            "_dom_classes": [],
            "_model_module": "@jupyter-widgets/controls",
            "_model_module_version": "1.5.0",
            "_model_name": "HBoxModel",
            "_view_count": null,
            "_view_module": "@jupyter-widgets/controls",
            "_view_module_version": "1.5.0",
            "_view_name": "HBoxView",
            "box_style": "",
            "children": [
              "IPY_MODEL_2c90ee38ec76429ca88ffabac0dfeb37",
              "IPY_MODEL_1ddb8e7dfb214565a002b57baa19c1b7",
              "IPY_MODEL_ff2d8df36dfa437c8664b924467d4a31"
            ],
            "layout": "IPY_MODEL_9ef37cb67701480299894ae0c2d8eed3"
          }
        },
        "2c90ee38ec76429ca88ffabac0dfeb37": {
          "model_module": "@jupyter-widgets/controls",
          "model_name": "HTMLModel",
          "model_module_version": "1.5.0",
          "state": {
            "_dom_classes": [],
            "_model_module": "@jupyter-widgets/controls",
            "_model_module_version": "1.5.0",
            "_model_name": "HTMLModel",
            "_view_count": null,
            "_view_module": "@jupyter-widgets/controls",
            "_view_module_version": "1.5.0",
            "_view_name": "HTMLView",
            "description": "",
            "description_tooltip": null,
            "layout": "IPY_MODEL_2d83f7d605114ccf908dca41b52af3c0",
            "placeholder": "​",
            "style": "IPY_MODEL_5ce3ac05989b44c4a5908a574cb06493",
            "value": "Best trial: 77. Best value: 0.00224416: 100%"
          }
        },
        "1ddb8e7dfb214565a002b57baa19c1b7": {
          "model_module": "@jupyter-widgets/controls",
          "model_name": "FloatProgressModel",
          "model_module_version": "1.5.0",
          "state": {
            "_dom_classes": [],
            "_model_module": "@jupyter-widgets/controls",
            "_model_module_version": "1.5.0",
            "_model_name": "FloatProgressModel",
            "_view_count": null,
            "_view_module": "@jupyter-widgets/controls",
            "_view_module_version": "1.5.0",
            "_view_name": "ProgressView",
            "bar_style": "success",
            "description": "",
            "description_tooltip": null,
            "layout": "IPY_MODEL_55ca4e4f5a4f4e52be7143f9ab2f4313",
            "max": 100,
            "min": 0,
            "orientation": "horizontal",
            "style": "IPY_MODEL_74c9fafb47ac4cee8c59261112ddcdc3",
            "value": 100
          }
        },
        "ff2d8df36dfa437c8664b924467d4a31": {
          "model_module": "@jupyter-widgets/controls",
          "model_name": "HTMLModel",
          "model_module_version": "1.5.0",
          "state": {
            "_dom_classes": [],
            "_model_module": "@jupyter-widgets/controls",
            "_model_module_version": "1.5.0",
            "_model_name": "HTMLModel",
            "_view_count": null,
            "_view_module": "@jupyter-widgets/controls",
            "_view_module_version": "1.5.0",
            "_view_name": "HTMLView",
            "description": "",
            "description_tooltip": null,
            "layout": "IPY_MODEL_767d11b95a18453d8099a8195d44b7e8",
            "placeholder": "​",
            "style": "IPY_MODEL_0d23800ffc1a446c927ea6205480ba27",
            "value": " 100/100 [00:26&lt;00:00,  6.63it/s]"
          }
        },
        "9ef37cb67701480299894ae0c2d8eed3": {
          "model_module": "@jupyter-widgets/base",
          "model_name": "LayoutModel",
          "model_module_version": "1.2.0",
          "state": {
            "_model_module": "@jupyter-widgets/base",
            "_model_module_version": "1.2.0",
            "_model_name": "LayoutModel",
            "_view_count": null,
            "_view_module": "@jupyter-widgets/base",
            "_view_module_version": "1.2.0",
            "_view_name": "LayoutView",
            "align_content": null,
            "align_items": null,
            "align_self": null,
            "border": null,
            "bottom": null,
            "display": null,
            "flex": null,
            "flex_flow": null,
            "grid_area": null,
            "grid_auto_columns": null,
            "grid_auto_flow": null,
            "grid_auto_rows": null,
            "grid_column": null,
            "grid_gap": null,
            "grid_row": null,
            "grid_template_areas": null,
            "grid_template_columns": null,
            "grid_template_rows": null,
            "height": null,
            "justify_content": null,
            "justify_items": null,
            "left": null,
            "margin": null,
            "max_height": null,
            "max_width": null,
            "min_height": null,
            "min_width": null,
            "object_fit": null,
            "object_position": null,
            "order": null,
            "overflow": null,
            "overflow_x": null,
            "overflow_y": null,
            "padding": null,
            "right": null,
            "top": null,
            "visibility": null,
            "width": null
          }
        },
        "2d83f7d605114ccf908dca41b52af3c0": {
          "model_module": "@jupyter-widgets/base",
          "model_name": "LayoutModel",
          "model_module_version": "1.2.0",
          "state": {
            "_model_module": "@jupyter-widgets/base",
            "_model_module_version": "1.2.0",
            "_model_name": "LayoutModel",
            "_view_count": null,
            "_view_module": "@jupyter-widgets/base",
            "_view_module_version": "1.2.0",
            "_view_name": "LayoutView",
            "align_content": null,
            "align_items": null,
            "align_self": null,
            "border": null,
            "bottom": null,
            "display": null,
            "flex": null,
            "flex_flow": null,
            "grid_area": null,
            "grid_auto_columns": null,
            "grid_auto_flow": null,
            "grid_auto_rows": null,
            "grid_column": null,
            "grid_gap": null,
            "grid_row": null,
            "grid_template_areas": null,
            "grid_template_columns": null,
            "grid_template_rows": null,
            "height": null,
            "justify_content": null,
            "justify_items": null,
            "left": null,
            "margin": null,
            "max_height": null,
            "max_width": null,
            "min_height": null,
            "min_width": null,
            "object_fit": null,
            "object_position": null,
            "order": null,
            "overflow": null,
            "overflow_x": null,
            "overflow_y": null,
            "padding": null,
            "right": null,
            "top": null,
            "visibility": null,
            "width": null
          }
        },
        "5ce3ac05989b44c4a5908a574cb06493": {
          "model_module": "@jupyter-widgets/controls",
          "model_name": "DescriptionStyleModel",
          "model_module_version": "1.5.0",
          "state": {
            "_model_module": "@jupyter-widgets/controls",
            "_model_module_version": "1.5.0",
            "_model_name": "DescriptionStyleModel",
            "_view_count": null,
            "_view_module": "@jupyter-widgets/base",
            "_view_module_version": "1.2.0",
            "_view_name": "StyleView",
            "description_width": ""
          }
        },
        "55ca4e4f5a4f4e52be7143f9ab2f4313": {
          "model_module": "@jupyter-widgets/base",
          "model_name": "LayoutModel",
          "model_module_version": "1.2.0",
          "state": {
            "_model_module": "@jupyter-widgets/base",
            "_model_module_version": "1.2.0",
            "_model_name": "LayoutModel",
            "_view_count": null,
            "_view_module": "@jupyter-widgets/base",
            "_view_module_version": "1.2.0",
            "_view_name": "LayoutView",
            "align_content": null,
            "align_items": null,
            "align_self": null,
            "border": null,
            "bottom": null,
            "display": null,
            "flex": null,
            "flex_flow": null,
            "grid_area": null,
            "grid_auto_columns": null,
            "grid_auto_flow": null,
            "grid_auto_rows": null,
            "grid_column": null,
            "grid_gap": null,
            "grid_row": null,
            "grid_template_areas": null,
            "grid_template_columns": null,
            "grid_template_rows": null,
            "height": null,
            "justify_content": null,
            "justify_items": null,
            "left": null,
            "margin": null,
            "max_height": null,
            "max_width": null,
            "min_height": null,
            "min_width": null,
            "object_fit": null,
            "object_position": null,
            "order": null,
            "overflow": null,
            "overflow_x": null,
            "overflow_y": null,
            "padding": null,
            "right": null,
            "top": null,
            "visibility": null,
            "width": null
          }
        },
        "74c9fafb47ac4cee8c59261112ddcdc3": {
          "model_module": "@jupyter-widgets/controls",
          "model_name": "ProgressStyleModel",
          "model_module_version": "1.5.0",
          "state": {
            "_model_module": "@jupyter-widgets/controls",
            "_model_module_version": "1.5.0",
            "_model_name": "ProgressStyleModel",
            "_view_count": null,
            "_view_module": "@jupyter-widgets/base",
            "_view_module_version": "1.2.0",
            "_view_name": "StyleView",
            "bar_color": null,
            "description_width": ""
          }
        },
        "767d11b95a18453d8099a8195d44b7e8": {
          "model_module": "@jupyter-widgets/base",
          "model_name": "LayoutModel",
          "model_module_version": "1.2.0",
          "state": {
            "_model_module": "@jupyter-widgets/base",
            "_model_module_version": "1.2.0",
            "_model_name": "LayoutModel",
            "_view_count": null,
            "_view_module": "@jupyter-widgets/base",
            "_view_module_version": "1.2.0",
            "_view_name": "LayoutView",
            "align_content": null,
            "align_items": null,
            "align_self": null,
            "border": null,
            "bottom": null,
            "display": null,
            "flex": null,
            "flex_flow": null,
            "grid_area": null,
            "grid_auto_columns": null,
            "grid_auto_flow": null,
            "grid_auto_rows": null,
            "grid_column": null,
            "grid_gap": null,
            "grid_row": null,
            "grid_template_areas": null,
            "grid_template_columns": null,
            "grid_template_rows": null,
            "height": null,
            "justify_content": null,
            "justify_items": null,
            "left": null,
            "margin": null,
            "max_height": null,
            "max_width": null,
            "min_height": null,
            "min_width": null,
            "object_fit": null,
            "object_position": null,
            "order": null,
            "overflow": null,
            "overflow_x": null,
            "overflow_y": null,
            "padding": null,
            "right": null,
            "top": null,
            "visibility": null,
            "width": null
          }
        },
        "0d23800ffc1a446c927ea6205480ba27": {
          "model_module": "@jupyter-widgets/controls",
          "model_name": "DescriptionStyleModel",
          "model_module_version": "1.5.0",
          "state": {
            "_model_module": "@jupyter-widgets/controls",
            "_model_module_version": "1.5.0",
            "_model_name": "DescriptionStyleModel",
            "_view_count": null,
            "_view_module": "@jupyter-widgets/base",
            "_view_module_version": "1.2.0",
            "_view_name": "StyleView",
            "description_width": ""
          }
        }
      }
    }
  },
  "nbformat": 4,
  "nbformat_minor": 5
}