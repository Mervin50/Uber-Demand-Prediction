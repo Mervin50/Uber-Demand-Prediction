{
  "cells": [
    {
      "cell_type": "markdown",
      "id": "77b65094-4d53-4c8b-8f1c-73830065af51",
      "metadata": {
        "id": "77b65094-4d53-4c8b-8f1c-73830065af51"
      },
      "source": [
        "# Load the packages"
      ]
    },
    {
      "cell_type": "code",
      "execution_count": 27,
      "id": "f95b25ff-9fd4-4084-8851-3ec9ae5709eb",
      "metadata": {
        "id": "f95b25ff-9fd4-4084-8851-3ec9ae5709eb"
      },
      "outputs": [],
      "source": [
        "import pandas as pd\n",
        "import numpy as np\n",
        "import matplotlib.pyplot as plt\n",
        "import seaborn as sns\n",
        "import dask.dataframe as dd"
      ]
    },
    {
      "cell_type": "markdown",
      "id": "22d0702b-7bee-4ab0-91b0-1620ccc7d5aa",
      "metadata": {
        "id": "22d0702b-7bee-4ab0-91b0-1620ccc7d5aa"
      },
      "source": [
        "# Import the Data"
      ]
    },
    {
      "cell_type": "code",
      "execution_count": 28,
      "id": "df973386-fe47-4d53-95f6-229606a9938d",
      "metadata": {
        "id": "df973386-fe47-4d53-95f6-229606a9938d"
      },
      "outputs": [],
      "source": [
        "# paths for the three dfs\n",
        "\n",
        "df_jan_path = \"/content/yellow_tripdata_2016-01.csv\"\n",
        "df_feb_path = \"/content/yellow_tripdata_2016-02.csv\"\n",
        "df_mar_path = \"/content/yellow_tripdata_2016-03.csv\"\n",
        "\n",
        "# load the dataframes\n",
        "\n",
        "df_jan = dd.read_csv(df_jan_path, assume_missing=True, usecols= ['trip_distance', 'pickup_longitude',\n",
        "       'pickup_latitude','dropoff_longitude', 'dropoff_latitude', 'fare_amount'])\n",
        "df_feb = dd.read_csv(df_feb_path, assume_missing=True, usecols= ['trip_distance', 'pickup_longitude',\n",
        "       'pickup_latitude','dropoff_longitude', 'dropoff_latitude', 'fare_amount'])\n",
        "df_mar = dd.read_csv(df_mar_path, assume_missing=True, usecols= ['trip_distance', 'pickup_longitude',\n",
        "       'pickup_latitude','dropoff_longitude', 'dropoff_latitude', 'fare_amount'])"
      ]
    },
    {
      "cell_type": "code",
      "execution_count": 29,
      "id": "06686106-7067-4b28-8e97-dade2945f76d",
      "metadata": {
        "colab": {
          "base_uri": "https://localhost:8080/",
          "height": 178
        },
        "id": "06686106-7067-4b28-8e97-dade2945f76d",
        "outputId": "64a8809a-4708-453a-d535-7585c332658d"
      },
      "outputs": [
        {
          "output_type": "execute_result",
          "data": {
            "text/plain": [
              "Dask DataFrame Structure:\n",
              "              trip_distance pickup_longitude pickup_latitude dropoff_longitude dropoff_latitude fare_amount\n",
              "npartitions=1                                                                                              \n",
              "                    float64          float64         float64           float64          float64     float64\n",
              "                        ...              ...             ...               ...              ...         ...\n",
              "Dask Name: to_string_dtype, 2 expressions\n",
              "Expr=ArrowStringConversion(frame=FromMapProjectable(08f89b8))"
            ],
            "text/html": [
              "<div><strong>Dask DataFrame Structure:</strong></div>\n",
              "<table border=\"1\" class=\"dataframe\">\n",
              "  <thead>\n",
              "    <tr style=\"text-align: right;\">\n",
              "      <th></th>\n",
              "      <th>trip_distance</th>\n",
              "      <th>pickup_longitude</th>\n",
              "      <th>pickup_latitude</th>\n",
              "      <th>dropoff_longitude</th>\n",
              "      <th>dropoff_latitude</th>\n",
              "      <th>fare_amount</th>\n",
              "    </tr>\n",
              "    <tr>\n",
              "      <th>npartitions=1</th>\n",
              "      <th></th>\n",
              "      <th></th>\n",
              "      <th></th>\n",
              "      <th></th>\n",
              "      <th></th>\n",
              "      <th></th>\n",
              "    </tr>\n",
              "  </thead>\n",
              "  <tbody>\n",
              "    <tr>\n",
              "      <th></th>\n",
              "      <td>float64</td>\n",
              "      <td>float64</td>\n",
              "      <td>float64</td>\n",
              "      <td>float64</td>\n",
              "      <td>float64</td>\n",
              "      <td>float64</td>\n",
              "    </tr>\n",
              "    <tr>\n",
              "      <th></th>\n",
              "      <td>...</td>\n",
              "      <td>...</td>\n",
              "      <td>...</td>\n",
              "      <td>...</td>\n",
              "      <td>...</td>\n",
              "      <td>...</td>\n",
              "    </tr>\n",
              "  </tbody>\n",
              "</table>\n",
              "<div>Dask Name: to_string_dtype, 2 expressions</div>"
            ]
          },
          "metadata": {},
          "execution_count": 29
        }
      ],
      "source": [
        "df_jan"
      ]
    },
    {
      "cell_type": "code",
      "execution_count": 30,
      "id": "24ffba8c-ba00-4d7d-a346-fd7c21ae39c2",
      "metadata": {
        "id": "24ffba8c-ba00-4d7d-a346-fd7c21ae39c2"
      },
      "outputs": [],
      "source": [
        "# concat the three dataframes as one\n",
        "\n",
        "df_final = dd.concat([df_jan, df_feb, df_mar], axis=0)"
      ]
    },
    {
      "cell_type": "markdown",
      "id": "ef3e25c8-6c2c-4631-8ade-4f79f6076277",
      "metadata": {
        "id": "ef3e25c8-6c2c-4631-8ade-4f79f6076277"
      },
      "source": [
        "### New york bounding box:\n",
        "min_latitude = 40.60  \n",
        "max_latitude = 40.85  \n",
        "min_longitude = -74.05  \n",
        "max_longitude = -73.70  "
      ]
    },
    {
      "cell_type": "code",
      "execution_count": 31,
      "id": "b91b7d9b-bd20-4af9-9172-4d7384b964bc",
      "metadata": {
        "id": "b91b7d9b-bd20-4af9-9172-4d7384b964bc"
      },
      "outputs": [],
      "source": [
        "# set the values of coordinates\n",
        "\n",
        "min_latitude = 40.60\n",
        "max_latitude = 40.85\n",
        "min_longitude = -74.05\n",
        "max_longitude = -73.70"
      ]
    },
    {
      "cell_type": "code",
      "execution_count": 32,
      "id": "11e61277-daf9-4f3b-b823-1c084a2a7d9a",
      "metadata": {
        "id": "11e61277-daf9-4f3b-b823-1c084a2a7d9a"
      },
      "outputs": [],
      "source": [
        "# fare amount column\n",
        "fare_amount = df_final[\"fare_amount\"].compute()\n",
        "\n",
        "# trip distance column\n",
        "trip_distance = df_final[\"trip_distance\"].compute()"
      ]
    },
    {
      "cell_type": "code",
      "execution_count": 33,
      "id": "5adb7965-38b4-4b67-9dc1-d96bfc710752",
      "metadata": {
        "colab": {
          "base_uri": "https://localhost:8080/"
        },
        "id": "5adb7965-38b4-4b67-9dc1-d96bfc710752",
        "outputId": "2daa4a42-b3d9-47ed-d4c8-38b57f5b6339"
      },
      "outputs": [
        {
          "output_type": "execute_result",
          "data": {
            "text/plain": [
              "0.0628273"
            ]
          },
          "metadata": {},
          "execution_count": 33
        }
      ],
      "source": [
        "fare_amount.shape[0] / 10000000"
      ]
    },
    {
      "cell_type": "code",
      "execution_count": 34,
      "id": "436981aa-cb72-4911-8339-3e938e961a78",
      "metadata": {
        "colab": {
          "base_uri": "https://localhost:8080/",
          "height": 398
        },
        "id": "436981aa-cb72-4911-8339-3e938e961a78",
        "outputId": "23cd6599-7b98-475b-ab3b-cd5c5bee87b8"
      },
      "outputs": [
        {
          "output_type": "execute_result",
          "data": {
            "text/plain": [
              "0.991      52.0\n",
              "0.992      52.0\n",
              "0.993      52.0\n",
              "0.994      53.5\n",
              "0.995      57.0\n",
              "0.996      61.0\n",
              "0.997      65.5\n",
              "0.998      71.0\n",
              "0.999      89.0\n",
              "1.000    1442.0\n",
              "Name: fare_amount, dtype: float64"
            ],
            "text/html": [
              "<div>\n",
              "<style scoped>\n",
              "    .dataframe tbody tr th:only-of-type {\n",
              "        vertical-align: middle;\n",
              "    }\n",
              "\n",
              "    .dataframe tbody tr th {\n",
              "        vertical-align: top;\n",
              "    }\n",
              "\n",
              "    .dataframe thead th {\n",
              "        text-align: right;\n",
              "    }\n",
              "</style>\n",
              "<table border=\"1\" class=\"dataframe\">\n",
              "  <thead>\n",
              "    <tr style=\"text-align: right;\">\n",
              "      <th></th>\n",
              "      <th>fare_amount</th>\n",
              "    </tr>\n",
              "  </thead>\n",
              "  <tbody>\n",
              "    <tr>\n",
              "      <th>0.991</th>\n",
              "      <td>52.0</td>\n",
              "    </tr>\n",
              "    <tr>\n",
              "      <th>0.992</th>\n",
              "      <td>52.0</td>\n",
              "    </tr>\n",
              "    <tr>\n",
              "      <th>0.993</th>\n",
              "      <td>52.0</td>\n",
              "    </tr>\n",
              "    <tr>\n",
              "      <th>0.994</th>\n",
              "      <td>53.5</td>\n",
              "    </tr>\n",
              "    <tr>\n",
              "      <th>0.995</th>\n",
              "      <td>57.0</td>\n",
              "    </tr>\n",
              "    <tr>\n",
              "      <th>0.996</th>\n",
              "      <td>61.0</td>\n",
              "    </tr>\n",
              "    <tr>\n",
              "      <th>0.997</th>\n",
              "      <td>65.5</td>\n",
              "    </tr>\n",
              "    <tr>\n",
              "      <th>0.998</th>\n",
              "      <td>71.0</td>\n",
              "    </tr>\n",
              "    <tr>\n",
              "      <th>0.999</th>\n",
              "      <td>89.0</td>\n",
              "    </tr>\n",
              "    <tr>\n",
              "      <th>1.000</th>\n",
              "      <td>1442.0</td>\n",
              "    </tr>\n",
              "  </tbody>\n",
              "</table>\n",
              "</div><br><label><b>dtype:</b> float64</label>"
            ]
          },
          "metadata": {},
          "execution_count": 34
        }
      ],
      "source": [
        "# percentile values for fare amount\n",
        "\n",
        "percentile_values = np.arange(0.991,1.000, 0.001)\n",
        "percentile_values\n",
        "\n",
        "fare_amount.quantile(percentile_values)"
      ]
    },
    {
      "cell_type": "code",
      "execution_count": 35,
      "id": "e9f5df7e-5711-4947-a530-ec447cb39440",
      "metadata": {
        "colab": {
          "base_uri": "https://localhost:8080/"
        },
        "id": "e9f5df7e-5711-4947-a530-ec447cb39440",
        "outputId": "fe66f520-3d52-4876-88e4-422cc090434d"
      },
      "outputs": [
        {
          "output_type": "stream",
          "name": "stdout",
          "text": [
            "0.5\n",
            "89.0\n"
          ]
        }
      ],
      "source": [
        "max_fare_amount_val = fare_amount.quantile(percentile_values).iloc[-2].item()\n",
        "min_fare_amount_val = 0.50\n",
        "\n",
        "print(min_fare_amount_val)\n",
        "print(max_fare_amount_val)"
      ]
    },
    {
      "cell_type": "code",
      "execution_count": 36,
      "id": "507984a2-f827-4c09-91b4-466d3efba16a",
      "metadata": {
        "colab": {
          "base_uri": "https://localhost:8080/",
          "height": 398
        },
        "id": "507984a2-f827-4c09-91b4-466d3efba16a",
        "outputId": "0f63fc58-4b57-4846-d134-3240ee951c82"
      },
      "outputs": [
        {
          "output_type": "execute_result",
          "data": {
            "text/plain": [
              "0.991     18.58\n",
              "0.992     18.80\n",
              "0.993     19.10\n",
              "0.994     19.48\n",
              "0.995     19.90\n",
              "0.996     20.40\n",
              "0.997     21.00\n",
              "0.998     21.80\n",
              "0.999     24.60\n",
              "1.000    184.40\n",
              "Name: trip_distance, dtype: float64"
            ],
            "text/html": [
              "<div>\n",
              "<style scoped>\n",
              "    .dataframe tbody tr th:only-of-type {\n",
              "        vertical-align: middle;\n",
              "    }\n",
              "\n",
              "    .dataframe tbody tr th {\n",
              "        vertical-align: top;\n",
              "    }\n",
              "\n",
              "    .dataframe thead th {\n",
              "        text-align: right;\n",
              "    }\n",
              "</style>\n",
              "<table border=\"1\" class=\"dataframe\">\n",
              "  <thead>\n",
              "    <tr style=\"text-align: right;\">\n",
              "      <th></th>\n",
              "      <th>trip_distance</th>\n",
              "    </tr>\n",
              "  </thead>\n",
              "  <tbody>\n",
              "    <tr>\n",
              "      <th>0.991</th>\n",
              "      <td>18.58</td>\n",
              "    </tr>\n",
              "    <tr>\n",
              "      <th>0.992</th>\n",
              "      <td>18.80</td>\n",
              "    </tr>\n",
              "    <tr>\n",
              "      <th>0.993</th>\n",
              "      <td>19.10</td>\n",
              "    </tr>\n",
              "    <tr>\n",
              "      <th>0.994</th>\n",
              "      <td>19.48</td>\n",
              "    </tr>\n",
              "    <tr>\n",
              "      <th>0.995</th>\n",
              "      <td>19.90</td>\n",
              "    </tr>\n",
              "    <tr>\n",
              "      <th>0.996</th>\n",
              "      <td>20.40</td>\n",
              "    </tr>\n",
              "    <tr>\n",
              "      <th>0.997</th>\n",
              "      <td>21.00</td>\n",
              "    </tr>\n",
              "    <tr>\n",
              "      <th>0.998</th>\n",
              "      <td>21.80</td>\n",
              "    </tr>\n",
              "    <tr>\n",
              "      <th>0.999</th>\n",
              "      <td>24.60</td>\n",
              "    </tr>\n",
              "    <tr>\n",
              "      <th>1.000</th>\n",
              "      <td>184.40</td>\n",
              "    </tr>\n",
              "  </tbody>\n",
              "</table>\n",
              "</div><br><label><b>dtype:</b> float64</label>"
            ]
          },
          "metadata": {},
          "execution_count": 36
        }
      ],
      "source": [
        "trip_distance.quantile(percentile_values)"
      ]
    },
    {
      "cell_type": "code",
      "execution_count": 37,
      "id": "65612e2d-a8bd-44fb-a4cd-7725f82ccbb4",
      "metadata": {
        "colab": {
          "base_uri": "https://localhost:8080/"
        },
        "id": "65612e2d-a8bd-44fb-a4cd-7725f82ccbb4",
        "outputId": "98a29ceb-1d7b-4686-88d9-28a07ef85c3f"
      },
      "outputs": [
        {
          "output_type": "stream",
          "name": "stdout",
          "text": [
            "0.25\n",
            "24.6\n"
          ]
        }
      ],
      "source": [
        "# percentile values for trip_distance\n",
        "\n",
        "min_trip_distance_val = 0.25\n",
        "max_trip_distance_val = trip_distance.quantile(percentile_values).iloc[-2].item()\n",
        "\n",
        "print(min_trip_distance_val)\n",
        "print(max_trip_distance_val)"
      ]
    },
    {
      "cell_type": "markdown",
      "id": "8212f646-0220-45c8-9729-674c87c7571f",
      "metadata": {
        "id": "8212f646-0220-45c8-9729-674c87c7571f"
      },
      "source": [
        "# Remove Outliers from the Data"
      ]
    },
    {
      "cell_type": "code",
      "execution_count": 38,
      "id": "5b4e00f8-2153-4bc9-9504-51e3ca344c5e",
      "metadata": {
        "id": "5b4e00f8-2153-4bc9-9504-51e3ca344c5e"
      },
      "outputs": [],
      "source": [
        "# select data points within the given ranges\n",
        "\n",
        "df_final = df_final.loc[(df_final[\"pickup_latitude\"].between(min_latitude, max_latitude, inclusive=\"both\")) &\n",
        "(df_final[\"pickup_longitude\"].between(min_longitude, max_longitude, inclusive=\"both\")) &\n",
        "(df_final[\"dropoff_latitude\"].between(min_latitude, max_latitude, inclusive=\"both\")) &\n",
        "(df_final[\"dropoff_longitude\"].between(min_longitude, max_longitude, inclusive=\"both\")), :]"
      ]
    },
    {
      "cell_type": "code",
      "execution_count": 39,
      "id": "785e696c-839c-4738-b61b-00d1f7f59884",
      "metadata": {
        "id": "785e696c-839c-4738-b61b-00d1f7f59884"
      },
      "outputs": [],
      "source": [
        "df_final = df_final.loc[(df_final[\"fare_amount\"].between(min_fare_amount_val,max_fare_amount_val,inclusive=\"both\")) &\n",
        "(df_final[\"trip_distance\"].between(min_trip_distance_val,max_trip_distance_val,inclusive=\"both\"))]"
      ]
    },
    {
      "cell_type": "markdown",
      "id": "e7cdeea2-32d8-46d6-9e3e-07f8365f077d",
      "metadata": {
        "id": "e7cdeea2-32d8-46d6-9e3e-07f8365f077d"
      },
      "source": [
        "## Location Based Columns"
      ]
    },
    {
      "cell_type": "code",
      "execution_count": 40,
      "id": "cb3cae4b-3fcc-4b9a-905b-7e3f340e04fa",
      "metadata": {
        "colab": {
          "base_uri": "https://localhost:8080/",
          "height": 241
        },
        "id": "cb3cae4b-3fcc-4b9a-905b-7e3f340e04fa",
        "outputId": "26c209a9-965f-447a-a906-151a0b5a0ecc"
      },
      "outputs": [
        {
          "output_type": "execute_result",
          "data": {
            "text/plain": [
              "Dask DataFrame Structure:\n",
              "              pickup_latitude pickup_longitude dropoff_latitude dropoff_longitude\n",
              "npartitions=3                                                                    \n",
              "                      float64          float64          float64           float64\n",
              "                          ...              ...              ...               ...\n",
              "                          ...              ...              ...               ...\n",
              "                          ...              ...              ...               ...\n",
              "Dask Name: getitem, 27 expressions\n",
              "Expr=(Loc(frame=Loc(frame=(Concat(frames=[ArrowStringConversion(frame=FromMapProjectable(08f89b8)), ArrowStringConversion(frame=FromMapProjectable(38701cb)), ArrowStringConversion(frame=FromMapProjectable(be1d24e))], ))[['trip_distance', 'pickup_longitude', 'pickup_latitude', 'dropoff_longitude', 'dropoff_latitude', 'fare_amount']], iindexer=Between(frame=(Concat(frames=[ArrowStringConversion(frame=FromMapProjectable(08f89b8)), ArrowStringConversion(frame=FromMapProjectable(38701cb)), ArrowStringConversion(frame=FromMapProjectable(be1d24e))], ))['pickup_latitude'], left=40.6, right=40.85) & Between(frame=(Concat(frames=[ArrowStringConversion(frame=FromMapProjectable(08f89b8)), ArrowStringConversion(frame=FromMapProjectable(38701cb)), ArrowStringConversion(frame=FromMapProjectable(be1d24e))], ))['pickup_longitude'], left=-74.05, right=-73.7) & Between(frame=(Concat(frames=[ArrowStringConversion(frame=FromMapProjectable(08f89b8)), ArrowStringConversion(frame=FromMapProjectable(38701cb)), ArrowStringConversion(frame=FromMapProjectable(be1d24e))], ))['dropoff_latitude'], left=40.6, right=40.85) & Between(frame=(Concat(frames=[ArrowStringConversion(frame=FromMapProjectable(08f89b8)), ArrowStringConversion(frame=FromMapProjectable(38701cb)), ArrowStringConversion(frame=FromMapProjectable(be1d24e))], ))['dropoff_longitude'], left=-74.05, right=-73.7)), iindexer=Between(frame=(Loc(frame=(Concat(frames=[ArrowStringConversion(frame=FromMapProjectable(08f89b8)), ArrowStringConversion(frame=FromMapProjectable(38701cb)), ArrowStringConversion(frame=FromMapProjectable(be1d24e))], ))[['trip_distance', 'pickup_longitude', 'pickup_latitude', 'dropoff_longitude', 'dropoff_latitude', 'fare_amount']], iindexer=Between(frame=(Concat(frames=[ArrowStringConversion(frame=FromMapProjectable(08f89b8)), ArrowStringConversion(frame=FromMapProjectable(38701cb)), ArrowStringConversion(frame=FromMapProjectable(be1d24e))], ))['pickup_latitude'], left=40.6, right=40.85) & Between(frame=(Concat(frames=[ArrowStringConversion(frame=FromMapProjectable(08f89b8)), ArrowStringConversion(frame=FromMapProjectable(38701cb)), ArrowStringConversion(frame=FromMapProjectable(be1d24e))], ))['pickup_longitude'], left=-74.05, right=-73.7) & Between(frame=(Concat(frames=[ArrowStringConversion(frame=FromMapProjectable(08f89b8)), ArrowStringConversion(frame=FromMapProjectable(38701cb)), ArrowStringConversion(frame=FromMapProjectable(be1d24e))], ))['dropoff_latitude'], left=40.6, right=40.85) & Between(frame=(Concat(frames=[ArrowStringConversion(frame=FromMapProjectable(08f89b8)), ArrowStringConversion(frame=FromMapProjectable(38701cb)), ArrowStringConversion(frame=FromMapProjectable(be1d24e))], ))['dropoff_longitude'], left=-74.05, right=-73.7)))['fare_amount'], left=0.5, right=89.0) & Between(frame=(Loc(frame=(Concat(frames=[ArrowStringConversion(frame=FromMapProjectable(08f89b8)), ArrowStringConversion(frame=FromMapProjectable(38701cb)), ArrowStringConversion(frame=FromMapProjectable(be1d24e))], ))[['trip_distance', 'pickup_longitude', 'pickup_latitude', 'dropoff_longitude', 'dropoff_latitude', 'fare_amount']], iindexer=Between(frame=(Concat(frames=[ArrowStringConversion(frame=FromMapProjectable(08f89b8)), ArrowStringConversion(frame=FromMapProjectable(38701cb)), ArrowStringConversion(frame=FromMapProjectable(be1d24e))], ))['pickup_latitude'], left=40.6, right=40.85) & Between(frame=(Concat(frames=[ArrowStringConversion(frame=FromMapProjectable(08f89b8)), ArrowStringConversion(frame=FromMapProjectable(38701cb)), ArrowStringConversion(frame=FromMapProjectable(be1d24e))], ))['pickup_longitude'], left=-74.05, right=-73.7) & Between(frame=(Concat(frames=[ArrowStringConversion(frame=FromMapProjectable(08f89b8)), ArrowStringConversion(frame=FromMapProjectable(38701cb)), ArrowStringConversion(frame=FromMapProjectable(be1d24e))], ))['dropoff_latitude'], left=40.6, right=40.85) & Between(frame=(Concat(frames=[ArrowStringConversion(frame=FromMapProjectable(08f89b8)), ArrowStringConversion(frame=FromMapProjectable(38701cb)), ArrowStringConversion(frame=FromMapProjectable(be1d24e))], ))['dropoff_longitude'], left=-74.05, right=-73.7)))['trip_distance'], left=0.25, right=24.6)))[['pickup_latitude', 'pickup_longitude', 'dropoff_latitude', 'dropoff_longitude']]"
            ],
            "text/html": [
              "<div><strong>Dask DataFrame Structure:</strong></div>\n",
              "<table border=\"1\" class=\"dataframe\">\n",
              "  <thead>\n",
              "    <tr style=\"text-align: right;\">\n",
              "      <th></th>\n",
              "      <th>pickup_latitude</th>\n",
              "      <th>pickup_longitude</th>\n",
              "      <th>dropoff_latitude</th>\n",
              "      <th>dropoff_longitude</th>\n",
              "    </tr>\n",
              "    <tr>\n",
              "      <th>npartitions=3</th>\n",
              "      <th></th>\n",
              "      <th></th>\n",
              "      <th></th>\n",
              "      <th></th>\n",
              "    </tr>\n",
              "  </thead>\n",
              "  <tbody>\n",
              "    <tr>\n",
              "      <th></th>\n",
              "      <td>float64</td>\n",
              "      <td>float64</td>\n",
              "      <td>float64</td>\n",
              "      <td>float64</td>\n",
              "    </tr>\n",
              "    <tr>\n",
              "      <th></th>\n",
              "      <td>...</td>\n",
              "      <td>...</td>\n",
              "      <td>...</td>\n",
              "      <td>...</td>\n",
              "    </tr>\n",
              "    <tr>\n",
              "      <th></th>\n",
              "      <td>...</td>\n",
              "      <td>...</td>\n",
              "      <td>...</td>\n",
              "      <td>...</td>\n",
              "    </tr>\n",
              "    <tr>\n",
              "      <th></th>\n",
              "      <td>...</td>\n",
              "      <td>...</td>\n",
              "      <td>...</td>\n",
              "      <td>...</td>\n",
              "    </tr>\n",
              "  </tbody>\n",
              "</table>\n",
              "<div>Dask Name: getitem, 27 expressions</div>"
            ]
          },
          "metadata": {},
          "execution_count": 40
        }
      ],
      "source": [
        "# make a subset of location based columns\n",
        "\n",
        "location_subset = df_final[['pickup_latitude','pickup_longitude',\n",
        "                           'dropoff_latitude','dropoff_longitude']]\n",
        "\n",
        "location_subset"
      ]
    },
    {
      "cell_type": "code",
      "execution_count": 41,
      "id": "e1339cec-cddc-4723-94e4-9a9c707a3576",
      "metadata": {
        "colab": {
          "base_uri": "https://localhost:8080/",
          "height": 431
        },
        "id": "e1339cec-cddc-4723-94e4-9a9c707a3576",
        "outputId": "20ddc36a-7762-446e-f1c6-715d79b909ad"
      },
      "outputs": [
        {
          "output_type": "display_data",
          "data": {
            "text/plain": [
              "<Figure size 1200x500 with 4 Axes>"
            ],
            "image/png": "[encoded data removed]"
          },
          "metadata": {}
        }
      ],
      "source": [
        "# boxplots for location based columns\n",
        "\n",
        "fig, (ax1, ax2) = plt.subplots(nrows=2, ncols=2, figsize=(12,5))\n",
        "for i in range(4):\n",
        "    if i <= 1:\n",
        "        # plot the boxplot\n",
        "        sns.boxplot(y=location_subset.iloc[:,i].compute(),ax=ax1[i],whis=3)\n",
        "    else:\n",
        "        # plot the boxplot\n",
        "        sns.boxplot(y=location_subset.iloc[:,i].compute(),ax=ax2[i - 2],whis=3)"
      ]
    },
    {
      "cell_type": "markdown",
      "id": "a73e7ca4-2a47-4ed5-9674-feaa547db9ed",
      "metadata": {
        "id": "a73e7ca4-2a47-4ed5-9674-feaa547db9ed"
      },
      "source": [
        "## Trip Distance"
      ]
    },
    {
      "cell_type": "code",
      "execution_count": 42,
      "id": "f798ad64-e2c2-4590-89aa-91c52501f29e",
      "metadata": {
        "colab": {
          "base_uri": "https://localhost:8080/",
          "height": 428
        },
        "id": "f798ad64-e2c2-4590-89aa-91c52501f29e",
        "outputId": "de727255-1e5a-4f6c-b31f-9b0a2a9131c9"
      },
      "outputs": [
        {
          "output_type": "execute_result",
          "data": {
            "text/plain": [
              "<Axes: ylabel='trip_distance'>"
            ]
          },
          "metadata": {},
          "execution_count": 42
        },
        {
          "output_type": "display_data",
          "data": {
            "text/plain": [
              "<Figure size 640x480 with 1 Axes>"
            ],
            "image/png": "[encoded data removed]"
          },
          "metadata": {}
        }
      ],
      "source": [
        "# boxplot for the trip distance\n",
        "\n",
        "sns.boxplot(df_final.loc[:,\"trip_distance\"].compute(), whis=3)"
      ]
    },
    {
      "cell_type": "markdown",
      "id": "ec390480-7632-457a-b37f-5f1d139e7415",
      "metadata": {
        "id": "ec390480-7632-457a-b37f-5f1d139e7415"
      },
      "source": [
        "## Fare Amount"
      ]
    },
    {
      "cell_type": "code",
      "execution_count": 43,
      "id": "457ef694-0955-49a2-9177-5036f9b97aa3",
      "metadata": {
        "colab": {
          "base_uri": "https://localhost:8080/",
          "height": 428
        },
        "id": "457ef694-0955-49a2-9177-5036f9b97aa3",
        "outputId": "09252994-3465-449b-d6ec-704ad0da7185"
      },
      "outputs": [
        {
          "output_type": "execute_result",
          "data": {
            "text/plain": [
              "<Axes: ylabel='fare_amount'>"
            ]
          },
          "metadata": {},
          "execution_count": 43
        },
        {
          "output_type": "display_data",
          "data": {
            "text/plain": [
              "<Figure size 640x480 with 1 Axes>"
            ],
            "image/png": "[encoded data removed]"
          },
          "metadata": {}
        }
      ],
      "source": [
        "# boxplot for the fare amount\n",
        "\n",
        "sns.boxplot(df_final.loc[:,\"fare_amount\"].compute(), whis=3)"
      ]
    },
    {
      "cell_type": "code",
      "source": [
        "# Saving the dataframe directly to a CSV file in the current directory\n",
        "pickup_coord_dataset.to_csv(\"location_data.csv\", index=False)\n"
      ],
      "metadata": {
        "colab": {
          "base_uri": "https://localhost:8080/"
        },
        "id": "VnP33KvrD5T7",
        "outputId": "a0c5b16b-86f1-4d77-a4ac-40f3982f05d4"
      },
      "id": "VnP33KvrD5T7",
      "execution_count": 44,
      "outputs": [
        {
          "output_type": "execute_result",
          "data": {
            "text/plain": [
              "['/content/location_data.csv/0.part',\n",
              " '/content/location_data.csv/1.part',\n",
              " '/content/location_data.csv/2.part']"
            ]
          },
          "metadata": {},
          "execution_count": 44
        }
      ]
    },
    {
      "cell_type": "code",
      "execution_count": 45,
      "id": "ec598bd6-2cf1-407a-b3a3-194e9b88c76e",
      "metadata": {
        "colab": {
          "base_uri": "https://localhost:8080/",
          "height": 1000
        },
        "id": "ec598bd6-2cf1-407a-b3a3-194e9b88c76e",
        "outputId": "7f12b906-92dd-42b0-9a56-1fb467888dba"
      },
      "outputs": [
        {
          "output_type": "execute_result",
          "data": {
            "image/svg+xml": "<?xml version=\"1.0\" encoding=\"UTF-8\" standalone=\"no\"?>\n<!DOCTYPE svg PUBLIC \"-//W3C//DTD SVG 1.1//EN\"\n \"http://www.w3.org/Graphics/SVG/1.1/DTD/svg11.dtd\">\n<!-- Generated by graphviz version 2.43.0 (0)\n -->\n<!-- Title: %3 Pages: 1 -->\n<svg width=\"2012pt\" height=\"980pt\"\n viewBox=\"0.00 0.00 2012.00 980.00\" xmlns=\"http://www.w3.org/2000/svg\" xmlns:xlink=\"http://www.w3.org/1999/xlink\">\n<g id=\"graph0\" class=\"graph\" transform=\"scale(1 1) rotate(0) translate(4 976)\">\n<title>%3</title>\n<polygon fill=\"white\" stroke=\"transparent\" points=\"-4,4 -4,-976 2008,-976 2008,4 -4,4\"/>\n<!-- 4207345084776790607 -->\n<g id=\"node1\" class=\"node\">\n<title>4207345084776790607</title>\n<polygon fill=\"none\" stroke=\"black\" points=\"850,-972 368,-972 368,-936 850,-936 850,-972\"/>\n<text text-anchor=\"middle\" x=\"609\" y=\"-949\" font-family=\"Helvetica,sans-Serif\" font-size=\"20.00\">Projection(Loc, [&#39;pickup_latitude&#39;, &#39;pickup_longitude&#39;])</text>\n</g>\n<!-- 6116769288817267764 -->\n<g id=\"node2\" class=\"node\">\n<title>6116769288817267764</title>\n<polygon fill=\"none\" stroke=\"black\" points=\"679,-900 539,-900 539,-864 679,-864 679,-900\"/>\n<text text-anchor=\"middle\" x=\"609\" y=\"-877\" font-family=\"Helvetica,sans-Serif\" font-size=\"20.00\">Loc(Loc, And)</text>\n</g>\n<!-- 6116769288817267764&#45;&gt;4207345084776790607 -->\n<g id=\"edge1\" class=\"edge\">\n<title>6116769288817267764&#45;&gt;4207345084776790607</title>\n<path fill=\"none\" stroke=\"black\" d=\"M609,-900.3C609,-908.02 609,-917.29 609,-925.89\"/>\n<polygon fill=\"black\" stroke=\"black\" points=\"605.5,-925.9 609,-935.9 612.5,-925.9 605.5,-925.9\"/>\n</g>\n<!-- 7055521407777098904 -->\n<g id=\"node3\" class=\"node\">\n<title>7055521407777098904</title>\n<polygon fill=\"none\" stroke=\"black\" points=\"808.5,-828 575.5,-828 575.5,-792 808.5,-792 808.5,-828\"/>\n<text text-anchor=\"middle\" x=\"692\" y=\"-805\" font-family=\"Helvetica,sans-Serif\" font-size=\"20.00\">And(Between, Between)</text>\n</g>\n<!-- 7055521407777098904&#45;&gt;6116769288817267764 -->\n<g id=\"edge2\" class=\"edge\">\n<title>7055521407777098904&#45;&gt;6116769288817267764</title>\n<path fill=\"none\" stroke=\"black\" d=\"M671.48,-828.3C661.13,-837.03 648.41,-847.76 637.16,-857.25\"/>\n<polygon fill=\"black\" stroke=\"black\" points=\"634.67,-854.77 629.28,-863.9 639.18,-860.12 634.67,-854.77\"/>\n</g>\n<!-- &#45;3999583456761885251 -->\n<g id=\"node4\" class=\"node\">\n<title>&#45;3999583456761885251</title>\n<polygon fill=\"none\" stroke=\"black\" points=\"790.5,-756 593.5,-756 593.5,-720 790.5,-720 790.5,-756\"/>\n<text text-anchor=\"middle\" x=\"692\" y=\"-733\" font-family=\"Helvetica,sans-Serif\" font-size=\"20.00\">Between(Projection)</text>\n</g>\n<!-- &#45;3999583456761885251&#45;&gt;7055521407777098904 -->\n<g id=\"edge5\" class=\"edge\">\n<title>&#45;3999583456761885251&#45;&gt;7055521407777098904</title>\n<path fill=\"none\" stroke=\"black\" d=\"M692,-756.3C692,-764.02 692,-773.29 692,-781.89\"/>\n<polygon fill=\"black\" stroke=\"black\" points=\"688.5,-781.9 692,-791.9 695.5,-781.9 688.5,-781.9\"/>\n</g>\n<!-- 9081404154234357153 -->\n<g id=\"node5\" class=\"node\">\n<title>9081404154234357153</title>\n<polygon fill=\"none\" stroke=\"black\" points=\"829.5,-684 554.5,-684 554.5,-648 829.5,-648 829.5,-684\"/>\n<text text-anchor=\"middle\" x=\"692\" y=\"-661\" font-family=\"Helvetica,sans-Serif\" font-size=\"20.00\">Projection(Loc, trip_distance)</text>\n</g>\n<!-- 9081404154234357153&#45;&gt;&#45;3999583456761885251 -->\n<g id=\"edge6\" class=\"edge\">\n<title>9081404154234357153&#45;&gt;&#45;3999583456761885251</title>\n<path fill=\"none\" stroke=\"black\" d=\"M692,-684.3C692,-692.02 692,-701.29 692,-709.89\"/>\n<polygon fill=\"black\" stroke=\"black\" points=\"688.5,-709.9 692,-719.9 695.5,-709.9 688.5,-709.9\"/>\n</g>\n<!-- &#45;8620532804962729575 -->\n<g id=\"node6\" class=\"node\">\n<title>&#45;8620532804962729575</title>\n<polygon fill=\"none\" stroke=\"black\" points=\"790.5,-612 593.5,-612 593.5,-576 790.5,-576 790.5,-612\"/>\n<text text-anchor=\"middle\" x=\"692\" y=\"-589\" font-family=\"Helvetica,sans-Serif\" font-size=\"20.00\">Loc(Projection, And)</text>\n</g>\n<!-- &#45;8620532804962729575&#45;&gt;6116769288817267764 -->\n<g id=\"edge3\" class=\"edge\">\n<title>&#45;8620532804962729575&#45;&gt;6116769288817267764</title>\n<path fill=\"none\" stroke=\"black\" d=\"M593.38,-611.89C574.39,-619.76 556.77,-631.24 545,-648 523.85,-678.11 510.79,-702.09 566,-828 570.47,-838.2 577.45,-848.05 584.5,-856.44\"/>\n<polygon fill=\"black\" stroke=\"black\" points=\"581.95,-858.83 591.2,-863.99 587.18,-854.19 581.95,-858.83\"/>\n</g>\n<!-- &#45;8620532804962729575&#45;&gt;9081404154234357153 -->\n<g id=\"edge7\" class=\"edge\">\n<title>&#45;8620532804962729575&#45;&gt;9081404154234357153</title>\n<path fill=\"none\" stroke=\"black\" d=\"M692,-612.3C692,-620.02 692,-629.29 692,-637.89\"/>\n<polygon fill=\"black\" stroke=\"black\" points=\"688.5,-637.9 692,-647.9 695.5,-637.9 688.5,-637.9\"/>\n</g>\n<!-- &#45;2660134930933115823 -->\n<g id=\"node27\" class=\"node\">\n<title>&#45;2660134930933115823</title>\n<polygon fill=\"none\" stroke=\"black\" points=\"1122.5,-684 847.5,-684 847.5,-648 1122.5,-648 1122.5,-684\"/>\n<text text-anchor=\"middle\" x=\"985\" y=\"-661\" font-family=\"Helvetica,sans-Serif\" font-size=\"20.00\">Projection(Loc, fare_amount)</text>\n</g>\n<!-- &#45;8620532804962729575&#45;&gt;&#45;2660134930933115823 -->\n<g id=\"edge32\" class=\"edge\">\n<title>&#45;8620532804962729575&#45;&gt;&#45;2660134930933115823</title>\n<path fill=\"none\" stroke=\"black\" d=\"M763.3,-612.03C805.74,-622.17 859.74,-635.07 903.81,-645.6\"/>\n<polygon fill=\"black\" stroke=\"black\" points=\"903.09,-649.03 913.63,-647.95 904.72,-642.22 903.09,-649.03\"/>\n</g>\n<!-- &#45;2079202843734985311 -->\n<g id=\"node7\" class=\"node\">\n<title>&#45;2079202843734985311</title>\n<polygon fill=\"none\" stroke=\"black\" points=\"725.5,-540 534.5,-540 534.5,-504 725.5,-504 725.5,-540\"/>\n<text text-anchor=\"middle\" x=\"630\" y=\"-517\" font-family=\"Helvetica,sans-Serif\" font-size=\"20.00\">And(And, Between)</text>\n</g>\n<!-- &#45;2079202843734985311&#45;&gt;&#45;8620532804962729575 -->\n<g id=\"edge8\" class=\"edge\">\n<title>&#45;2079202843734985311&#45;&gt;&#45;8620532804962729575</title>\n<path fill=\"none\" stroke=\"black\" d=\"M645.33,-540.3C652.76,-548.7 661.82,-558.93 669.98,-568.14\"/>\n<polygon fill=\"black\" stroke=\"black\" points=\"667.6,-570.73 676.85,-575.9 672.84,-566.09 667.6,-570.73\"/>\n</g>\n<!-- &#45;1001493312171001192 -->\n<g id=\"node8\" class=\"node\">\n<title>&#45;1001493312171001192</title>\n<polygon fill=\"none\" stroke=\"black\" points=\"479.5,-468 282.5,-468 282.5,-432 479.5,-432 479.5,-468\"/>\n<text text-anchor=\"middle\" x=\"381\" y=\"-445\" font-family=\"Helvetica,sans-Serif\" font-size=\"20.00\">Between(Projection)</text>\n</g>\n<!-- &#45;1001493312171001192&#45;&gt;&#45;2079202843734985311 -->\n<g id=\"edge11\" class=\"edge\">\n<title>&#45;1001493312171001192&#45;&gt;&#45;2079202843734985311</title>\n<path fill=\"none\" stroke=\"black\" d=\"M441.59,-468.03C477.14,-478.03 522.22,-490.7 559.38,-501.15\"/>\n<polygon fill=\"black\" stroke=\"black\" points=\"558.56,-504.55 569.13,-503.89 560.45,-497.81 558.56,-504.55\"/>\n</g>\n<!-- 816118195461259320 -->\n<g id=\"node9\" class=\"node\">\n<title>816118195461259320</title>\n<polygon fill=\"none\" stroke=\"black\" points=\"348,-252 0,-252 0,-216 348,-216 348,-252\"/>\n<text text-anchor=\"middle\" x=\"174\" y=\"-229\" font-family=\"Helvetica,sans-Serif\" font-size=\"20.00\">Projection(Concat, dropoff_longitude)</text>\n</g>\n<!-- 816118195461259320&#45;&gt;&#45;1001493312171001192 -->\n<g id=\"edge12\" class=\"edge\">\n<title>816118195461259320&#45;&gt;&#45;1001493312171001192</title>\n<path fill=\"none\" stroke=\"black\" d=\"M190.59,-252.15C227.15,-289.95 314.79,-380.55 357.2,-424.4\"/>\n<polygon fill=\"black\" stroke=\"black\" points=\"354.86,-427.01 364.33,-431.77 359.89,-422.15 354.86,-427.01\"/>\n</g>\n<!-- &#45;6375140953804674364 -->\n<g id=\"node10\" class=\"node\">\n<title>&#45;6375140953804674364</title>\n<polygon fill=\"none\" stroke=\"black\" points=\"1253.5,-180 522.5,-180 522.5,-144 1253.5,-144 1253.5,-180\"/>\n<text text-anchor=\"middle\" x=\"888\" y=\"-157\" font-family=\"Helvetica,sans-Serif\" font-size=\"20.00\">Concat(ArrowStringConversion, ArrowStringConversion, ArrowStringConversion)</text>\n</g>\n<!-- &#45;6375140953804674364&#45;&gt;816118195461259320 -->\n<g id=\"edge13\" class=\"edge\">\n<title>&#45;6375140953804674364&#45;&gt;816118195461259320</title>\n<path fill=\"none\" stroke=\"black\" d=\"M714.25,-180.03C606.27,-190.62 467.61,-204.21 357.8,-214.98\"/>\n<polygon fill=\"black\" stroke=\"black\" points=\"357.21,-211.52 347.6,-215.98 357.89,-218.49 357.21,-211.52\"/>\n</g>\n<!-- &#45;427630265869428854 -->\n<g id=\"node19\" class=\"node\">\n<title>&#45;427630265869428854</title>\n<polygon fill=\"none\" stroke=\"black\" points=\"697.5,-252 366.5,-252 366.5,-216 697.5,-216 697.5,-252\"/>\n<text text-anchor=\"middle\" x=\"532\" y=\"-229\" font-family=\"Helvetica,sans-Serif\" font-size=\"20.00\">Projection(Concat, dropoff_latitude)</text>\n</g>\n<!-- &#45;6375140953804674364&#45;&gt;&#45;427630265869428854 -->\n<g id=\"edge23\" class=\"edge\">\n<title>&#45;6375140953804674364&#45;&gt;&#45;427630265869428854</title>\n<path fill=\"none\" stroke=\"black\" d=\"M801.37,-180.03C749.15,-190.3 682.54,-203.4 628.63,-214\"/>\n<polygon fill=\"black\" stroke=\"black\" points=\"627.85,-210.59 618.71,-215.95 629.2,-217.45 627.85,-210.59\"/>\n</g>\n<!-- &#45;6420515070749762936 -->\n<g id=\"node22\" class=\"node\">\n<title>&#45;6420515070749762936</title>\n<polygon fill=\"none\" stroke=\"black\" points=\"1060,-252 716,-252 716,-216 1060,-216 1060,-252\"/>\n<text text-anchor=\"middle\" x=\"888\" y=\"-229\" font-family=\"Helvetica,sans-Serif\" font-size=\"20.00\">Projection(Concat, pickup_longitude)</text>\n</g>\n<!-- &#45;6375140953804674364&#45;&gt;&#45;6420515070749762936 -->\n<g id=\"edge27\" class=\"edge\">\n<title>&#45;6375140953804674364&#45;&gt;&#45;6420515070749762936</title>\n<path fill=\"none\" stroke=\"black\" d=\"M888,-180.3C888,-188.02 888,-197.29 888,-205.89\"/>\n<polygon fill=\"black\" stroke=\"black\" points=\"884.5,-205.9 888,-215.9 891.5,-205.9 884.5,-205.9\"/>\n</g>\n<!-- &#45;4756056280725299959 -->\n<g id=\"node24\" class=\"node\">\n<title>&#45;4756056280725299959</title>\n<polygon fill=\"none\" stroke=\"black\" points=\"1404,-252 1078,-252 1078,-216 1404,-216 1404,-252\"/>\n<text text-anchor=\"middle\" x=\"1241\" y=\"-229\" font-family=\"Helvetica,sans-Serif\" font-size=\"20.00\">Projection(Concat, pickup_latitude)</text>\n</g>\n<!-- &#45;6375140953804674364&#45;&gt;&#45;4756056280725299959 -->\n<g id=\"edge29\" class=\"edge\">\n<title>&#45;6375140953804674364&#45;&gt;&#45;4756056280725299959</title>\n<path fill=\"none\" stroke=\"black\" d=\"M973.9,-180.03C1025.68,-190.3 1091.73,-203.4 1145.19,-214\"/>\n<polygon fill=\"black\" stroke=\"black\" points=\"1144.53,-217.44 1155.02,-215.95 1145.89,-210.57 1144.53,-217.44\"/>\n</g>\n<!-- 8486113959324949196 -->\n<g id=\"node25\" class=\"node\">\n<title>8486113959324949196</title>\n<polygon fill=\"none\" stroke=\"black\" points=\"2004,-396 900,-396 900,-360 2004,-360 2004,-396\"/>\n<text text-anchor=\"middle\" x=\"1452\" y=\"-373\" font-family=\"Helvetica,sans-Serif\" font-size=\"20.00\">Projection(Concat, [&#39;trip_distance&#39;, &#39;pickup_longitude&#39;, &#39;pickup_latitude&#39;, &#39;dropoff_longitude&#39;, &#39;dropoff_latitude&#39;, &#39;fare_amount&#39;])</text>\n</g>\n<!-- &#45;6375140953804674364&#45;&gt;8486113959324949196 -->\n<g id=\"edge30\" class=\"edge\">\n<title>&#45;6375140953804674364&#45;&gt;8486113959324949196</title>\n<path fill=\"none\" stroke=\"black\" d=\"M1200.84,-180.01C1302.86,-188.39 1394.83,-200.16 1413,-216 1451.22,-249.31 1455.29,-313.08 1454.13,-349.57\"/>\n<polygon fill=\"black\" stroke=\"black\" points=\"1450.61,-349.8 1453.63,-359.95 1457.61,-350.13 1450.61,-349.8\"/>\n</g>\n<!-- 5504103434946777454 -->\n<g id=\"node11\" class=\"node\">\n<title>5504103434946777454</title>\n<polygon fill=\"none\" stroke=\"black\" points=\"659,-108 237,-108 237,-72 659,-72 659,-108\"/>\n<text text-anchor=\"middle\" x=\"448\" y=\"-85\" font-family=\"Helvetica,sans-Serif\" font-size=\"20.00\">ArrowStringConversion(FromMapProjectable)</text>\n</g>\n<!-- 5504103434946777454&#45;&gt;&#45;6375140953804674364 -->\n<g id=\"edge16\" class=\"edge\">\n<title>5504103434946777454&#45;&gt;&#45;6375140953804674364</title>\n<path fill=\"none\" stroke=\"black\" d=\"M555.07,-108.03C620.28,-118.41 703.65,-131.67 770.64,-142.33\"/>\n<polygon fill=\"black\" stroke=\"black\" points=\"770.4,-145.84 780.83,-143.95 771.5,-138.92 770.4,-145.84\"/>\n</g>\n<!-- 4377465894132741212 -->\n<g id=\"node12\" class=\"node\">\n<title>4377465894132741212</title>\n<polygon fill=\"none\" stroke=\"black\" points=\"549.5,-36 346.5,-36 346.5,0 549.5,0 549.5,-36\"/>\n<text text-anchor=\"middle\" x=\"448\" y=\"-13\" font-family=\"Helvetica,sans-Serif\" font-size=\"20.00\">FromMapProjectable</text>\n</g>\n<!-- 4377465894132741212&#45;&gt;5504103434946777454 -->\n<g id=\"edge17\" class=\"edge\">\n<title>4377465894132741212&#45;&gt;5504103434946777454</title>\n<path fill=\"none\" stroke=\"black\" d=\"M448,-36.3C448,-44.02 448,-53.29 448,-61.89\"/>\n<polygon fill=\"black\" stroke=\"black\" points=\"444.5,-61.9 448,-71.9 451.5,-61.9 444.5,-61.9\"/>\n</g>\n<!-- &#45;5840785429802486183 -->\n<g id=\"node13\" class=\"node\">\n<title>&#45;5840785429802486183</title>\n<polygon fill=\"none\" stroke=\"black\" points=\"1099,-108 677,-108 677,-72 1099,-72 1099,-108\"/>\n<text text-anchor=\"middle\" x=\"888\" y=\"-85\" font-family=\"Helvetica,sans-Serif\" font-size=\"20.00\">ArrowStringConversion(FromMapProjectable)</text>\n</g>\n<!-- &#45;5840785429802486183&#45;&gt;&#45;6375140953804674364 -->\n<g id=\"edge14\" class=\"edge\">\n<title>&#45;5840785429802486183&#45;&gt;&#45;6375140953804674364</title>\n<path fill=\"none\" stroke=\"black\" d=\"M888,-108.3C888,-116.02 888,-125.29 888,-133.89\"/>\n<polygon fill=\"black\" stroke=\"black\" points=\"884.5,-133.9 888,-143.9 891.5,-133.9 884.5,-133.9\"/>\n</g>\n<!-- 1321210710490427569 -->\n<g id=\"node14\" class=\"node\">\n<title>1321210710490427569</title>\n<polygon fill=\"none\" stroke=\"black\" points=\"989.5,-36 786.5,-36 786.5,0 989.5,0 989.5,-36\"/>\n<text text-anchor=\"middle\" x=\"888\" y=\"-13\" font-family=\"Helvetica,sans-Serif\" font-size=\"20.00\">FromMapProjectable</text>\n</g>\n<!-- 1321210710490427569&#45;&gt;&#45;5840785429802486183 -->\n<g id=\"edge18\" class=\"edge\">\n<title>1321210710490427569&#45;&gt;&#45;5840785429802486183</title>\n<path fill=\"none\" stroke=\"black\" d=\"M888,-36.3C888,-44.02 888,-53.29 888,-61.89\"/>\n<polygon fill=\"black\" stroke=\"black\" points=\"884.5,-61.9 888,-71.9 891.5,-61.9 884.5,-61.9\"/>\n</g>\n<!-- &#45;3404716624042837604 -->\n<g id=\"node15\" class=\"node\">\n<title>&#45;3404716624042837604</title>\n<polygon fill=\"none\" stroke=\"black\" points=\"1539,-108 1117,-108 1117,-72 1539,-72 1539,-108\"/>\n<text text-anchor=\"middle\" x=\"1328\" y=\"-85\" font-family=\"Helvetica,sans-Serif\" font-size=\"20.00\">ArrowStringConversion(FromMapProjectable)</text>\n</g>\n<!-- &#45;3404716624042837604&#45;&gt;&#45;6375140953804674364 -->\n<g id=\"edge15\" class=\"edge\">\n<title>&#45;3404716624042837604&#45;&gt;&#45;6375140953804674364</title>\n<path fill=\"none\" stroke=\"black\" d=\"M1220.93,-108.03C1155.72,-118.41 1072.35,-131.67 1005.36,-142.33\"/>\n<polygon fill=\"black\" stroke=\"black\" points=\"1004.5,-138.92 995.17,-143.95 1005.6,-145.84 1004.5,-138.92\"/>\n</g>\n<!-- 4584290751872923151 -->\n<g id=\"node16\" class=\"node\">\n<title>4584290751872923151</title>\n<polygon fill=\"none\" stroke=\"black\" points=\"1429.5,-36 1226.5,-36 1226.5,0 1429.5,0 1429.5,-36\"/>\n<text text-anchor=\"middle\" x=\"1328\" y=\"-13\" font-family=\"Helvetica,sans-Serif\" font-size=\"20.00\">FromMapProjectable</text>\n</g>\n<!-- 4584290751872923151&#45;&gt;&#45;3404716624042837604 -->\n<g id=\"edge19\" class=\"edge\">\n<title>4584290751872923151&#45;&gt;&#45;3404716624042837604</title>\n<path fill=\"none\" stroke=\"black\" d=\"M1328,-36.3C1328,-44.02 1328,-53.29 1328,-61.89\"/>\n<polygon fill=\"black\" stroke=\"black\" points=\"1324.5,-61.9 1328,-71.9 1331.5,-61.9 1324.5,-61.9\"/>\n</g>\n<!-- 3602002529650512376 -->\n<g id=\"node17\" class=\"node\">\n<title>3602002529650512376</title>\n<polygon fill=\"none\" stroke=\"black\" points=\"725.5,-468 534.5,-468 534.5,-432 725.5,-432 725.5,-468\"/>\n<text text-anchor=\"middle\" x=\"630\" y=\"-445\" font-family=\"Helvetica,sans-Serif\" font-size=\"20.00\">And(And, Between)</text>\n</g>\n<!-- 3602002529650512376&#45;&gt;&#45;2079202843734985311 -->\n<g id=\"edge10\" class=\"edge\">\n<title>3602002529650512376&#45;&gt;&#45;2079202843734985311</title>\n<path fill=\"none\" stroke=\"black\" d=\"M630,-468.3C630,-476.02 630,-485.29 630,-493.89\"/>\n<polygon fill=\"black\" stroke=\"black\" points=\"626.5,-493.9 630,-503.9 633.5,-493.9 626.5,-493.9\"/>\n</g>\n<!-- &#45;8056029584495689832 -->\n<g id=\"node18\" class=\"node\">\n<title>&#45;8056029584495689832</title>\n<polygon fill=\"none\" stroke=\"black\" points=\"630.5,-396 433.5,-396 433.5,-360 630.5,-360 630.5,-396\"/>\n<text text-anchor=\"middle\" x=\"532\" y=\"-373\" font-family=\"Helvetica,sans-Serif\" font-size=\"20.00\">Between(Projection)</text>\n</g>\n<!-- &#45;8056029584495689832&#45;&gt;3602002529650512376 -->\n<g id=\"edge20\" class=\"edge\">\n<title>&#45;8056029584495689832&#45;&gt;3602002529650512376</title>\n<path fill=\"none\" stroke=\"black\" d=\"M555.97,-396.12C568.55,-405.11 584.13,-416.24 597.75,-425.97\"/>\n<polygon fill=\"black\" stroke=\"black\" points=\"595.76,-428.85 605.93,-431.81 599.83,-423.15 595.76,-428.85\"/>\n</g>\n<!-- &#45;427630265869428854&#45;&gt;&#45;8056029584495689832 -->\n<g id=\"edge22\" class=\"edge\">\n<title>&#45;427630265869428854&#45;&gt;&#45;8056029584495689832</title>\n<path fill=\"none\" stroke=\"black\" d=\"M532,-252.13C532,-276.33 532,-320.79 532,-349.61\"/>\n<polygon fill=\"black\" stroke=\"black\" points=\"528.5,-349.81 532,-359.81 535.5,-349.81 528.5,-349.81\"/>\n</g>\n<!-- &#45;7775109803159707269 -->\n<g id=\"node20\" class=\"node\">\n<title>&#45;7775109803159707269</title>\n<polygon fill=\"none\" stroke=\"black\" points=\"881.5,-396 648.5,-396 648.5,-360 881.5,-360 881.5,-396\"/>\n<text text-anchor=\"middle\" x=\"765\" y=\"-373\" font-family=\"Helvetica,sans-Serif\" font-size=\"20.00\">And(Between, Between)</text>\n</g>\n<!-- &#45;7775109803159707269&#45;&gt;3602002529650512376 -->\n<g id=\"edge21\" class=\"edge\">\n<title>&#45;7775109803159707269&#45;&gt;3602002529650512376</title>\n<path fill=\"none\" stroke=\"black\" d=\"M731.98,-396.12C713.92,-405.49 691.35,-417.19 672.05,-427.2\"/>\n<polygon fill=\"black\" stroke=\"black\" points=\"670.42,-424.1 663.15,-431.81 673.64,-430.31 670.42,-424.1\"/>\n</g>\n<!-- &#45;7655431703708495128 -->\n<g id=\"node21\" class=\"node\">\n<title>&#45;7655431703708495128</title>\n<polygon fill=\"none\" stroke=\"black\" points=\"924.5,-324 727.5,-324 727.5,-288 924.5,-288 924.5,-324\"/>\n<text text-anchor=\"middle\" x=\"826\" y=\"-301\" font-family=\"Helvetica,sans-Serif\" font-size=\"20.00\">Between(Projection)</text>\n</g>\n<!-- &#45;7655431703708495128&#45;&gt;&#45;7775109803159707269 -->\n<g id=\"edge24\" class=\"edge\">\n<title>&#45;7655431703708495128&#45;&gt;&#45;7775109803159707269</title>\n<path fill=\"none\" stroke=\"black\" d=\"M810.92,-324.3C803.61,-332.7 794.69,-342.93 786.66,-352.14\"/>\n<polygon fill=\"black\" stroke=\"black\" points=\"783.84,-350.06 779.91,-359.9 789.11,-354.66 783.84,-350.06\"/>\n</g>\n<!-- &#45;6420515070749762936&#45;&gt;&#45;7655431703708495128 -->\n<g id=\"edge26\" class=\"edge\">\n<title>&#45;6420515070749762936&#45;&gt;&#45;7655431703708495128</title>\n<path fill=\"none\" stroke=\"black\" d=\"M872.67,-252.3C865.24,-260.7 856.18,-270.93 848.02,-280.14\"/>\n<polygon fill=\"black\" stroke=\"black\" points=\"845.16,-278.09 841.15,-287.9 850.4,-282.73 845.16,-278.09\"/>\n</g>\n<!-- &#45;673051040590657105 -->\n<g id=\"node23\" class=\"node\">\n<title>&#45;673051040590657105</title>\n<polygon fill=\"none\" stroke=\"black\" points=\"1209.5,-324 1012.5,-324 1012.5,-288 1209.5,-288 1209.5,-324\"/>\n<text text-anchor=\"middle\" x=\"1111\" y=\"-301\" font-family=\"Helvetica,sans-Serif\" font-size=\"20.00\">Between(Projection)</text>\n</g>\n<!-- &#45;673051040590657105&#45;&gt;&#45;7775109803159707269 -->\n<g id=\"edge25\" class=\"edge\">\n<title>&#45;673051040590657105&#45;&gt;&#45;7775109803159707269</title>\n<path fill=\"none\" stroke=\"black\" d=\"M1026.8,-324.03C976.16,-334.28 911.58,-347.34 859.24,-357.93\"/>\n<polygon fill=\"black\" stroke=\"black\" points=\"858.38,-354.54 849.28,-359.95 859.77,-361.4 858.38,-354.54\"/>\n</g>\n<!-- &#45;4756056280725299959&#45;&gt;&#45;673051040590657105 -->\n<g id=\"edge28\" class=\"edge\">\n<title>&#45;4756056280725299959&#45;&gt;&#45;673051040590657105</title>\n<path fill=\"none\" stroke=\"black\" d=\"M1209.2,-252.12C1191.89,-261.45 1170.28,-273.08 1151.74,-283.06\"/>\n<polygon fill=\"black\" stroke=\"black\" points=\"1150.07,-279.99 1142.92,-287.81 1153.39,-286.15 1150.07,-279.99\"/>\n</g>\n<!-- 8486113959324949196&#45;&gt;&#45;8620532804962729575 -->\n<g id=\"edge9\" class=\"edge\">\n<title>8486113959324949196&#45;&gt;&#45;8620532804962729575</title>\n<path fill=\"none\" stroke=\"black\" d=\"M1391.41,-396.06C1252.27,-435.24 910.51,-531.47 762.37,-573.18\"/>\n<polygon fill=\"black\" stroke=\"black\" points=\"761.15,-569.89 752.47,-575.97 763.05,-576.63 761.15,-569.89\"/>\n</g>\n<!-- 6961253737896916948 -->\n<g id=\"node26\" class=\"node\">\n<title>6961253737896916948</title>\n<polygon fill=\"none\" stroke=\"black\" points=\"1044.5,-756 847.5,-756 847.5,-720 1044.5,-720 1044.5,-756\"/>\n<text text-anchor=\"middle\" x=\"946\" y=\"-733\" font-family=\"Helvetica,sans-Serif\" font-size=\"20.00\">Between(Projection)</text>\n</g>\n<!-- 6961253737896916948&#45;&gt;7055521407777098904 -->\n<g id=\"edge4\" class=\"edge\">\n<title>6961253737896916948&#45;&gt;7055521407777098904</title>\n<path fill=\"none\" stroke=\"black\" d=\"M884.19,-756.03C847.93,-766.03 801.94,-778.7 764.04,-789.15\"/>\n<polygon fill=\"black\" stroke=\"black\" points=\"762.8,-785.86 754.09,-791.89 764.66,-792.61 762.8,-785.86\"/>\n</g>\n<!-- &#45;2660134930933115823&#45;&gt;6961253737896916948 -->\n<g id=\"edge31\" class=\"edge\">\n<title>&#45;2660134930933115823&#45;&gt;6961253737896916948</title>\n<path fill=\"none\" stroke=\"black\" d=\"M975.36,-684.3C970.87,-692.36 965.44,-702.11 960.48,-711.02\"/>\n<polygon fill=\"black\" stroke=\"black\" points=\"957.34,-709.46 955.53,-719.9 963.45,-712.86 957.34,-709.46\"/>\n</g>\n</g>\n</svg>\n",
            "text/plain": [
              "<graphviz.graphs.Digraph at 0x78cdd8df4410>"
            ]
          },
          "metadata": {},
          "execution_count": 45
        }
      ],
      "source": [
        "pickup_coord_dataset.visualize()"
      ]
    },
    {
      "cell_type": "code",
      "execution_count": 46,
      "id": "ef37b912-f0de-4807-8c83-e1acb4f7c667",
      "metadata": {
        "colab": {
          "base_uri": "https://localhost:8080/"
        },
        "id": "ef37b912-f0de-4807-8c83-e1acb4f7c667",
        "outputId": "40ae411b-6d0a-4c8b-efd1-5830be4641fc"
      },
      "outputs": [
        {
          "output_type": "stream",
          "name": "stdout",
          "text": [
            "Shape of the dataset is  (602669, 2)\n"
          ]
        }
      ],
      "source": [
        "# form the dataset\n",
        "\n",
        "pickup_coord_dataset = df_final.loc[:,['pickup_latitude','pickup_longitude']].compute()\n",
        "\n",
        "print(\"Shape of the dataset is \", pickup_coord_dataset.shape)"
      ]
    },
    {
      "cell_type": "code",
      "execution_count": 47,
      "id": "d7659753-ceec-41a7-a936-dbe1536b0d9a",
      "metadata": {
        "colab": {
          "base_uri": "https://localhost:8080/",
          "height": 424
        },
        "id": "d7659753-ceec-41a7-a936-dbe1536b0d9a",
        "outputId": "8f916575-4939-475e-fbe9-1c22fe7d65ea"
      },
      "outputs": [
        {
          "output_type": "execute_result",
          "data": {
            "text/plain": [
              "        pickup_latitude  pickup_longitude\n",
              "0             40.734695        -73.990372\n",
              "1             40.729912        -73.980782\n",
              "2             40.679565        -73.984550\n",
              "3             40.718990        -73.993469\n",
              "4             40.781330        -73.960625\n",
              "...                 ...               ...\n",
              "207586        40.741402        -74.001503\n",
              "207587        40.774063        -73.874641\n",
              "207588        40.778908        -73.977814\n",
              "207589        40.791370        -73.976181\n",
              "207590        40.765114        -73.975250\n",
              "\n",
              "[602669 rows x 2 columns]"
            ],
            "text/html": [
              "\n",
              "  <div id=\"df-c23b73f5-9dfb-43ad-a84e-6be24e61e502\" class=\"colab-df-container\">\n",
              "    <div>\n",
              "<style scoped>\n",
              "    .dataframe tbody tr th:only-of-type {\n",
              "        vertical-align: middle;\n",
              "    }\n",
              "\n",
              "    .dataframe tbody tr th {\n",
              "        vertical-align: top;\n",
              "    }\n",
              "\n",
              "    .dataframe thead th {\n",
              "        text-align: right;\n",
              "    }\n",
              "</style>\n",
              "<table border=\"1\" class=\"dataframe\">\n",
              "  <thead>\n",
              "    <tr style=\"text-align: right;\">\n",
              "      <th></th>\n",
              "      <th>pickup_latitude</th>\n",
              "      <th>pickup_longitude</th>\n",
              "    </tr>\n",
              "  </thead>\n",
              "  <tbody>\n",
              "    <tr>\n",
              "      <th>0</th>\n",
              "      <td>40.734695</td>\n",
              "      <td>-73.990372</td>\n",
              "    </tr>\n",
              "    <tr>\n",
              "      <th>1</th>\n",
              "      <td>40.729912</td>\n",
              "      <td>-73.980782</td>\n",
              "    </tr>\n",
              "    <tr>\n",
              "      <th>2</th>\n",
              "      <td>40.679565</td>\n",
              "      <td>-73.984550</td>\n",
              "    </tr>\n",
              "    <tr>\n",
              "      <th>3</th>\n",
              "      <td>40.718990</td>\n",
              "      <td>-73.993469</td>\n",
              "    </tr>\n",
              "    <tr>\n",
              "      <th>4</th>\n",
              "      <td>40.781330</td>\n",
              "      <td>-73.960625</td>\n",
              "    </tr>\n",
              "    <tr>\n",
              "      <th>...</th>\n",
              "      <td>...</td>\n",
              "      <td>...</td>\n",
              "    </tr>\n",
              "    <tr>\n",
              "      <th>207586</th>\n",
              "      <td>40.741402</td>\n",
              "      <td>-74.001503</td>\n",
              "    </tr>\n",
              "    <tr>\n",
              "      <th>207587</th>\n",
              "      <td>40.774063</td>\n",
              "      <td>-73.874641</td>\n",
              "    </tr>\n",
              "    <tr>\n",
              "      <th>207588</th>\n",
              "      <td>40.778908</td>\n",
              "      <td>-73.977814</td>\n",
              "    </tr>\n",
              "    <tr>\n",
              "      <th>207589</th>\n",
              "      <td>40.791370</td>\n",
              "      <td>-73.976181</td>\n",
              "    </tr>\n",
              "    <tr>\n",
              "      <th>207590</th>\n",
              "      <td>40.765114</td>\n",
              "      <td>-73.975250</td>\n",
              "    </tr>\n",
              "  </tbody>\n",
              "</table>\n",
              "<p>602669 rows × 2 columns</p>\n",
              "</div>\n",
              "    <div class=\"colab-df-buttons\">\n",
              "\n",
              "  <div class=\"colab-df-container\">\n",
              "    <button class=\"colab-df-convert\" onclick=\"convertToInteractive('df-c23b73f5-9dfb-43ad-a84e-6be24e61e502')\"\n",
              "            title=\"Convert this dataframe to an interactive table.\"\n",
              "            style=\"display:none;\">\n",
              "\n",
              "  <svg xmlns=\"http://www.w3.org/2000/svg\" height=\"24px\" viewBox=\"0 -960 960 960\">\n",
              "    <path d=\"M120-120v-720h720v720H120Zm60-500h600v-160H180v160Zm220 220h160v-160H400v160Zm0 220h160v-160H400v160ZM180-400h160v-160H180v160Zm440 0h160v-160H620v160ZM180-180h160v-160H180v160Zm440 0h160v-160H620v160Z\"/>\n",
              "  </svg>\n",
              "    </button>\n",
              "\n",
              "  <style>\n",
              "    .colab-df-container {\n",
              "      display:flex;\n",
              "      gap: 12px;\n",
              "    }\n",
              "\n",
              "    .colab-df-convert {\n",
              "      background-color: #E8F0FE;\n",
              "      border: none;\n",
              "      border-radius: 50%;\n",
              "      cursor: pointer;\n",
              "      display: none;\n",
              "      fill: #1967D2;\n",
              "      height: 32px;\n",
              "      padding: 0 0 0 0;\n",
              "      width: 32px;\n",
              "    }\n",
              "\n",
              "    .colab-df-convert:hover {\n",
              "      background-color: #E2EBFA;\n",
              "      box-shadow: 0px 1px 2px rgba(60, 64, 67, 0.3), 0px 1px 3px 1px rgba(60, 64, 67, 0.15);\n",
              "      fill: #174EA6;\n",
              "    }\n",
              "\n",
              "    .colab-df-buttons div {\n",
              "      margin-bottom: 4px;\n",
              "    }\n",
              "\n",
              "    [theme=dark] .colab-df-convert {\n",
              "      background-color: #3B4455;\n",
              "      fill: #D2E3FC;\n",
              "    }\n",
              "\n",
              "    [theme=dark] .colab-df-convert:hover {\n",
              "      background-color: #434B5C;\n",
              "      box-shadow: 0px 1px 3px 1px rgba(0, 0, 0, 0.15);\n",
              "      filter: drop-shadow(0px 1px 2px rgba(0, 0, 0, 0.3));\n",
              "      fill: #FFFFFF;\n",
              "    }\n",
              "  </style>\n",
              "\n",
              "    <script>\n",
              "      const buttonEl =\n",
              "        document.querySelector('#df-c23b73f5-9dfb-43ad-a84e-6be24e61e502 button.colab-df-convert');\n",
              "      buttonEl.style.display =\n",
              "        google.colab.kernel.accessAllowed ? 'block' : 'none';\n",
              "\n",
              "      async function convertToInteractive(key) {\n",
              "        const element = document.querySelector('#df-c23b73f5-9dfb-43ad-a84e-6be24e61e502');\n",
              "        const dataTable =\n",
              "          await google.colab.kernel.invokeFunction('convertToInteractive',\n",
              "                                                    [key], {});\n",
              "        if (!dataTable) return;\n",
              "\n",
              "        const docLinkHtml = 'Like what you see? Visit the ' +\n",
              "          '<a target=\"_blank\" href=https://colab.research.google.com/notebooks/data_table.ipynb>data table notebook</a>'\n",
              "          + ' to learn more about interactive tables.';\n",
              "        element.innerHTML = '';\n",
              "        dataTable['output_type'] = 'display_data';\n",
              "        await google.colab.output.renderOutput(dataTable, element);\n",
              "        const docLink = document.createElement('div');\n",
              "        docLink.innerHTML = docLinkHtml;\n",
              "        element.appendChild(docLink);\n",
              "      }\n",
              "    </script>\n",
              "  </div>\n",
              "\n",
              "\n",
              "    <div id=\"df-f8a2b79d-057e-484e-bfa4-875175485cef\">\n",
              "      <button class=\"colab-df-quickchart\" onclick=\"quickchart('df-f8a2b79d-057e-484e-bfa4-875175485cef')\"\n",
              "                title=\"Suggest charts\"\n",
              "                style=\"display:none;\">\n",
              "\n",
              "<svg xmlns=\"http://www.w3.org/2000/svg\" height=\"24px\"viewBox=\"0 0 24 24\"\n",
              "     width=\"24px\">\n",
              "    <g>\n",
              "        <path d=\"M19 3H5c-1.1 0-2 .9-2 2v14c0 1.1.9 2 2 2h14c1.1 0 2-.9 2-2V5c0-1.1-.9-2-2-2zM9 17H7v-7h2v7zm4 0h-2V7h2v10zm4 0h-2v-4h2v4z\"/>\n",
              "    </g>\n",
              "</svg>\n",
              "      </button>\n",
              "\n",
              "<style>\n",
              "  .colab-df-quickchart {\n",
              "      --bg-color: #E8F0FE;\n",
              "      --fill-color: #1967D2;\n",
              "      --hover-bg-color: #E2EBFA;\n",
              "      --hover-fill-color: #174EA6;\n",
              "      --disabled-fill-color: #AAA;\n",
              "      --disabled-bg-color: #DDD;\n",
              "  }\n",
              "\n",
              "  [theme=dark] .colab-df-quickchart {\n",
              "      --bg-color: #3B4455;\n",
              "      --fill-color: #D2E3FC;\n",
              "      --hover-bg-color: #434B5C;\n",
              "      --hover-fill-color: #FFFFFF;\n",
              "      --disabled-bg-color: #3B4455;\n",
              "      --disabled-fill-color: #666;\n",
              "  }\n",
              "\n",
              "  .colab-df-quickchart {\n",
              "    background-color: var(--bg-color);\n",
              "    border: none;\n",
              "    border-radius: 50%;\n",
              "    cursor: pointer;\n",
              "    display: none;\n",
              "    fill: var(--fill-color);\n",
              "    height: 32px;\n",
              "    padding: 0;\n",
              "    width: 32px;\n",
              "  }\n",
              "\n",
              "  .colab-df-quickchart:hover {\n",
              "    background-color: var(--hover-bg-color);\n",
              "    box-shadow: 0 1px 2px rgba(60, 64, 67, 0.3), 0 1px 3px 1px rgba(60, 64, 67, 0.15);\n",
              "    fill: var(--button-hover-fill-color);\n",
              "  }\n",
              "\n",
              "  .colab-df-quickchart-complete:disabled,\n",
              "  .colab-df-quickchart-complete:disabled:hover {\n",
              "    background-color: var(--disabled-bg-color);\n",
              "    fill: var(--disabled-fill-color);\n",
              "    box-shadow: none;\n",
              "  }\n",
              "\n",
              "  .colab-df-spinner {\n",
              "    border: 2px solid var(--fill-color);\n",
              "    border-color: transparent;\n",
              "    border-bottom-color: var(--fill-color);\n",
              "    animation:\n",
              "      spin 1s steps(1) infinite;\n",
              "  }\n",
              "\n",
              "  @keyframes spin {\n",
              "    0% {\n",
              "      border-color: transparent;\n",
              "      border-bottom-color: var(--fill-color);\n",
              "      border-left-color: var(--fill-color);\n",
              "    }\n",
              "    20% {\n",
              "      border-color: transparent;\n",
              "      border-left-color: var(--fill-color);\n",
              "      border-top-color: var(--fill-color);\n",
              "    }\n",
              "    30% {\n",
              "      border-color: transparent;\n",
              "      border-left-color: var(--fill-color);\n",
              "      border-top-color: var(--fill-color);\n",
              "      border-right-color: var(--fill-color);\n",
              "    }\n",
              "    40% {\n",
              "      border-color: transparent;\n",
              "      border-right-color: var(--fill-color);\n",
              "      border-top-color: var(--fill-color);\n",
              "    }\n",
              "    60% {\n",
              "      border-color: transparent;\n",
              "      border-right-color: var(--fill-color);\n",
              "    }\n",
              "    80% {\n",
              "      border-color: transparent;\n",
              "      border-right-color: var(--fill-color);\n",
              "      border-bottom-color: var(--fill-color);\n",
              "    }\n",
              "    90% {\n",
              "      border-color: transparent;\n",
              "      border-bottom-color: var(--fill-color);\n",
              "    }\n",
              "  }\n",
              "</style>\n",
              "\n",
              "      <script>\n",
              "        async function quickchart(key) {\n",
              "          const quickchartButtonEl =\n",
              "            document.querySelector('#' + key + ' button');\n",
              "          quickchartButtonEl.disabled = true;  // To prevent multiple clicks.\n",
              "          quickchartButtonEl.classList.add('colab-df-spinner');\n",
              "          try {\n",
              "            const charts = await google.colab.kernel.invokeFunction(\n",
              "                'suggestCharts', [key], {});\n",
              "          } catch (error) {\n",
              "            console.error('Error during call to suggestCharts:', error);\n",
              "          }\n",
              "          quickchartButtonEl.classList.remove('colab-df-spinner');\n",
              "          quickchartButtonEl.classList.add('colab-df-quickchart-complete');\n",
              "        }\n",
              "        (() => {\n",
              "          let quickchartButtonEl =\n",
              "            document.querySelector('#df-f8a2b79d-057e-484e-bfa4-875175485cef button');\n",
              "          quickchartButtonEl.style.display =\n",
              "            google.colab.kernel.accessAllowed ? 'block' : 'none';\n",
              "        })();\n",
              "      </script>\n",
              "    </div>\n",
              "\n",
              "  <div id=\"id_215977d7-5e9f-43e0-93f9-21ee807d8663\">\n",
              "    <style>\n",
              "      .colab-df-generate {\n",
              "        background-color: #E8F0FE;\n",
              "        border: none;\n",
              "        border-radius: 50%;\n",
              "        cursor: pointer;\n",
              "        display: none;\n",
              "        fill: #1967D2;\n",
              "        height: 32px;\n",
              "        padding: 0 0 0 0;\n",
              "        width: 32px;\n",
              "      }\n",
              "\n",
              "      .colab-df-generate:hover {\n",
              "        background-color: #E2EBFA;\n",
              "        box-shadow: 0px 1px 2px rgba(60, 64, 67, 0.3), 0px 1px 3px 1px rgba(60, 64, 67, 0.15);\n",
              "        fill: #174EA6;\n",
              "      }\n",
              "\n",
              "      [theme=dark] .colab-df-generate {\n",
              "        background-color: #3B4455;\n",
              "        fill: #D2E3FC;\n",
              "      }\n",
              "\n",
              "      [theme=dark] .colab-df-generate:hover {\n",
              "        background-color: #434B5C;\n",
              "        box-shadow: 0px 1px 3px 1px rgba(0, 0, 0, 0.15);\n",
              "        filter: drop-shadow(0px 1px 2px rgba(0, 0, 0, 0.3));\n",
              "        fill: #FFFFFF;\n",
              "      }\n",
              "    </style>\n",
              "    <button class=\"colab-df-generate\" onclick=\"generateWithVariable('pickup_coord_dataset')\"\n",
              "            title=\"Generate code using this dataframe.\"\n",
              "            style=\"display:none;\">\n",
              "\n",
              "  <svg xmlns=\"http://www.w3.org/2000/svg\" height=\"24px\"viewBox=\"0 0 24 24\"\n",
              "       width=\"24px\">\n",
              "    <path d=\"M7,19H8.4L18.45,9,17,7.55,7,17.6ZM5,21V16.75L18.45,3.32a2,2,0,0,1,2.83,0l1.4,1.43a1.91,1.91,0,0,1,.58,1.4,1.91,1.91,0,0,1-.58,1.4L9.25,21ZM18.45,9,17,7.55Zm-12,3A5.31,5.31,0,0,0,4.9,8.1,5.31,5.31,0,0,0,1,6.5,5.31,5.31,0,0,0,4.9,4.9,5.31,5.31,0,0,0,6.5,1,5.31,5.31,0,0,0,8.1,4.9,5.31,5.31,0,0,0,12,6.5,5.46,5.46,0,0,0,6.5,12Z\"/>\n",
              "  </svg>\n",
              "    </button>\n",
              "    <script>\n",
              "      (() => {\n",
              "      const buttonEl =\n",
              "        document.querySelector('#id_215977d7-5e9f-43e0-93f9-21ee807d8663 button.colab-df-generate');\n",
              "      buttonEl.style.display =\n",
              "        google.colab.kernel.accessAllowed ? 'block' : 'none';\n",
              "\n",
              "      buttonEl.onclick = () => {\n",
              "        google.colab.notebook.generateWithVariable('pickup_coord_dataset');\n",
              "      }\n",
              "      })();\n",
              "    </script>\n",
              "  </div>\n",
              "\n",
              "    </div>\n",
              "  </div>\n"
            ],
            "application/vnd.google.colaboratory.intrinsic+json": {
              "type": "dataframe",
              "variable_name": "pickup_coord_dataset"
            }
          },
          "metadata": {},
          "execution_count": 47
        }
      ],
      "source": [
        "pickup_coord_dataset"
      ]
    },
    {
      "cell_type": "code",
      "execution_count": 51,
      "id": "0ed8f1b0-38cb-4a5a-9cff-647b38ee879f",
      "metadata": {
        "id": "0ed8f1b0-38cb-4a5a-9cff-647b38ee879f"
      },
      "outputs": [],
      "source": [
        "# Save with a new file name to avoid conflicts\n",
        "pickup_coord_dataset.to_csv('/content/location_data_v2.csv', index=False)\n"
      ]
    }
  ],
  "metadata": {
    "kernelspec": {
      "display_name": "Python 3 (ipykernel)",
      "language": "python",
      "name": "python3"
    },
    "language_info": {
      "codemirror_mode": {
        "name": "ipython",
        "version": 3
      },
      "file_extension": ".py",
      "mimetype": "text/x-python",
      "name": "python",
      "nbconvert_exporter": "python",
      "pygments_lexer": "ipython3",
      "version": "3.12.8"
    },
    "colab": {
      "provenance": []
    }
  },
  "nbformat": 4,
  "nbformat_minor": 5
}